{
  "nbformat": 4,
  "nbformat_minor": 0,
  "metadata": {
    "colab": {
      "provenance": [],
      "collapsed_sections": [],
      "authorship_tag": "ABX9TyPeCW20l+QKTsBf4oruUmOy",
      "include_colab_link": true
    },
    "kernelspec": {
      "name": "python3",
      "display_name": "Python 3"
    },
    "language_info": {
      "name": "python"
    },
    "accelerator": "GPU"
  },
  "cells": [
    {
      "cell_type": "markdown",
      "metadata": {
        "id": "view-in-github",
        "colab_type": "text"
      },
      "source": [
        "<a href=\"https://colab.research.google.com/github/utkarshtambe10/stroke-prediction/blob/main/Stroke_Prediction.ipynb\" target=\"_parent\"><img src=\"https://colab.research.google.com/assets/colab-badge.svg\" alt=\"Open In Colab\"/></a>"
      ]
    },
    {
      "cell_type": "code",
      "execution_count": 1,
      "metadata": {
        "id": "gHL6fVQq90AX"
      },
      "outputs": [],
      "source": [
        "import warnings\n",
        "warnings.filterwarnings('ignore')\n"
      ]
    },
    {
      "cell_type": "markdown",
      "source": [
        "#Mounting GDrive"
      ],
      "metadata": {
        "id": "0UQRyduF_O3L"
      }
    },
    {
      "cell_type": "code",
      "source": [
        "#downloading/importing dataset from google drive\n",
        "from google.colab import drive\n",
        "drive.mount('/content/drive/')\n"
      ],
      "metadata": {
        "colab": {
          "base_uri": "https://localhost:8080/"
        },
        "id": "2hCqf99P_LqB",
        "outputId": "605dd94c-200d-4692-c393-ae70eba6dd2a"
      },
      "execution_count": 2,
      "outputs": [
        {
          "output_type": "stream",
          "name": "stdout",
          "text": [
            "Mounted at /content/drive/\n"
          ]
        }
      ]
    },
    {
      "cell_type": "markdown",
      "source": [
        "#Importing Required Libraries"
      ],
      "metadata": {
        "id": "H6JBJYrC_Tf3"
      }
    },
    {
      "cell_type": "code",
      "source": [
        "import pandas as pd\n",
        "import matplotlib.pyplot as plt\n",
        "%matplotlib inline\n",
        "import seaborn as sns\n",
        "import io\n"
      ],
      "metadata": {
        "id": "Tn258H_g_SJ-"
      },
      "execution_count": 3,
      "outputs": []
    },
    {
      "cell_type": "markdown",
      "source": [
        "#Importing Datasets"
      ],
      "metadata": {
        "id": "xAGogpLb_5Vs"
      }
    },
    {
      "cell_type": "code",
      "source": [
        "data = pd.read_csv(\"/content/drive/MyDrive/Stroke_Dataset/healthcare-dataset-stroke-data.csv\")\n",
        "data\n"
      ],
      "metadata": {
        "colab": {
          "base_uri": "https://localhost:8080/",
          "height": 557
        },
        "id": "Vlcs4ldP_jbm",
        "outputId": "77fef623-0b65-4e86-e57c-d857c0482725"
      },
      "execution_count": 4,
      "outputs": [
        {
          "output_type": "execute_result",
          "data": {
            "text/plain": [
              "         id  gender   age  hypertension  heart_disease ever_married  \\\n",
              "0      9046    Male  67.0             0              1          Yes   \n",
              "1     51676  Female  61.0             0              0          Yes   \n",
              "2     31112    Male  80.0             0              1          Yes   \n",
              "3     60182  Female  49.0             0              0          Yes   \n",
              "4      1665  Female  79.0             1              0          Yes   \n",
              "...     ...     ...   ...           ...            ...          ...   \n",
              "5105  18234  Female  80.0             1              0          Yes   \n",
              "5106  44873  Female  81.0             0              0          Yes   \n",
              "5107  19723  Female  35.0             0              0          Yes   \n",
              "5108  37544    Male  51.0             0              0          Yes   \n",
              "5109  44679  Female  44.0             0              0          Yes   \n",
              "\n",
              "          work_type Residence_type  avg_glucose_level   bmi   smoking_status  \\\n",
              "0           Private          Urban             228.69  36.6  formerly smoked   \n",
              "1     Self-employed          Rural             202.21   NaN     never smoked   \n",
              "2           Private          Rural             105.92  32.5     never smoked   \n",
              "3           Private          Urban             171.23  34.4           smokes   \n",
              "4     Self-employed          Rural             174.12  24.0     never smoked   \n",
              "...             ...            ...                ...   ...              ...   \n",
              "5105        Private          Urban              83.75   NaN     never smoked   \n",
              "5106  Self-employed          Urban             125.20  40.0     never smoked   \n",
              "5107  Self-employed          Rural              82.99  30.6     never smoked   \n",
              "5108        Private          Rural             166.29  25.6  formerly smoked   \n",
              "5109       Govt_job          Urban              85.28  26.2          Unknown   \n",
              "\n",
              "      stroke  \n",
              "0          1  \n",
              "1          1  \n",
              "2          1  \n",
              "3          1  \n",
              "4          1  \n",
              "...      ...  \n",
              "5105       0  \n",
              "5106       0  \n",
              "5107       0  \n",
              "5108       0  \n",
              "5109       0  \n",
              "\n",
              "[5110 rows x 12 columns]"
            ],
            "text/html": [
              "\n",
              "  <div id=\"df-ab4d8ab3-5468-444e-aed3-dcc642afc2ea\">\n",
              "    <div class=\"colab-df-container\">\n",
              "      <div>\n",
              "<style scoped>\n",
              "    .dataframe tbody tr th:only-of-type {\n",
              "        vertical-align: middle;\n",
              "    }\n",
              "\n",
              "    .dataframe tbody tr th {\n",
              "        vertical-align: top;\n",
              "    }\n",
              "\n",
              "    .dataframe thead th {\n",
              "        text-align: right;\n",
              "    }\n",
              "</style>\n",
              "<table border=\"1\" class=\"dataframe\">\n",
              "  <thead>\n",
              "    <tr style=\"text-align: right;\">\n",
              "      <th></th>\n",
              "      <th>id</th>\n",
              "      <th>gender</th>\n",
              "      <th>age</th>\n",
              "      <th>hypertension</th>\n",
              "      <th>heart_disease</th>\n",
              "      <th>ever_married</th>\n",
              "      <th>work_type</th>\n",
              "      <th>Residence_type</th>\n",
              "      <th>avg_glucose_level</th>\n",
              "      <th>bmi</th>\n",
              "      <th>smoking_status</th>\n",
              "      <th>stroke</th>\n",
              "    </tr>\n",
              "  </thead>\n",
              "  <tbody>\n",
              "    <tr>\n",
              "      <th>0</th>\n",
              "      <td>9046</td>\n",
              "      <td>Male</td>\n",
              "      <td>67.0</td>\n",
              "      <td>0</td>\n",
              "      <td>1</td>\n",
              "      <td>Yes</td>\n",
              "      <td>Private</td>\n",
              "      <td>Urban</td>\n",
              "      <td>228.69</td>\n",
              "      <td>36.6</td>\n",
              "      <td>formerly smoked</td>\n",
              "      <td>1</td>\n",
              "    </tr>\n",
              "    <tr>\n",
              "      <th>1</th>\n",
              "      <td>51676</td>\n",
              "      <td>Female</td>\n",
              "      <td>61.0</td>\n",
              "      <td>0</td>\n",
              "      <td>0</td>\n",
              "      <td>Yes</td>\n",
              "      <td>Self-employed</td>\n",
              "      <td>Rural</td>\n",
              "      <td>202.21</td>\n",
              "      <td>NaN</td>\n",
              "      <td>never smoked</td>\n",
              "      <td>1</td>\n",
              "    </tr>\n",
              "    <tr>\n",
              "      <th>2</th>\n",
              "      <td>31112</td>\n",
              "      <td>Male</td>\n",
              "      <td>80.0</td>\n",
              "      <td>0</td>\n",
              "      <td>1</td>\n",
              "      <td>Yes</td>\n",
              "      <td>Private</td>\n",
              "      <td>Rural</td>\n",
              "      <td>105.92</td>\n",
              "      <td>32.5</td>\n",
              "      <td>never smoked</td>\n",
              "      <td>1</td>\n",
              "    </tr>\n",
              "    <tr>\n",
              "      <th>3</th>\n",
              "      <td>60182</td>\n",
              "      <td>Female</td>\n",
              "      <td>49.0</td>\n",
              "      <td>0</td>\n",
              "      <td>0</td>\n",
              "      <td>Yes</td>\n",
              "      <td>Private</td>\n",
              "      <td>Urban</td>\n",
              "      <td>171.23</td>\n",
              "      <td>34.4</td>\n",
              "      <td>smokes</td>\n",
              "      <td>1</td>\n",
              "    </tr>\n",
              "    <tr>\n",
              "      <th>4</th>\n",
              "      <td>1665</td>\n",
              "      <td>Female</td>\n",
              "      <td>79.0</td>\n",
              "      <td>1</td>\n",
              "      <td>0</td>\n",
              "      <td>Yes</td>\n",
              "      <td>Self-employed</td>\n",
              "      <td>Rural</td>\n",
              "      <td>174.12</td>\n",
              "      <td>24.0</td>\n",
              "      <td>never smoked</td>\n",
              "      <td>1</td>\n",
              "    </tr>\n",
              "    <tr>\n",
              "      <th>...</th>\n",
              "      <td>...</td>\n",
              "      <td>...</td>\n",
              "      <td>...</td>\n",
              "      <td>...</td>\n",
              "      <td>...</td>\n",
              "      <td>...</td>\n",
              "      <td>...</td>\n",
              "      <td>...</td>\n",
              "      <td>...</td>\n",
              "      <td>...</td>\n",
              "      <td>...</td>\n",
              "      <td>...</td>\n",
              "    </tr>\n",
              "    <tr>\n",
              "      <th>5105</th>\n",
              "      <td>18234</td>\n",
              "      <td>Female</td>\n",
              "      <td>80.0</td>\n",
              "      <td>1</td>\n",
              "      <td>0</td>\n",
              "      <td>Yes</td>\n",
              "      <td>Private</td>\n",
              "      <td>Urban</td>\n",
              "      <td>83.75</td>\n",
              "      <td>NaN</td>\n",
              "      <td>never smoked</td>\n",
              "      <td>0</td>\n",
              "    </tr>\n",
              "    <tr>\n",
              "      <th>5106</th>\n",
              "      <td>44873</td>\n",
              "      <td>Female</td>\n",
              "      <td>81.0</td>\n",
              "      <td>0</td>\n",
              "      <td>0</td>\n",
              "      <td>Yes</td>\n",
              "      <td>Self-employed</td>\n",
              "      <td>Urban</td>\n",
              "      <td>125.20</td>\n",
              "      <td>40.0</td>\n",
              "      <td>never smoked</td>\n",
              "      <td>0</td>\n",
              "    </tr>\n",
              "    <tr>\n",
              "      <th>5107</th>\n",
              "      <td>19723</td>\n",
              "      <td>Female</td>\n",
              "      <td>35.0</td>\n",
              "      <td>0</td>\n",
              "      <td>0</td>\n",
              "      <td>Yes</td>\n",
              "      <td>Self-employed</td>\n",
              "      <td>Rural</td>\n",
              "      <td>82.99</td>\n",
              "      <td>30.6</td>\n",
              "      <td>never smoked</td>\n",
              "      <td>0</td>\n",
              "    </tr>\n",
              "    <tr>\n",
              "      <th>5108</th>\n",
              "      <td>37544</td>\n",
              "      <td>Male</td>\n",
              "      <td>51.0</td>\n",
              "      <td>0</td>\n",
              "      <td>0</td>\n",
              "      <td>Yes</td>\n",
              "      <td>Private</td>\n",
              "      <td>Rural</td>\n",
              "      <td>166.29</td>\n",
              "      <td>25.6</td>\n",
              "      <td>formerly smoked</td>\n",
              "      <td>0</td>\n",
              "    </tr>\n",
              "    <tr>\n",
              "      <th>5109</th>\n",
              "      <td>44679</td>\n",
              "      <td>Female</td>\n",
              "      <td>44.0</td>\n",
              "      <td>0</td>\n",
              "      <td>0</td>\n",
              "      <td>Yes</td>\n",
              "      <td>Govt_job</td>\n",
              "      <td>Urban</td>\n",
              "      <td>85.28</td>\n",
              "      <td>26.2</td>\n",
              "      <td>Unknown</td>\n",
              "      <td>0</td>\n",
              "    </tr>\n",
              "  </tbody>\n",
              "</table>\n",
              "<p>5110 rows × 12 columns</p>\n",
              "</div>\n",
              "      <button class=\"colab-df-convert\" onclick=\"convertToInteractive('df-ab4d8ab3-5468-444e-aed3-dcc642afc2ea')\"\n",
              "              title=\"Convert this dataframe to an interactive table.\"\n",
              "              style=\"display:none;\">\n",
              "        \n",
              "  <svg xmlns=\"http://www.w3.org/2000/svg\" height=\"24px\"viewBox=\"0 0 24 24\"\n",
              "       width=\"24px\">\n",
              "    <path d=\"M0 0h24v24H0V0z\" fill=\"none\"/>\n",
              "    <path d=\"M18.56 5.44l.94 2.06.94-2.06 2.06-.94-2.06-.94-.94-2.06-.94 2.06-2.06.94zm-11 1L8.5 8.5l.94-2.06 2.06-.94-2.06-.94L8.5 2.5l-.94 2.06-2.06.94zm10 10l.94 2.06.94-2.06 2.06-.94-2.06-.94-.94-2.06-.94 2.06-2.06.94z\"/><path d=\"M17.41 7.96l-1.37-1.37c-.4-.4-.92-.59-1.43-.59-.52 0-1.04.2-1.43.59L10.3 9.45l-7.72 7.72c-.78.78-.78 2.05 0 2.83L4 21.41c.39.39.9.59 1.41.59.51 0 1.02-.2 1.41-.59l7.78-7.78 2.81-2.81c.8-.78.8-2.07 0-2.86zM5.41 20L4 18.59l7.72-7.72 1.47 1.35L5.41 20z\"/>\n",
              "  </svg>\n",
              "      </button>\n",
              "      \n",
              "  <style>\n",
              "    .colab-df-container {\n",
              "      display:flex;\n",
              "      flex-wrap:wrap;\n",
              "      gap: 12px;\n",
              "    }\n",
              "\n",
              "    .colab-df-convert {\n",
              "      background-color: #E8F0FE;\n",
              "      border: none;\n",
              "      border-radius: 50%;\n",
              "      cursor: pointer;\n",
              "      display: none;\n",
              "      fill: #1967D2;\n",
              "      height: 32px;\n",
              "      padding: 0 0 0 0;\n",
              "      width: 32px;\n",
              "    }\n",
              "\n",
              "    .colab-df-convert:hover {\n",
              "      background-color: #E2EBFA;\n",
              "      box-shadow: 0px 1px 2px rgba(60, 64, 67, 0.3), 0px 1px 3px 1px rgba(60, 64, 67, 0.15);\n",
              "      fill: #174EA6;\n",
              "    }\n",
              "\n",
              "    [theme=dark] .colab-df-convert {\n",
              "      background-color: #3B4455;\n",
              "      fill: #D2E3FC;\n",
              "    }\n",
              "\n",
              "    [theme=dark] .colab-df-convert:hover {\n",
              "      background-color: #434B5C;\n",
              "      box-shadow: 0px 1px 3px 1px rgba(0, 0, 0, 0.15);\n",
              "      filter: drop-shadow(0px 1px 2px rgba(0, 0, 0, 0.3));\n",
              "      fill: #FFFFFF;\n",
              "    }\n",
              "  </style>\n",
              "\n",
              "      <script>\n",
              "        const buttonEl =\n",
              "          document.querySelector('#df-ab4d8ab3-5468-444e-aed3-dcc642afc2ea button.colab-df-convert');\n",
              "        buttonEl.style.display =\n",
              "          google.colab.kernel.accessAllowed ? 'block' : 'none';\n",
              "\n",
              "        async function convertToInteractive(key) {\n",
              "          const element = document.querySelector('#df-ab4d8ab3-5468-444e-aed3-dcc642afc2ea');\n",
              "          const dataTable =\n",
              "            await google.colab.kernel.invokeFunction('convertToInteractive',\n",
              "                                                     [key], {});\n",
              "          if (!dataTable) return;\n",
              "\n",
              "          const docLinkHtml = 'Like what you see? Visit the ' +\n",
              "            '<a target=\"_blank\" href=https://colab.research.google.com/notebooks/data_table.ipynb>data table notebook</a>'\n",
              "            + ' to learn more about interactive tables.';\n",
              "          element.innerHTML = '';\n",
              "          dataTable['output_type'] = 'display_data';\n",
              "          await google.colab.output.renderOutput(dataTable, element);\n",
              "          const docLink = document.createElement('div');\n",
              "          docLink.innerHTML = docLinkHtml;\n",
              "          element.appendChild(docLink);\n",
              "        }\n",
              "      </script>\n",
              "    </div>\n",
              "  </div>\n",
              "  "
            ]
          },
          "metadata": {},
          "execution_count": 4
        }
      ]
    },
    {
      "cell_type": "markdown",
      "source": [
        "#Data Preparation"
      ],
      "metadata": {
        "id": "fLGe0sNQAkyx"
      }
    },
    {
      "cell_type": "markdown",
      "source": [
        "Exploratory Data Analysis"
      ],
      "metadata": {
        "id": "Dvt3NjXwAn2G"
      }
    },
    {
      "cell_type": "code",
      "source": [
        "data.shape"
      ],
      "metadata": {
        "colab": {
          "base_uri": "https://localhost:8080/"
        },
        "id": "YhahuNzEEWjp",
        "outputId": "e113287d-5354-4585-e2c6-49ce3057a0b7"
      },
      "execution_count": 5,
      "outputs": [
        {
          "output_type": "execute_result",
          "data": {
            "text/plain": [
              "(5110, 12)"
            ]
          },
          "metadata": {},
          "execution_count": 5
        }
      ]
    },
    {
      "cell_type": "code",
      "source": [
        "print(data.info())"
      ],
      "metadata": {
        "colab": {
          "base_uri": "https://localhost:8080/"
        },
        "id": "JLhX5VZdAnPn",
        "outputId": "1fed4856-46d2-4a8e-c505-5b603e5b73d8"
      },
      "execution_count": 6,
      "outputs": [
        {
          "output_type": "stream",
          "name": "stdout",
          "text": [
            "<class 'pandas.core.frame.DataFrame'>\n",
            "RangeIndex: 5110 entries, 0 to 5109\n",
            "Data columns (total 12 columns):\n",
            " #   Column             Non-Null Count  Dtype  \n",
            "---  ------             --------------  -----  \n",
            " 0   id                 5110 non-null   int64  \n",
            " 1   gender             5110 non-null   object \n",
            " 2   age                5110 non-null   float64\n",
            " 3   hypertension       5110 non-null   int64  \n",
            " 4   heart_disease      5110 non-null   int64  \n",
            " 5   ever_married       5110 non-null   object \n",
            " 6   work_type          5110 non-null   object \n",
            " 7   Residence_type     5110 non-null   object \n",
            " 8   avg_glucose_level  5110 non-null   float64\n",
            " 9   bmi                4909 non-null   float64\n",
            " 10  smoking_status     5110 non-null   object \n",
            " 11  stroke             5110 non-null   int64  \n",
            "dtypes: float64(3), int64(4), object(5)\n",
            "memory usage: 479.2+ KB\n",
            "None\n"
          ]
        }
      ]
    },
    {
      "cell_type": "code",
      "source": [
        "data.isnull().sum()"
      ],
      "metadata": {
        "colab": {
          "base_uri": "https://localhost:8080/"
        },
        "id": "FQ6xkGEFEB2t",
        "outputId": "97a56e92-f675-4e4a-f423-993bc9809b81"
      },
      "execution_count": 7,
      "outputs": [
        {
          "output_type": "execute_result",
          "data": {
            "text/plain": [
              "id                     0\n",
              "gender                 0\n",
              "age                    0\n",
              "hypertension           0\n",
              "heart_disease          0\n",
              "ever_married           0\n",
              "work_type              0\n",
              "Residence_type         0\n",
              "avg_glucose_level      0\n",
              "bmi                  201\n",
              "smoking_status         0\n",
              "stroke                 0\n",
              "dtype: int64"
            ]
          },
          "metadata": {},
          "execution_count": 7
        }
      ]
    },
    {
      "cell_type": "markdown",
      "source": [
        "Handling Missing Values"
      ],
      "metadata": {
        "id": "tMwV9L4uEQrl"
      }
    },
    {
      "cell_type": "code",
      "source": [
        "data['bmi'].value_counts()  #gives value of bmi per record"
      ],
      "metadata": {
        "colab": {
          "base_uri": "https://localhost:8080/"
        },
        "id": "Hs881PGMEN-Z",
        "outputId": "e5e6e9c4-fdb1-419d-c4db-2767e91c3688"
      },
      "execution_count": 8,
      "outputs": [
        {
          "output_type": "execute_result",
          "data": {
            "text/plain": [
              "28.7    41\n",
              "28.4    38\n",
              "26.7    37\n",
              "27.6    37\n",
              "26.1    37\n",
              "        ..\n",
              "48.7     1\n",
              "49.2     1\n",
              "51.0     1\n",
              "49.4     1\n",
              "14.9     1\n",
              "Name: bmi, Length: 418, dtype: int64"
            ]
          },
          "metadata": {},
          "execution_count": 8
        }
      ]
    },
    {
      "cell_type": "code",
      "source": [
        "data['bmi'].describe()  #gives mathematical calculations of specified column"
      ],
      "metadata": {
        "colab": {
          "base_uri": "https://localhost:8080/"
        },
        "id": "PfZmAvdAGgkT",
        "outputId": "069ba27c-57c3-463e-aa8a-7819cec4a8d5"
      },
      "execution_count": 9,
      "outputs": [
        {
          "output_type": "execute_result",
          "data": {
            "text/plain": [
              "count    4909.000000\n",
              "mean       28.893237\n",
              "std         7.854067\n",
              "min        10.300000\n",
              "25%        23.500000\n",
              "50%        28.100000\n",
              "75%        33.100000\n",
              "max        97.600000\n",
              "Name: bmi, dtype: float64"
            ]
          },
          "metadata": {},
          "execution_count": 9
        }
      ]
    },
    {
      "cell_type": "code",
      "source": [
        "data['bmi'].fillna(data['bmi'].mean(), inplace = True)"
      ],
      "metadata": {
        "id": "xg6a-0_SGx_8"
      },
      "execution_count": 10,
      "outputs": []
    },
    {
      "cell_type": "code",
      "source": [
        "data['bmi'].describe()"
      ],
      "metadata": {
        "colab": {
          "base_uri": "https://localhost:8080/"
        },
        "id": "pEznDOeJHhz_",
        "outputId": "c1f963aa-c4e9-44fd-97fd-ab38619f6472"
      },
      "execution_count": 11,
      "outputs": [
        {
          "output_type": "execute_result",
          "data": {
            "text/plain": [
              "count    5110.000000\n",
              "mean       28.893237\n",
              "std         7.698018\n",
              "min        10.300000\n",
              "25%        23.800000\n",
              "50%        28.400000\n",
              "75%        32.800000\n",
              "max        97.600000\n",
              "Name: bmi, dtype: float64"
            ]
          },
          "metadata": {},
          "execution_count": 11
        }
      ]
    },
    {
      "cell_type": "markdown",
      "source": [
        "Feature Selection"
      ],
      "metadata": {
        "id": "H_-SC-vaHyFO"
      }
    },
    {
      "cell_type": "code",
      "source": [
        "data.drop('id', axis = 1, inplace = True)  #axis = 1 means column"
      ],
      "metadata": {
        "id": "U1BhHnEyHmVk"
      },
      "execution_count": 12,
      "outputs": []
    },
    {
      "cell_type": "code",
      "source": [
        "data"
      ],
      "metadata": {
        "colab": {
          "base_uri": "https://localhost:8080/",
          "height": 557
        },
        "id": "al2cwUPqIzPS",
        "outputId": "2102a866-5ece-4000-f2c5-8457ec2bfa22"
      },
      "execution_count": 13,
      "outputs": [
        {
          "output_type": "execute_result",
          "data": {
            "text/plain": [
              "      gender   age  hypertension  heart_disease ever_married      work_type  \\\n",
              "0       Male  67.0             0              1          Yes        Private   \n",
              "1     Female  61.0             0              0          Yes  Self-employed   \n",
              "2       Male  80.0             0              1          Yes        Private   \n",
              "3     Female  49.0             0              0          Yes        Private   \n",
              "4     Female  79.0             1              0          Yes  Self-employed   \n",
              "...      ...   ...           ...            ...          ...            ...   \n",
              "5105  Female  80.0             1              0          Yes        Private   \n",
              "5106  Female  81.0             0              0          Yes  Self-employed   \n",
              "5107  Female  35.0             0              0          Yes  Self-employed   \n",
              "5108    Male  51.0             0              0          Yes        Private   \n",
              "5109  Female  44.0             0              0          Yes       Govt_job   \n",
              "\n",
              "     Residence_type  avg_glucose_level        bmi   smoking_status  stroke  \n",
              "0             Urban             228.69  36.600000  formerly smoked       1  \n",
              "1             Rural             202.21  28.893237     never smoked       1  \n",
              "2             Rural             105.92  32.500000     never smoked       1  \n",
              "3             Urban             171.23  34.400000           smokes       1  \n",
              "4             Rural             174.12  24.000000     never smoked       1  \n",
              "...             ...                ...        ...              ...     ...  \n",
              "5105          Urban              83.75  28.893237     never smoked       0  \n",
              "5106          Urban             125.20  40.000000     never smoked       0  \n",
              "5107          Rural              82.99  30.600000     never smoked       0  \n",
              "5108          Rural             166.29  25.600000  formerly smoked       0  \n",
              "5109          Urban              85.28  26.200000          Unknown       0  \n",
              "\n",
              "[5110 rows x 11 columns]"
            ],
            "text/html": [
              "\n",
              "  <div id=\"df-4468a9c8-01af-43ba-82c9-2dde14b4c594\">\n",
              "    <div class=\"colab-df-container\">\n",
              "      <div>\n",
              "<style scoped>\n",
              "    .dataframe tbody tr th:only-of-type {\n",
              "        vertical-align: middle;\n",
              "    }\n",
              "\n",
              "    .dataframe tbody tr th {\n",
              "        vertical-align: top;\n",
              "    }\n",
              "\n",
              "    .dataframe thead th {\n",
              "        text-align: right;\n",
              "    }\n",
              "</style>\n",
              "<table border=\"1\" class=\"dataframe\">\n",
              "  <thead>\n",
              "    <tr style=\"text-align: right;\">\n",
              "      <th></th>\n",
              "      <th>gender</th>\n",
              "      <th>age</th>\n",
              "      <th>hypertension</th>\n",
              "      <th>heart_disease</th>\n",
              "      <th>ever_married</th>\n",
              "      <th>work_type</th>\n",
              "      <th>Residence_type</th>\n",
              "      <th>avg_glucose_level</th>\n",
              "      <th>bmi</th>\n",
              "      <th>smoking_status</th>\n",
              "      <th>stroke</th>\n",
              "    </tr>\n",
              "  </thead>\n",
              "  <tbody>\n",
              "    <tr>\n",
              "      <th>0</th>\n",
              "      <td>Male</td>\n",
              "      <td>67.0</td>\n",
              "      <td>0</td>\n",
              "      <td>1</td>\n",
              "      <td>Yes</td>\n",
              "      <td>Private</td>\n",
              "      <td>Urban</td>\n",
              "      <td>228.69</td>\n",
              "      <td>36.600000</td>\n",
              "      <td>formerly smoked</td>\n",
              "      <td>1</td>\n",
              "    </tr>\n",
              "    <tr>\n",
              "      <th>1</th>\n",
              "      <td>Female</td>\n",
              "      <td>61.0</td>\n",
              "      <td>0</td>\n",
              "      <td>0</td>\n",
              "      <td>Yes</td>\n",
              "      <td>Self-employed</td>\n",
              "      <td>Rural</td>\n",
              "      <td>202.21</td>\n",
              "      <td>28.893237</td>\n",
              "      <td>never smoked</td>\n",
              "      <td>1</td>\n",
              "    </tr>\n",
              "    <tr>\n",
              "      <th>2</th>\n",
              "      <td>Male</td>\n",
              "      <td>80.0</td>\n",
              "      <td>0</td>\n",
              "      <td>1</td>\n",
              "      <td>Yes</td>\n",
              "      <td>Private</td>\n",
              "      <td>Rural</td>\n",
              "      <td>105.92</td>\n",
              "      <td>32.500000</td>\n",
              "      <td>never smoked</td>\n",
              "      <td>1</td>\n",
              "    </tr>\n",
              "    <tr>\n",
              "      <th>3</th>\n",
              "      <td>Female</td>\n",
              "      <td>49.0</td>\n",
              "      <td>0</td>\n",
              "      <td>0</td>\n",
              "      <td>Yes</td>\n",
              "      <td>Private</td>\n",
              "      <td>Urban</td>\n",
              "      <td>171.23</td>\n",
              "      <td>34.400000</td>\n",
              "      <td>smokes</td>\n",
              "      <td>1</td>\n",
              "    </tr>\n",
              "    <tr>\n",
              "      <th>4</th>\n",
              "      <td>Female</td>\n",
              "      <td>79.0</td>\n",
              "      <td>1</td>\n",
              "      <td>0</td>\n",
              "      <td>Yes</td>\n",
              "      <td>Self-employed</td>\n",
              "      <td>Rural</td>\n",
              "      <td>174.12</td>\n",
              "      <td>24.000000</td>\n",
              "      <td>never smoked</td>\n",
              "      <td>1</td>\n",
              "    </tr>\n",
              "    <tr>\n",
              "      <th>...</th>\n",
              "      <td>...</td>\n",
              "      <td>...</td>\n",
              "      <td>...</td>\n",
              "      <td>...</td>\n",
              "      <td>...</td>\n",
              "      <td>...</td>\n",
              "      <td>...</td>\n",
              "      <td>...</td>\n",
              "      <td>...</td>\n",
              "      <td>...</td>\n",
              "      <td>...</td>\n",
              "    </tr>\n",
              "    <tr>\n",
              "      <th>5105</th>\n",
              "      <td>Female</td>\n",
              "      <td>80.0</td>\n",
              "      <td>1</td>\n",
              "      <td>0</td>\n",
              "      <td>Yes</td>\n",
              "      <td>Private</td>\n",
              "      <td>Urban</td>\n",
              "      <td>83.75</td>\n",
              "      <td>28.893237</td>\n",
              "      <td>never smoked</td>\n",
              "      <td>0</td>\n",
              "    </tr>\n",
              "    <tr>\n",
              "      <th>5106</th>\n",
              "      <td>Female</td>\n",
              "      <td>81.0</td>\n",
              "      <td>0</td>\n",
              "      <td>0</td>\n",
              "      <td>Yes</td>\n",
              "      <td>Self-employed</td>\n",
              "      <td>Urban</td>\n",
              "      <td>125.20</td>\n",
              "      <td>40.000000</td>\n",
              "      <td>never smoked</td>\n",
              "      <td>0</td>\n",
              "    </tr>\n",
              "    <tr>\n",
              "      <th>5107</th>\n",
              "      <td>Female</td>\n",
              "      <td>35.0</td>\n",
              "      <td>0</td>\n",
              "      <td>0</td>\n",
              "      <td>Yes</td>\n",
              "      <td>Self-employed</td>\n",
              "      <td>Rural</td>\n",
              "      <td>82.99</td>\n",
              "      <td>30.600000</td>\n",
              "      <td>never smoked</td>\n",
              "      <td>0</td>\n",
              "    </tr>\n",
              "    <tr>\n",
              "      <th>5108</th>\n",
              "      <td>Male</td>\n",
              "      <td>51.0</td>\n",
              "      <td>0</td>\n",
              "      <td>0</td>\n",
              "      <td>Yes</td>\n",
              "      <td>Private</td>\n",
              "      <td>Rural</td>\n",
              "      <td>166.29</td>\n",
              "      <td>25.600000</td>\n",
              "      <td>formerly smoked</td>\n",
              "      <td>0</td>\n",
              "    </tr>\n",
              "    <tr>\n",
              "      <th>5109</th>\n",
              "      <td>Female</td>\n",
              "      <td>44.0</td>\n",
              "      <td>0</td>\n",
              "      <td>0</td>\n",
              "      <td>Yes</td>\n",
              "      <td>Govt_job</td>\n",
              "      <td>Urban</td>\n",
              "      <td>85.28</td>\n",
              "      <td>26.200000</td>\n",
              "      <td>Unknown</td>\n",
              "      <td>0</td>\n",
              "    </tr>\n",
              "  </tbody>\n",
              "</table>\n",
              "<p>5110 rows × 11 columns</p>\n",
              "</div>\n",
              "      <button class=\"colab-df-convert\" onclick=\"convertToInteractive('df-4468a9c8-01af-43ba-82c9-2dde14b4c594')\"\n",
              "              title=\"Convert this dataframe to an interactive table.\"\n",
              "              style=\"display:none;\">\n",
              "        \n",
              "  <svg xmlns=\"http://www.w3.org/2000/svg\" height=\"24px\"viewBox=\"0 0 24 24\"\n",
              "       width=\"24px\">\n",
              "    <path d=\"M0 0h24v24H0V0z\" fill=\"none\"/>\n",
              "    <path d=\"M18.56 5.44l.94 2.06.94-2.06 2.06-.94-2.06-.94-.94-2.06-.94 2.06-2.06.94zm-11 1L8.5 8.5l.94-2.06 2.06-.94-2.06-.94L8.5 2.5l-.94 2.06-2.06.94zm10 10l.94 2.06.94-2.06 2.06-.94-2.06-.94-.94-2.06-.94 2.06-2.06.94z\"/><path d=\"M17.41 7.96l-1.37-1.37c-.4-.4-.92-.59-1.43-.59-.52 0-1.04.2-1.43.59L10.3 9.45l-7.72 7.72c-.78.78-.78 2.05 0 2.83L4 21.41c.39.39.9.59 1.41.59.51 0 1.02-.2 1.41-.59l7.78-7.78 2.81-2.81c.8-.78.8-2.07 0-2.86zM5.41 20L4 18.59l7.72-7.72 1.47 1.35L5.41 20z\"/>\n",
              "  </svg>\n",
              "      </button>\n",
              "      \n",
              "  <style>\n",
              "    .colab-df-container {\n",
              "      display:flex;\n",
              "      flex-wrap:wrap;\n",
              "      gap: 12px;\n",
              "    }\n",
              "\n",
              "    .colab-df-convert {\n",
              "      background-color: #E8F0FE;\n",
              "      border: none;\n",
              "      border-radius: 50%;\n",
              "      cursor: pointer;\n",
              "      display: none;\n",
              "      fill: #1967D2;\n",
              "      height: 32px;\n",
              "      padding: 0 0 0 0;\n",
              "      width: 32px;\n",
              "    }\n",
              "\n",
              "    .colab-df-convert:hover {\n",
              "      background-color: #E2EBFA;\n",
              "      box-shadow: 0px 1px 2px rgba(60, 64, 67, 0.3), 0px 1px 3px 1px rgba(60, 64, 67, 0.15);\n",
              "      fill: #174EA6;\n",
              "    }\n",
              "\n",
              "    [theme=dark] .colab-df-convert {\n",
              "      background-color: #3B4455;\n",
              "      fill: #D2E3FC;\n",
              "    }\n",
              "\n",
              "    [theme=dark] .colab-df-convert:hover {\n",
              "      background-color: #434B5C;\n",
              "      box-shadow: 0px 1px 3px 1px rgba(0, 0, 0, 0.15);\n",
              "      filter: drop-shadow(0px 1px 2px rgba(0, 0, 0, 0.3));\n",
              "      fill: #FFFFFF;\n",
              "    }\n",
              "  </style>\n",
              "\n",
              "      <script>\n",
              "        const buttonEl =\n",
              "          document.querySelector('#df-4468a9c8-01af-43ba-82c9-2dde14b4c594 button.colab-df-convert');\n",
              "        buttonEl.style.display =\n",
              "          google.colab.kernel.accessAllowed ? 'block' : 'none';\n",
              "\n",
              "        async function convertToInteractive(key) {\n",
              "          const element = document.querySelector('#df-4468a9c8-01af-43ba-82c9-2dde14b4c594');\n",
              "          const dataTable =\n",
              "            await google.colab.kernel.invokeFunction('convertToInteractive',\n",
              "                                                     [key], {});\n",
              "          if (!dataTable) return;\n",
              "\n",
              "          const docLinkHtml = 'Like what you see? Visit the ' +\n",
              "            '<a target=\"_blank\" href=https://colab.research.google.com/notebooks/data_table.ipynb>data table notebook</a>'\n",
              "            + ' to learn more about interactive tables.';\n",
              "          element.innerHTML = '';\n",
              "          dataTable['output_type'] = 'display_data';\n",
              "          await google.colab.output.renderOutput(dataTable, element);\n",
              "          const docLink = document.createElement('div');\n",
              "          docLink.innerHTML = docLinkHtml;\n",
              "          element.appendChild(docLink);\n",
              "        }\n",
              "      </script>\n",
              "    </div>\n",
              "  </div>\n",
              "  "
            ]
          },
          "metadata": {},
          "execution_count": 13
        }
      ]
    },
    {
      "cell_type": "markdown",
      "source": [
        "Outlier Removal"
      ],
      "metadata": {
        "id": "GMDofc8XI2Kj"
      }
    },
    {
      "cell_type": "code",
      "source": [
        "plt.rcParams['figure.figsize'] = (10, 10)\n",
        "data.plot(kind = 'box')\n",
        "plt.show()\n"
      ],
      "metadata": {
        "colab": {
          "base_uri": "https://localhost:8080/",
          "height": 592
        },
        "id": "f25-Lp-GI3ov",
        "outputId": "2e3c13fa-4f5b-4b25-f0a3-a48c71f2ab89"
      },
      "execution_count": 14,
      "outputs": [
        {
          "output_type": "display_data",
          "data": {
            "text/plain": [
              "<Figure size 720x720 with 1 Axes>"
            ],
            "image/png": "[encoded data removed]"
          },
          "metadata": {
            "needs_background": "light"
          }
        }
      ]
    },
    {
      "cell_type": "code",
      "source": [
        "data['avg_glucose_level'].describe()"
      ],
      "metadata": {
        "colab": {
          "base_uri": "https://localhost:8080/"
        },
        "id": "ltotGNCnMNvQ",
        "outputId": "50c32846-2f4c-443e-aebc-bf3958ba0855"
      },
      "execution_count": 15,
      "outputs": [
        {
          "output_type": "execute_result",
          "data": {
            "text/plain": [
              "count    5110.000000\n",
              "mean      106.147677\n",
              "std        45.283560\n",
              "min        55.120000\n",
              "25%        77.245000\n",
              "50%        91.885000\n",
              "75%       114.090000\n",
              "max       271.740000\n",
              "Name: avg_glucose_level, dtype: float64"
            ]
          },
          "metadata": {},
          "execution_count": 15
        }
      ]
    },
    {
      "cell_type": "markdown",
      "source": [
        "Conclusion is that, many people can happen to have more bmi and avg_glucose_level. So, its better to keep them as it is being the reason to have a stroke"
      ],
      "metadata": {
        "id": "fyYNbl0Ck05m"
      }
    },
    {
      "cell_type": "markdown",
      "source": [
        "Label Encoding"
      ],
      "metadata": {
        "id": "wkHwMM6IlVaW"
      }
    },
    {
      "cell_type": "code",
      "source": [
        "from sklearn.preprocessing import LabelEncoder\n",
        "enc = LabelEncoder()\n"
      ],
      "metadata": {
        "id": "3PxtNhADlPFM"
      },
      "execution_count": 16,
      "outputs": []
    },
    {
      "cell_type": "code",
      "source": [
        "#data['work_type].unique()"
      ],
      "metadata": {
        "id": "klTbIjYaqVLM"
      },
      "execution_count": 17,
      "outputs": []
    },
    {
      "cell_type": "code",
      "source": [
        "gender = enc.fit_transform(data['gender'])  #male - 1 and female - 0\n",
        "smoking_status = enc.fit_transform(data['smoking_status'])  #formerly smoked - 1, never smoked - 2 and smokes - 3\n",
        "work_type = enc.fit_transform(data['work_type'])  #govt_job - 0, children - 1, private - 2 and self employed - 3\n",
        "Residence_type = enc.fit_transform(data['Residence_type'])  #rural - 0 and urban - 1\n",
        "ever_married = enc.fit_transform(data['ever_married'])  #yes - 1 and no - 0"
      ],
      "metadata": {
        "id": "6CLJsMZbnrUu"
      },
      "execution_count": 18,
      "outputs": []
    },
    {
      "cell_type": "code",
      "source": [
        "#(ever_married)"
      ],
      "metadata": {
        "id": "tHBUOJCWo2nw"
      },
      "execution_count": 19,
      "outputs": []
    },
    {
      "cell_type": "code",
      "source": [
        "data['gender'] = gender\n",
        "data['smoking_status'] = smoking_status\n",
        "data['work_type'] = work_type\n",
        "data['Residence_type'] = Residence_type\n",
        "data['ever_married'] = ever_married"
      ],
      "metadata": {
        "id": "dxU7F5OXq3tO"
      },
      "execution_count": 20,
      "outputs": []
    },
    {
      "cell_type": "code",
      "source": [
        "data"
      ],
      "metadata": {
        "colab": {
          "base_uri": "https://localhost:8080/",
          "height": 488
        },
        "id": "qaLyvBQusgoj",
        "outputId": "4e347f1b-1d51-4416-b157-758e97b3cd88"
      },
      "execution_count": 21,
      "outputs": [
        {
          "output_type": "execute_result",
          "data": {
            "text/plain": [
              "      gender   age  hypertension  heart_disease  ever_married  work_type  \\\n",
              "0          1  67.0             0              1             1          2   \n",
              "1          0  61.0             0              0             1          3   \n",
              "2          1  80.0             0              1             1          2   \n",
              "3          0  49.0             0              0             1          2   \n",
              "4          0  79.0             1              0             1          3   \n",
              "...      ...   ...           ...            ...           ...        ...   \n",
              "5105       0  80.0             1              0             1          2   \n",
              "5106       0  81.0             0              0             1          3   \n",
              "5107       0  35.0             0              0             1          3   \n",
              "5108       1  51.0             0              0             1          2   \n",
              "5109       0  44.0             0              0             1          0   \n",
              "\n",
              "      Residence_type  avg_glucose_level        bmi  smoking_status  stroke  \n",
              "0                  1             228.69  36.600000               1       1  \n",
              "1                  0             202.21  28.893237               2       1  \n",
              "2                  0             105.92  32.500000               2       1  \n",
              "3                  1             171.23  34.400000               3       1  \n",
              "4                  0             174.12  24.000000               2       1  \n",
              "...              ...                ...        ...             ...     ...  \n",
              "5105               1              83.75  28.893237               2       0  \n",
              "5106               1             125.20  40.000000               2       0  \n",
              "5107               0              82.99  30.600000               2       0  \n",
              "5108               0             166.29  25.600000               1       0  \n",
              "5109               1              85.28  26.200000               0       0  \n",
              "\n",
              "[5110 rows x 11 columns]"
            ],
            "text/html": [
              "\n",
              "  <div id=\"df-b9c70076-dc58-4d7a-861c-1e5ff3e8f763\">\n",
              "    <div class=\"colab-df-container\">\n",
              "      <div>\n",
              "<style scoped>\n",
              "    .dataframe tbody tr th:only-of-type {\n",
              "        vertical-align: middle;\n",
              "    }\n",
              "\n",
              "    .dataframe tbody tr th {\n",
              "        vertical-align: top;\n",
              "    }\n",
              "\n",
              "    .dataframe thead th {\n",
              "        text-align: right;\n",
              "    }\n",
              "</style>\n",
              "<table border=\"1\" class=\"dataframe\">\n",
              "  <thead>\n",
              "    <tr style=\"text-align: right;\">\n",
              "      <th></th>\n",
              "      <th>gender</th>\n",
              "      <th>age</th>\n",
              "      <th>hypertension</th>\n",
              "      <th>heart_disease</th>\n",
              "      <th>ever_married</th>\n",
              "      <th>work_type</th>\n",
              "      <th>Residence_type</th>\n",
              "      <th>avg_glucose_level</th>\n",
              "      <th>bmi</th>\n",
              "      <th>smoking_status</th>\n",
              "      <th>stroke</th>\n",
              "    </tr>\n",
              "  </thead>\n",
              "  <tbody>\n",
              "    <tr>\n",
              "      <th>0</th>\n",
              "      <td>1</td>\n",
              "      <td>67.0</td>\n",
              "      <td>0</td>\n",
              "      <td>1</td>\n",
              "      <td>1</td>\n",
              "      <td>2</td>\n",
              "      <td>1</td>\n",
              "      <td>228.69</td>\n",
              "      <td>36.600000</td>\n",
              "      <td>1</td>\n",
              "      <td>1</td>\n",
              "    </tr>\n",
              "    <tr>\n",
              "      <th>1</th>\n",
              "      <td>0</td>\n",
              "      <td>61.0</td>\n",
              "      <td>0</td>\n",
              "      <td>0</td>\n",
              "      <td>1</td>\n",
              "      <td>3</td>\n",
              "      <td>0</td>\n",
              "      <td>202.21</td>\n",
              "      <td>28.893237</td>\n",
              "      <td>2</td>\n",
              "      <td>1</td>\n",
              "    </tr>\n",
              "    <tr>\n",
              "      <th>2</th>\n",
              "      <td>1</td>\n",
              "      <td>80.0</td>\n",
              "      <td>0</td>\n",
              "      <td>1</td>\n",
              "      <td>1</td>\n",
              "      <td>2</td>\n",
              "      <td>0</td>\n",
              "      <td>105.92</td>\n",
              "      <td>32.500000</td>\n",
              "      <td>2</td>\n",
              "      <td>1</td>\n",
              "    </tr>\n",
              "    <tr>\n",
              "      <th>3</th>\n",
              "      <td>0</td>\n",
              "      <td>49.0</td>\n",
              "      <td>0</td>\n",
              "      <td>0</td>\n",
              "      <td>1</td>\n",
              "      <td>2</td>\n",
              "      <td>1</td>\n",
              "      <td>171.23</td>\n",
              "      <td>34.400000</td>\n",
              "      <td>3</td>\n",
              "      <td>1</td>\n",
              "    </tr>\n",
              "    <tr>\n",
              "      <th>4</th>\n",
              "      <td>0</td>\n",
              "      <td>79.0</td>\n",
              "      <td>1</td>\n",
              "      <td>0</td>\n",
              "      <td>1</td>\n",
              "      <td>3</td>\n",
              "      <td>0</td>\n",
              "      <td>174.12</td>\n",
              "      <td>24.000000</td>\n",
              "      <td>2</td>\n",
              "      <td>1</td>\n",
              "    </tr>\n",
              "    <tr>\n",
              "      <th>...</th>\n",
              "      <td>...</td>\n",
              "      <td>...</td>\n",
              "      <td>...</td>\n",
              "      <td>...</td>\n",
              "      <td>...</td>\n",
              "      <td>...</td>\n",
              "      <td>...</td>\n",
              "      <td>...</td>\n",
              "      <td>...</td>\n",
              "      <td>...</td>\n",
              "      <td>...</td>\n",
              "    </tr>\n",
              "    <tr>\n",
              "      <th>5105</th>\n",
              "      <td>0</td>\n",
              "      <td>80.0</td>\n",
              "      <td>1</td>\n",
              "      <td>0</td>\n",
              "      <td>1</td>\n",
              "      <td>2</td>\n",
              "      <td>1</td>\n",
              "      <td>83.75</td>\n",
              "      <td>28.893237</td>\n",
              "      <td>2</td>\n",
              "      <td>0</td>\n",
              "    </tr>\n",
              "    <tr>\n",
              "      <th>5106</th>\n",
              "      <td>0</td>\n",
              "      <td>81.0</td>\n",
              "      <td>0</td>\n",
              "      <td>0</td>\n",
              "      <td>1</td>\n",
              "      <td>3</td>\n",
              "      <td>1</td>\n",
              "      <td>125.20</td>\n",
              "      <td>40.000000</td>\n",
              "      <td>2</td>\n",
              "      <td>0</td>\n",
              "    </tr>\n",
              "    <tr>\n",
              "      <th>5107</th>\n",
              "      <td>0</td>\n",
              "      <td>35.0</td>\n",
              "      <td>0</td>\n",
              "      <td>0</td>\n",
              "      <td>1</td>\n",
              "      <td>3</td>\n",
              "      <td>0</td>\n",
              "      <td>82.99</td>\n",
              "      <td>30.600000</td>\n",
              "      <td>2</td>\n",
              "      <td>0</td>\n",
              "    </tr>\n",
              "    <tr>\n",
              "      <th>5108</th>\n",
              "      <td>1</td>\n",
              "      <td>51.0</td>\n",
              "      <td>0</td>\n",
              "      <td>0</td>\n",
              "      <td>1</td>\n",
              "      <td>2</td>\n",
              "      <td>0</td>\n",
              "      <td>166.29</td>\n",
              "      <td>25.600000</td>\n",
              "      <td>1</td>\n",
              "      <td>0</td>\n",
              "    </tr>\n",
              "    <tr>\n",
              "      <th>5109</th>\n",
              "      <td>0</td>\n",
              "      <td>44.0</td>\n",
              "      <td>0</td>\n",
              "      <td>0</td>\n",
              "      <td>1</td>\n",
              "      <td>0</td>\n",
              "      <td>1</td>\n",
              "      <td>85.28</td>\n",
              "      <td>26.200000</td>\n",
              "      <td>0</td>\n",
              "      <td>0</td>\n",
              "    </tr>\n",
              "  </tbody>\n",
              "</table>\n",
              "<p>5110 rows × 11 columns</p>\n",
              "</div>\n",
              "      <button class=\"colab-df-convert\" onclick=\"convertToInteractive('df-b9c70076-dc58-4d7a-861c-1e5ff3e8f763')\"\n",
              "              title=\"Convert this dataframe to an interactive table.\"\n",
              "              style=\"display:none;\">\n",
              "        \n",
              "  <svg xmlns=\"http://www.w3.org/2000/svg\" height=\"24px\"viewBox=\"0 0 24 24\"\n",
              "       width=\"24px\">\n",
              "    <path d=\"M0 0h24v24H0V0z\" fill=\"none\"/>\n",
              "    <path d=\"M18.56 5.44l.94 2.06.94-2.06 2.06-.94-2.06-.94-.94-2.06-.94 2.06-2.06.94zm-11 1L8.5 8.5l.94-2.06 2.06-.94-2.06-.94L8.5 2.5l-.94 2.06-2.06.94zm10 10l.94 2.06.94-2.06 2.06-.94-2.06-.94-.94-2.06-.94 2.06-2.06.94z\"/><path d=\"M17.41 7.96l-1.37-1.37c-.4-.4-.92-.59-1.43-.59-.52 0-1.04.2-1.43.59L10.3 9.45l-7.72 7.72c-.78.78-.78 2.05 0 2.83L4 21.41c.39.39.9.59 1.41.59.51 0 1.02-.2 1.41-.59l7.78-7.78 2.81-2.81c.8-.78.8-2.07 0-2.86zM5.41 20L4 18.59l7.72-7.72 1.47 1.35L5.41 20z\"/>\n",
              "  </svg>\n",
              "      </button>\n",
              "      \n",
              "  <style>\n",
              "    .colab-df-container {\n",
              "      display:flex;\n",
              "      flex-wrap:wrap;\n",
              "      gap: 12px;\n",
              "    }\n",
              "\n",
              "    .colab-df-convert {\n",
              "      background-color: #E8F0FE;\n",
              "      border: none;\n",
              "      border-radius: 50%;\n",
              "      cursor: pointer;\n",
              "      display: none;\n",
              "      fill: #1967D2;\n",
              "      height: 32px;\n",
              "      padding: 0 0 0 0;\n",
              "      width: 32px;\n",
              "    }\n",
              "\n",
              "    .colab-df-convert:hover {\n",
              "      background-color: #E2EBFA;\n",
              "      box-shadow: 0px 1px 2px rgba(60, 64, 67, 0.3), 0px 1px 3px 1px rgba(60, 64, 67, 0.15);\n",
              "      fill: #174EA6;\n",
              "    }\n",
              "\n",
              "    [theme=dark] .colab-df-convert {\n",
              "      background-color: #3B4455;\n",
              "      fill: #D2E3FC;\n",
              "    }\n",
              "\n",
              "    [theme=dark] .colab-df-convert:hover {\n",
              "      background-color: #434B5C;\n",
              "      box-shadow: 0px 1px 3px 1px rgba(0, 0, 0, 0.15);\n",
              "      filter: drop-shadow(0px 1px 2px rgba(0, 0, 0, 0.3));\n",
              "      fill: #FFFFFF;\n",
              "    }\n",
              "  </style>\n",
              "\n",
              "      <script>\n",
              "        const buttonEl =\n",
              "          document.querySelector('#df-b9c70076-dc58-4d7a-861c-1e5ff3e8f763 button.colab-df-convert');\n",
              "        buttonEl.style.display =\n",
              "          google.colab.kernel.accessAllowed ? 'block' : 'none';\n",
              "\n",
              "        async function convertToInteractive(key) {\n",
              "          const element = document.querySelector('#df-b9c70076-dc58-4d7a-861c-1e5ff3e8f763');\n",
              "          const dataTable =\n",
              "            await google.colab.kernel.invokeFunction('convertToInteractive',\n",
              "                                                     [key], {});\n",
              "          if (!dataTable) return;\n",
              "\n",
              "          const docLinkHtml = 'Like what you see? Visit the ' +\n",
              "            '<a target=\"_blank\" href=https://colab.research.google.com/notebooks/data_table.ipynb>data table notebook</a>'\n",
              "            + ' to learn more about interactive tables.';\n",
              "          element.innerHTML = '';\n",
              "          dataTable['output_type'] = 'display_data';\n",
              "          await google.colab.output.renderOutput(dataTable, element);\n",
              "          const docLink = document.createElement('div');\n",
              "          docLink.innerHTML = docLinkHtml;\n",
              "          element.appendChild(docLink);\n",
              "        }\n",
              "      </script>\n",
              "    </div>\n",
              "  </div>\n",
              "  "
            ]
          },
          "metadata": {},
          "execution_count": 21
        }
      ]
    },
    {
      "cell_type": "code",
      "source": [
        "print(data.info())"
      ],
      "metadata": {
        "colab": {
          "base_uri": "https://localhost:8080/"
        },
        "id": "HP4k8VDDsqRp",
        "outputId": "af63af1d-77b4-45ad-9003-04db230fbeb6"
      },
      "execution_count": 22,
      "outputs": [
        {
          "output_type": "stream",
          "name": "stdout",
          "text": [
            "<class 'pandas.core.frame.DataFrame'>\n",
            "RangeIndex: 5110 entries, 0 to 5109\n",
            "Data columns (total 11 columns):\n",
            " #   Column             Non-Null Count  Dtype  \n",
            "---  ------             --------------  -----  \n",
            " 0   gender             5110 non-null   int64  \n",
            " 1   age                5110 non-null   float64\n",
            " 2   hypertension       5110 non-null   int64  \n",
            " 3   heart_disease      5110 non-null   int64  \n",
            " 4   ever_married       5110 non-null   int64  \n",
            " 5   work_type          5110 non-null   int64  \n",
            " 6   Residence_type     5110 non-null   int64  \n",
            " 7   avg_glucose_level  5110 non-null   float64\n",
            " 8   bmi                5110 non-null   float64\n",
            " 9   smoking_status     5110 non-null   int64  \n",
            " 10  stroke             5110 non-null   int64  \n",
            "dtypes: float64(3), int64(8)\n",
            "memory usage: 439.3 KB\n",
            "None\n"
          ]
        }
      ]
    },
    {
      "cell_type": "markdown",
      "source": [
        "Partioning of Dataset i.e. Splitting of dataset\n",
        "* 70% for training\n",
        "* 30% for testing\n",
        "* X(features) ---train_X, test_X\n",
        "* Y(target variable - stroke) ---train_Y, test_Y"
      ],
      "metadata": {
        "id": "DXl65tSyskmB"
      }
    },
    {
      "cell_type": "code",
      "source": [
        "X = data.drop('stroke', axis = 1)  #all data except 'stroke'\n",
        "X.head()"
      ],
      "metadata": {
        "colab": {
          "base_uri": "https://localhost:8080/",
          "height": 270
        },
        "id": "lN8P4JFrvVvn",
        "outputId": "c172e23c-33b2-4fe1-c231-fe1f675eb2ca"
      },
      "execution_count": 23,
      "outputs": [
        {
          "output_type": "execute_result",
          "data": {
            "text/plain": [
              "   gender   age  hypertension  heart_disease  ever_married  work_type  \\\n",
              "0       1  67.0             0              1             1          2   \n",
              "1       0  61.0             0              0             1          3   \n",
              "2       1  80.0             0              1             1          2   \n",
              "3       0  49.0             0              0             1          2   \n",
              "4       0  79.0             1              0             1          3   \n",
              "\n",
              "   Residence_type  avg_glucose_level        bmi  smoking_status  \n",
              "0               1             228.69  36.600000               1  \n",
              "1               0             202.21  28.893237               2  \n",
              "2               0             105.92  32.500000               2  \n",
              "3               1             171.23  34.400000               3  \n",
              "4               0             174.12  24.000000               2  "
            ],
            "text/html": [
              "\n",
              "  <div id=\"df-d4043167-a9c2-4a73-a43b-030e2cae653b\">\n",
              "    <div class=\"colab-df-container\">\n",
              "      <div>\n",
              "<style scoped>\n",
              "    .dataframe tbody tr th:only-of-type {\n",
              "        vertical-align: middle;\n",
              "    }\n",
              "\n",
              "    .dataframe tbody tr th {\n",
              "        vertical-align: top;\n",
              "    }\n",
              "\n",
              "    .dataframe thead th {\n",
              "        text-align: right;\n",
              "    }\n",
              "</style>\n",
              "<table border=\"1\" class=\"dataframe\">\n",
              "  <thead>\n",
              "    <tr style=\"text-align: right;\">\n",
              "      <th></th>\n",
              "      <th>gender</th>\n",
              "      <th>age</th>\n",
              "      <th>hypertension</th>\n",
              "      <th>heart_disease</th>\n",
              "      <th>ever_married</th>\n",
              "      <th>work_type</th>\n",
              "      <th>Residence_type</th>\n",
              "      <th>avg_glucose_level</th>\n",
              "      <th>bmi</th>\n",
              "      <th>smoking_status</th>\n",
              "    </tr>\n",
              "  </thead>\n",
              "  <tbody>\n",
              "    <tr>\n",
              "      <th>0</th>\n",
              "      <td>1</td>\n",
              "      <td>67.0</td>\n",
              "      <td>0</td>\n",
              "      <td>1</td>\n",
              "      <td>1</td>\n",
              "      <td>2</td>\n",
              "      <td>1</td>\n",
              "      <td>228.69</td>\n",
              "      <td>36.600000</td>\n",
              "      <td>1</td>\n",
              "    </tr>\n",
              "    <tr>\n",
              "      <th>1</th>\n",
              "      <td>0</td>\n",
              "      <td>61.0</td>\n",
              "      <td>0</td>\n",
              "      <td>0</td>\n",
              "      <td>1</td>\n",
              "      <td>3</td>\n",
              "      <td>0</td>\n",
              "      <td>202.21</td>\n",
              "      <td>28.893237</td>\n",
              "      <td>2</td>\n",
              "    </tr>\n",
              "    <tr>\n",
              "      <th>2</th>\n",
              "      <td>1</td>\n",
              "      <td>80.0</td>\n",
              "      <td>0</td>\n",
              "      <td>1</td>\n",
              "      <td>1</td>\n",
              "      <td>2</td>\n",
              "      <td>0</td>\n",
              "      <td>105.92</td>\n",
              "      <td>32.500000</td>\n",
              "      <td>2</td>\n",
              "    </tr>\n",
              "    <tr>\n",
              "      <th>3</th>\n",
              "      <td>0</td>\n",
              "      <td>49.0</td>\n",
              "      <td>0</td>\n",
              "      <td>0</td>\n",
              "      <td>1</td>\n",
              "      <td>2</td>\n",
              "      <td>1</td>\n",
              "      <td>171.23</td>\n",
              "      <td>34.400000</td>\n",
              "      <td>3</td>\n",
              "    </tr>\n",
              "    <tr>\n",
              "      <th>4</th>\n",
              "      <td>0</td>\n",
              "      <td>79.0</td>\n",
              "      <td>1</td>\n",
              "      <td>0</td>\n",
              "      <td>1</td>\n",
              "      <td>3</td>\n",
              "      <td>0</td>\n",
              "      <td>174.12</td>\n",
              "      <td>24.000000</td>\n",
              "      <td>2</td>\n",
              "    </tr>\n",
              "  </tbody>\n",
              "</table>\n",
              "</div>\n",
              "      <button class=\"colab-df-convert\" onclick=\"convertToInteractive('df-d4043167-a9c2-4a73-a43b-030e2cae653b')\"\n",
              "              title=\"Convert this dataframe to an interactive table.\"\n",
              "              style=\"display:none;\">\n",
              "        \n",
              "  <svg xmlns=\"http://www.w3.org/2000/svg\" height=\"24px\"viewBox=\"0 0 24 24\"\n",
              "       width=\"24px\">\n",
              "    <path d=\"M0 0h24v24H0V0z\" fill=\"none\"/>\n",
              "    <path d=\"M18.56 5.44l.94 2.06.94-2.06 2.06-.94-2.06-.94-.94-2.06-.94 2.06-2.06.94zm-11 1L8.5 8.5l.94-2.06 2.06-.94-2.06-.94L8.5 2.5l-.94 2.06-2.06.94zm10 10l.94 2.06.94-2.06 2.06-.94-2.06-.94-.94-2.06-.94 2.06-2.06.94z\"/><path d=\"M17.41 7.96l-1.37-1.37c-.4-.4-.92-.59-1.43-.59-.52 0-1.04.2-1.43.59L10.3 9.45l-7.72 7.72c-.78.78-.78 2.05 0 2.83L4 21.41c.39.39.9.59 1.41.59.51 0 1.02-.2 1.41-.59l7.78-7.78 2.81-2.81c.8-.78.8-2.07 0-2.86zM5.41 20L4 18.59l7.72-7.72 1.47 1.35L5.41 20z\"/>\n",
              "  </svg>\n",
              "      </button>\n",
              "      \n",
              "  <style>\n",
              "    .colab-df-container {\n",
              "      display:flex;\n",
              "      flex-wrap:wrap;\n",
              "      gap: 12px;\n",
              "    }\n",
              "\n",
              "    .colab-df-convert {\n",
              "      background-color: #E8F0FE;\n",
              "      border: none;\n",
              "      border-radius: 50%;\n",
              "      cursor: pointer;\n",
              "      display: none;\n",
              "      fill: #1967D2;\n",
              "      height: 32px;\n",
              "      padding: 0 0 0 0;\n",
              "      width: 32px;\n",
              "    }\n",
              "\n",
              "    .colab-df-convert:hover {\n",
              "      background-color: #E2EBFA;\n",
              "      box-shadow: 0px 1px 2px rgba(60, 64, 67, 0.3), 0px 1px 3px 1px rgba(60, 64, 67, 0.15);\n",
              "      fill: #174EA6;\n",
              "    }\n",
              "\n",
              "    [theme=dark] .colab-df-convert {\n",
              "      background-color: #3B4455;\n",
              "      fill: #D2E3FC;\n",
              "    }\n",
              "\n",
              "    [theme=dark] .colab-df-convert:hover {\n",
              "      background-color: #434B5C;\n",
              "      box-shadow: 0px 1px 3px 1px rgba(0, 0, 0, 0.15);\n",
              "      filter: drop-shadow(0px 1px 2px rgba(0, 0, 0, 0.3));\n",
              "      fill: #FFFFFF;\n",
              "    }\n",
              "  </style>\n",
              "\n",
              "      <script>\n",
              "        const buttonEl =\n",
              "          document.querySelector('#df-d4043167-a9c2-4a73-a43b-030e2cae653b button.colab-df-convert');\n",
              "        buttonEl.style.display =\n",
              "          google.colab.kernel.accessAllowed ? 'block' : 'none';\n",
              "\n",
              "        async function convertToInteractive(key) {\n",
              "          const element = document.querySelector('#df-d4043167-a9c2-4a73-a43b-030e2cae653b');\n",
              "          const dataTable =\n",
              "            await google.colab.kernel.invokeFunction('convertToInteractive',\n",
              "                                                     [key], {});\n",
              "          if (!dataTable) return;\n",
              "\n",
              "          const docLinkHtml = 'Like what you see? Visit the ' +\n",
              "            '<a target=\"_blank\" href=https://colab.research.google.com/notebooks/data_table.ipynb>data table notebook</a>'\n",
              "            + ' to learn more about interactive tables.';\n",
              "          element.innerHTML = '';\n",
              "          dataTable['output_type'] = 'display_data';\n",
              "          await google.colab.output.renderOutput(dataTable, element);\n",
              "          const docLink = document.createElement('div');\n",
              "          docLink.innerHTML = docLinkHtml;\n",
              "          element.appendChild(docLink);\n",
              "        }\n",
              "      </script>\n",
              "    </div>\n",
              "  </div>\n",
              "  "
            ]
          },
          "metadata": {},
          "execution_count": 23
        }
      ]
    },
    {
      "cell_type": "code",
      "source": [
        "Y = data['stroke']\n",
        "Y"
      ],
      "metadata": {
        "colab": {
          "base_uri": "https://localhost:8080/"
        },
        "id": "bO2By-6_yQ4w",
        "outputId": "6b5d30e2-260c-460c-a26e-087ac3040ebc"
      },
      "execution_count": 24,
      "outputs": [
        {
          "output_type": "execute_result",
          "data": {
            "text/plain": [
              "0       1\n",
              "1       1\n",
              "2       1\n",
              "3       1\n",
              "4       1\n",
              "       ..\n",
              "5105    0\n",
              "5106    0\n",
              "5107    0\n",
              "5108    0\n",
              "5109    0\n",
              "Name: stroke, Length: 5110, dtype: int64"
            ]
          },
          "metadata": {},
          "execution_count": 24
        }
      ]
    },
    {
      "cell_type": "code",
      "source": [
        "data['stroke'].value_counts()"
      ],
      "metadata": {
        "colab": {
          "base_uri": "https://localhost:8080/"
        },
        "id": "g5QK4EnuBI1Z",
        "outputId": "4d832fc7-752b-4901-d09d-15d702e7ba29"
      },
      "execution_count": 25,
      "outputs": [
        {
          "output_type": "execute_result",
          "data": {
            "text/plain": [
              "0    4861\n",
              "1     249\n",
              "Name: stroke, dtype: int64"
            ]
          },
          "metadata": {},
          "execution_count": 25
        }
      ]
    },
    {
      "cell_type": "code",
      "source": [
        "from sklearn.model_selection import train_test_split\n",
        "X_train, X_test, Y_train, Y_test = train_test_split(X, Y, test_size = 0.3, random_state = 100)\n",
        "\n",
        "from imblearn.over_sampling import SMOTE\n",
        "smote = SMOTE()\n",
        "\n",
        "X_train_balanced, Y_train_balanced = smote.fit_resample(X_train, Y_train)"
      ],
      "metadata": {
        "id": "epYyM-D6sk_J"
      },
      "execution_count": 26,
      "outputs": []
    },
    {
      "cell_type": "markdown",
      "source": [
        "Normalization"
      ],
      "metadata": {
        "id": "ZckNRW84zO4h"
      }
    },
    {
      "cell_type": "code",
      "source": [
        "data.describe()"
      ],
      "metadata": {
        "colab": {
          "base_uri": "https://localhost:8080/",
          "height": 364
        },
        "id": "sowg7X9wzOcP",
        "outputId": "7380aa5c-30a2-49ce-81ea-3effb7b66fe8"
      },
      "execution_count": 27,
      "outputs": [
        {
          "output_type": "execute_result",
          "data": {
            "text/plain": [
              "            gender          age  hypertension  heart_disease  ever_married  \\\n",
              "count  5110.000000  5110.000000   5110.000000    5110.000000   5110.000000   \n",
              "mean      0.414286    43.226614      0.097456       0.054012      0.656164   \n",
              "std       0.493044    22.612647      0.296607       0.226063      0.475034   \n",
              "min       0.000000     0.080000      0.000000       0.000000      0.000000   \n",
              "25%       0.000000    25.000000      0.000000       0.000000      0.000000   \n",
              "50%       0.000000    45.000000      0.000000       0.000000      1.000000   \n",
              "75%       1.000000    61.000000      0.000000       0.000000      1.000000   \n",
              "max       2.000000    82.000000      1.000000       1.000000      1.000000   \n",
              "\n",
              "         work_type  Residence_type  avg_glucose_level          bmi  \\\n",
              "count  5110.000000     5110.000000        5110.000000  5110.000000   \n",
              "mean      2.167710        0.508023         106.147677    28.893237   \n",
              "std       1.090293        0.499985          45.283560     7.698018   \n",
              "min       0.000000        0.000000          55.120000    10.300000   \n",
              "25%       2.000000        0.000000          77.245000    23.800000   \n",
              "50%       2.000000        1.000000          91.885000    28.400000   \n",
              "75%       3.000000        1.000000         114.090000    32.800000   \n",
              "max       4.000000        1.000000         271.740000    97.600000   \n",
              "\n",
              "       smoking_status       stroke  \n",
              "count     5110.000000  5110.000000  \n",
              "mean         1.376908     0.048728  \n",
              "std          1.071534     0.215320  \n",
              "min          0.000000     0.000000  \n",
              "25%          0.000000     0.000000  \n",
              "50%          2.000000     0.000000  \n",
              "75%          2.000000     0.000000  \n",
              "max          3.000000     1.000000  "
            ],
            "text/html": [
              "\n",
              "  <div id=\"df-f66529ae-65cc-46eb-ae5f-dd3a2b6765f2\">\n",
              "    <div class=\"colab-df-container\">\n",
              "      <div>\n",
              "<style scoped>\n",
              "    .dataframe tbody tr th:only-of-type {\n",
              "        vertical-align: middle;\n",
              "    }\n",
              "\n",
              "    .dataframe tbody tr th {\n",
              "        vertical-align: top;\n",
              "    }\n",
              "\n",
              "    .dataframe thead th {\n",
              "        text-align: right;\n",
              "    }\n",
              "</style>\n",
              "<table border=\"1\" class=\"dataframe\">\n",
              "  <thead>\n",
              "    <tr style=\"text-align: right;\">\n",
              "      <th></th>\n",
              "      <th>gender</th>\n",
              "      <th>age</th>\n",
              "      <th>hypertension</th>\n",
              "      <th>heart_disease</th>\n",
              "      <th>ever_married</th>\n",
              "      <th>work_type</th>\n",
              "      <th>Residence_type</th>\n",
              "      <th>avg_glucose_level</th>\n",
              "      <th>bmi</th>\n",
              "      <th>smoking_status</th>\n",
              "      <th>stroke</th>\n",
              "    </tr>\n",
              "  </thead>\n",
              "  <tbody>\n",
              "    <tr>\n",
              "      <th>count</th>\n",
              "      <td>5110.000000</td>\n",
              "      <td>5110.000000</td>\n",
              "      <td>5110.000000</td>\n",
              "      <td>5110.000000</td>\n",
              "      <td>5110.000000</td>\n",
              "      <td>5110.000000</td>\n",
              "      <td>5110.000000</td>\n",
              "      <td>5110.000000</td>\n",
              "      <td>5110.000000</td>\n",
              "      <td>5110.000000</td>\n",
              "      <td>5110.000000</td>\n",
              "    </tr>\n",
              "    <tr>\n",
              "      <th>mean</th>\n",
              "      <td>0.414286</td>\n",
              "      <td>43.226614</td>\n",
              "      <td>0.097456</td>\n",
              "      <td>0.054012</td>\n",
              "      <td>0.656164</td>\n",
              "      <td>2.167710</td>\n",
              "      <td>0.508023</td>\n",
              "      <td>106.147677</td>\n",
              "      <td>28.893237</td>\n",
              "      <td>1.376908</td>\n",
              "      <td>0.048728</td>\n",
              "    </tr>\n",
              "    <tr>\n",
              "      <th>std</th>\n",
              "      <td>0.493044</td>\n",
              "      <td>22.612647</td>\n",
              "      <td>0.296607</td>\n",
              "      <td>0.226063</td>\n",
              "      <td>0.475034</td>\n",
              "      <td>1.090293</td>\n",
              "      <td>0.499985</td>\n",
              "      <td>45.283560</td>\n",
              "      <td>7.698018</td>\n",
              "      <td>1.071534</td>\n",
              "      <td>0.215320</td>\n",
              "    </tr>\n",
              "    <tr>\n",
              "      <th>min</th>\n",
              "      <td>0.000000</td>\n",
              "      <td>0.080000</td>\n",
              "      <td>0.000000</td>\n",
              "      <td>0.000000</td>\n",
              "      <td>0.000000</td>\n",
              "      <td>0.000000</td>\n",
              "      <td>0.000000</td>\n",
              "      <td>55.120000</td>\n",
              "      <td>10.300000</td>\n",
              "      <td>0.000000</td>\n",
              "      <td>0.000000</td>\n",
              "    </tr>\n",
              "    <tr>\n",
              "      <th>25%</th>\n",
              "      <td>0.000000</td>\n",
              "      <td>25.000000</td>\n",
              "      <td>0.000000</td>\n",
              "      <td>0.000000</td>\n",
              "      <td>0.000000</td>\n",
              "      <td>2.000000</td>\n",
              "      <td>0.000000</td>\n",
              "      <td>77.245000</td>\n",
              "      <td>23.800000</td>\n",
              "      <td>0.000000</td>\n",
              "      <td>0.000000</td>\n",
              "    </tr>\n",
              "    <tr>\n",
              "      <th>50%</th>\n",
              "      <td>0.000000</td>\n",
              "      <td>45.000000</td>\n",
              "      <td>0.000000</td>\n",
              "      <td>0.000000</td>\n",
              "      <td>1.000000</td>\n",
              "      <td>2.000000</td>\n",
              "      <td>1.000000</td>\n",
              "      <td>91.885000</td>\n",
              "      <td>28.400000</td>\n",
              "      <td>2.000000</td>\n",
              "      <td>0.000000</td>\n",
              "    </tr>\n",
              "    <tr>\n",
              "      <th>75%</th>\n",
              "      <td>1.000000</td>\n",
              "      <td>61.000000</td>\n",
              "      <td>0.000000</td>\n",
              "      <td>0.000000</td>\n",
              "      <td>1.000000</td>\n",
              "      <td>3.000000</td>\n",
              "      <td>1.000000</td>\n",
              "      <td>114.090000</td>\n",
              "      <td>32.800000</td>\n",
              "      <td>2.000000</td>\n",
              "      <td>0.000000</td>\n",
              "    </tr>\n",
              "    <tr>\n",
              "      <th>max</th>\n",
              "      <td>2.000000</td>\n",
              "      <td>82.000000</td>\n",
              "      <td>1.000000</td>\n",
              "      <td>1.000000</td>\n",
              "      <td>1.000000</td>\n",
              "      <td>4.000000</td>\n",
              "      <td>1.000000</td>\n",
              "      <td>271.740000</td>\n",
              "      <td>97.600000</td>\n",
              "      <td>3.000000</td>\n",
              "      <td>1.000000</td>\n",
              "    </tr>\n",
              "  </tbody>\n",
              "</table>\n",
              "</div>\n",
              "      <button class=\"colab-df-convert\" onclick=\"convertToInteractive('df-f66529ae-65cc-46eb-ae5f-dd3a2b6765f2')\"\n",
              "              title=\"Convert this dataframe to an interactive table.\"\n",
              "              style=\"display:none;\">\n",
              "        \n",
              "  <svg xmlns=\"http://www.w3.org/2000/svg\" height=\"24px\"viewBox=\"0 0 24 24\"\n",
              "       width=\"24px\">\n",
              "    <path d=\"M0 0h24v24H0V0z\" fill=\"none\"/>\n",
              "    <path d=\"M18.56 5.44l.94 2.06.94-2.06 2.06-.94-2.06-.94-.94-2.06-.94 2.06-2.06.94zm-11 1L8.5 8.5l.94-2.06 2.06-.94-2.06-.94L8.5 2.5l-.94 2.06-2.06.94zm10 10l.94 2.06.94-2.06 2.06-.94-2.06-.94-.94-2.06-.94 2.06-2.06.94z\"/><path d=\"M17.41 7.96l-1.37-1.37c-.4-.4-.92-.59-1.43-.59-.52 0-1.04.2-1.43.59L10.3 9.45l-7.72 7.72c-.78.78-.78 2.05 0 2.83L4 21.41c.39.39.9.59 1.41.59.51 0 1.02-.2 1.41-.59l7.78-7.78 2.81-2.81c.8-.78.8-2.07 0-2.86zM5.41 20L4 18.59l7.72-7.72 1.47 1.35L5.41 20z\"/>\n",
              "  </svg>\n",
              "      </button>\n",
              "      \n",
              "  <style>\n",
              "    .colab-df-container {\n",
              "      display:flex;\n",
              "      flex-wrap:wrap;\n",
              "      gap: 12px;\n",
              "    }\n",
              "\n",
              "    .colab-df-convert {\n",
              "      background-color: #E8F0FE;\n",
              "      border: none;\n",
              "      border-radius: 50%;\n",
              "      cursor: pointer;\n",
              "      display: none;\n",
              "      fill: #1967D2;\n",
              "      height: 32px;\n",
              "      padding: 0 0 0 0;\n",
              "      width: 32px;\n",
              "    }\n",
              "\n",
              "    .colab-df-convert:hover {\n",
              "      background-color: #E2EBFA;\n",
              "      box-shadow: 0px 1px 2px rgba(60, 64, 67, 0.3), 0px 1px 3px 1px rgba(60, 64, 67, 0.15);\n",
              "      fill: #174EA6;\n",
              "    }\n",
              "\n",
              "    [theme=dark] .colab-df-convert {\n",
              "      background-color: #3B4455;\n",
              "      fill: #D2E3FC;\n",
              "    }\n",
              "\n",
              "    [theme=dark] .colab-df-convert:hover {\n",
              "      background-color: #434B5C;\n",
              "      box-shadow: 0px 1px 3px 1px rgba(0, 0, 0, 0.15);\n",
              "      filter: drop-shadow(0px 1px 2px rgba(0, 0, 0, 0.3));\n",
              "      fill: #FFFFFF;\n",
              "    }\n",
              "  </style>\n",
              "\n",
              "      <script>\n",
              "        const buttonEl =\n",
              "          document.querySelector('#df-f66529ae-65cc-46eb-ae5f-dd3a2b6765f2 button.colab-df-convert');\n",
              "        buttonEl.style.display =\n",
              "          google.colab.kernel.accessAllowed ? 'block' : 'none';\n",
              "\n",
              "        async function convertToInteractive(key) {\n",
              "          const element = document.querySelector('#df-f66529ae-65cc-46eb-ae5f-dd3a2b6765f2');\n",
              "          const dataTable =\n",
              "            await google.colab.kernel.invokeFunction('convertToInteractive',\n",
              "                                                     [key], {});\n",
              "          if (!dataTable) return;\n",
              "\n",
              "          const docLinkHtml = 'Like what you see? Visit the ' +\n",
              "            '<a target=\"_blank\" href=https://colab.research.google.com/notebooks/data_table.ipynb>data table notebook</a>'\n",
              "            + ' to learn more about interactive tables.';\n",
              "          element.innerHTML = '';\n",
              "          dataTable['output_type'] = 'display_data';\n",
              "          await google.colab.output.renderOutput(dataTable, element);\n",
              "          const docLink = document.createElement('div');\n",
              "          docLink.innerHTML = docLinkHtml;\n",
              "          element.appendChild(docLink);\n",
              "        }\n",
              "      </script>\n",
              "    </div>\n",
              "  </div>\n",
              "  "
            ]
          },
          "metadata": {},
          "execution_count": 27
        }
      ]
    },
    {
      "cell_type": "code",
      "source": [
        "from sklearn.preprocessing import StandardScaler\n",
        "std = StandardScaler()"
      ],
      "metadata": {
        "id": "QyjbIayBzoZa"
      },
      "execution_count": 28,
      "outputs": []
    },
    {
      "cell_type": "code",
      "source": [
        "X_train_std = std.fit_transform(X_train)\n",
        "X_test_std = std.transform(X_test)\n"
      ],
      "metadata": {
        "id": "eGI9CxV1ztyE"
      },
      "execution_count": 29,
      "outputs": []
    },
    {
      "cell_type": "markdown",
      "source": [
        "#Model Training"
      ],
      "metadata": {
        "id": "ZtM5mgDS1Vwu"
      }
    },
    {
      "cell_type": "code",
      "source": [
        "from sklearn.metrics import classification_report, confusion_matrix, roc_curve, auc\n",
        "from sklearn.metrics import roc_auc_score, precision_score, recall_score, f1_score, accuracy_score\n",
        "from sklearn.model_selection import cross_val_score"
      ],
      "metadata": {
        "id": "GWUTrZvH7-5f"
      },
      "execution_count": 30,
      "outputs": []
    },
    {
      "cell_type": "code",
      "source": [
        "results = pd.DataFrame(columns = ['DT', 'LR', 'KNN', 'RFC', 'SVC_RBF', 'GNB', 'SGD', 'ADA', 'XGB'], index = range(4))"
      ],
      "metadata": {
        "id": "m0VJTV13BaJb"
      },
      "execution_count": 31,
      "outputs": []
    },
    {
      "cell_type": "markdown",
      "source": [
        "1. Decision Tree Algorithm"
      ],
      "metadata": {
        "id": "R4AHKCqc1YkD"
      }
    },
    {
      "cell_type": "code",
      "source": [
        "from sklearn.tree import DecisionTreeClassifier\n",
        "dt = DecisionTreeClassifier()"
      ],
      "metadata": {
        "id": "sgqp1uDX0TU8"
      },
      "execution_count": 32,
      "outputs": []
    },
    {
      "cell_type": "code",
      "source": [
        "dt.fit(X_train_std, Y_train)  #no need of giving, X_train_std as input because it is not calculating distance"
      ],
      "metadata": {
        "colab": {
          "base_uri": "https://localhost:8080/"
        },
        "id": "CNi0PIW91pDI",
        "outputId": "8b2ee2d2-3378-406b-d797-24fe7e0fadb9"
      },
      "execution_count": 33,
      "outputs": [
        {
          "output_type": "execute_result",
          "data": {
            "text/plain": [
              "DecisionTreeClassifier()"
            ]
          },
          "metadata": {},
          "execution_count": 33
        }
      ]
    },
    {
      "cell_type": "code",
      "source": [
        "dt.feature_importances_"
      ],
      "metadata": {
        "colab": {
          "base_uri": "https://localhost:8080/"
        },
        "id": "NWyX8npj3jVQ",
        "outputId": "7f6209ba-e6ec-4d58-b035-4a073f59eaf6"
      },
      "execution_count": 34,
      "outputs": [
        {
          "output_type": "execute_result",
          "data": {
            "text/plain": [
              "array([0.02425678, 0.20288006, 0.02897482, 0.0084503 , 0.01581016,\n",
              "       0.03055151, 0.03256139, 0.36340252, 0.21677685, 0.0763356 ])"
            ]
          },
          "metadata": {},
          "execution_count": 34
        }
      ]
    },
    {
      "cell_type": "code",
      "source": [
        "X_train.columns"
      ],
      "metadata": {
        "colab": {
          "base_uri": "https://localhost:8080/"
        },
        "id": "xgnCqiry3mKP",
        "outputId": "9a357355-277b-4554-81e3-e55c92d4aeb0"
      },
      "execution_count": 35,
      "outputs": [
        {
          "output_type": "execute_result",
          "data": {
            "text/plain": [
              "Index(['gender', 'age', 'hypertension', 'heart_disease', 'ever_married',\n",
              "       'work_type', 'Residence_type', 'avg_glucose_level', 'bmi',\n",
              "       'smoking_status'],\n",
              "      dtype='object')"
            ]
          },
          "metadata": {},
          "execution_count": 35
        }
      ]
    },
    {
      "cell_type": "code",
      "source": [
        "Y_pred = dt.predict(X_test_std)\n",
        "Y_pred"
      ],
      "metadata": {
        "colab": {
          "base_uri": "https://localhost:8080/"
        },
        "id": "W1CqTTsY3p96",
        "outputId": "e172f5ec-65f5-48d0-b772-b16abd559a0f"
      },
      "execution_count": 36,
      "outputs": [
        {
          "output_type": "execute_result",
          "data": {
            "text/plain": [
              "array([0, 0, 0, ..., 0, 0, 0])"
            ]
          },
          "metadata": {},
          "execution_count": 36
        }
      ]
    },
    {
      "cell_type": "code",
      "source": [
        "Y_prob = dt.predict_proba(X_test_std)[:,1]\n",
        "Y_prob"
      ],
      "metadata": {
        "colab": {
          "base_uri": "https://localhost:8080/"
        },
        "id": "X36IK4pTB7A3",
        "outputId": "70c13bc3-228c-44f0-bee9-c05f4922f6e4"
      },
      "execution_count": 37,
      "outputs": [
        {
          "output_type": "execute_result",
          "data": {
            "text/plain": [
              "array([0., 0., 0., ..., 0., 0., 0.])"
            ]
          },
          "metadata": {},
          "execution_count": 37
        }
      ]
    },
    {
      "cell_type": "code",
      "source": [
        "Y_test"
      ],
      "metadata": {
        "colab": {
          "base_uri": "https://localhost:8080/"
        },
        "id": "QlCeNBWp4U_F",
        "outputId": "b7f10ba7-fdac-4c44-d854-7d6f4c4f6b87"
      },
      "execution_count": 38,
      "outputs": [
        {
          "output_type": "execute_result",
          "data": {
            "text/plain": [
              "2918    0\n",
              "3056    0\n",
              "4916    0\n",
              "4003    0\n",
              "3332    0\n",
              "       ..\n",
              "3238    0\n",
              "3716    0\n",
              "3862    0\n",
              "3941    0\n",
              "4630    0\n",
              "Name: stroke, Length: 1533, dtype: int64"
            ]
          },
          "metadata": {},
          "execution_count": 38
        }
      ]
    },
    {
      "cell_type": "code",
      "source": [
        "X_test"
      ],
      "metadata": {
        "colab": {
          "base_uri": "https://localhost:8080/",
          "height": 488
        },
        "id": "PDjOMypj4XSj",
        "outputId": "8645eecb-ca73-41b8-bf30-b02f45241df8"
      },
      "execution_count": 39,
      "outputs": [
        {
          "output_type": "execute_result",
          "data": {
            "text/plain": [
              "      gender   age  hypertension  heart_disease  ever_married  work_type  \\\n",
              "2918       0  63.0             0              1             1          3   \n",
              "3056       1  62.0             0              1             1          0   \n",
              "4916       1  54.0             0              0             1          0   \n",
              "4003       0  24.0             0              0             0          2   \n",
              "3332       1  27.0             0              0             1          2   \n",
              "...      ...   ...           ...            ...           ...        ...   \n",
              "3238       0  57.0             0              0             1          0   \n",
              "3716       0  69.0             0              0             0          2   \n",
              "3862       0  54.0             0              0             1          2   \n",
              "3941       0  32.0             0              0             1          2   \n",
              "4630       1  31.0             0              0             1          2   \n",
              "\n",
              "      Residence_type  avg_glucose_level   bmi  smoking_status  \n",
              "2918               0             239.95  32.2               3  \n",
              "3056               0              73.70  26.2               2  \n",
              "4916               1              72.96  37.7               3  \n",
              "4003               0             147.74  21.4               0  \n",
              "3332               1             114.32  28.1               0  \n",
              "...              ...                ...   ...             ...  \n",
              "3238               0             176.78  50.4               2  \n",
              "3716               1              59.31  31.4               3  \n",
              "3862               0              68.60  44.8               3  \n",
              "3941               0              67.10  27.1               0  \n",
              "4630               1              79.81  26.4               2  \n",
              "\n",
              "[1533 rows x 10 columns]"
            ],
            "text/html": [
              "\n",
              "  <div id=\"df-6919db43-a7a0-4eac-add0-298fec3b8437\">\n",
              "    <div class=\"colab-df-container\">\n",
              "      <div>\n",
              "<style scoped>\n",
              "    .dataframe tbody tr th:only-of-type {\n",
              "        vertical-align: middle;\n",
              "    }\n",
              "\n",
              "    .dataframe tbody tr th {\n",
              "        vertical-align: top;\n",
              "    }\n",
              "\n",
              "    .dataframe thead th {\n",
              "        text-align: right;\n",
              "    }\n",
              "</style>\n",
              "<table border=\"1\" class=\"dataframe\">\n",
              "  <thead>\n",
              "    <tr style=\"text-align: right;\">\n",
              "      <th></th>\n",
              "      <th>gender</th>\n",
              "      <th>age</th>\n",
              "      <th>hypertension</th>\n",
              "      <th>heart_disease</th>\n",
              "      <th>ever_married</th>\n",
              "      <th>work_type</th>\n",
              "      <th>Residence_type</th>\n",
              "      <th>avg_glucose_level</th>\n",
              "      <th>bmi</th>\n",
              "      <th>smoking_status</th>\n",
              "    </tr>\n",
              "  </thead>\n",
              "  <tbody>\n",
              "    <tr>\n",
              "      <th>2918</th>\n",
              "      <td>0</td>\n",
              "      <td>63.0</td>\n",
              "      <td>0</td>\n",
              "      <td>1</td>\n",
              "      <td>1</td>\n",
              "      <td>3</td>\n",
              "      <td>0</td>\n",
              "      <td>239.95</td>\n",
              "      <td>32.2</td>\n",
              "      <td>3</td>\n",
              "    </tr>\n",
              "    <tr>\n",
              "      <th>3056</th>\n",
              "      <td>1</td>\n",
              "      <td>62.0</td>\n",
              "      <td>0</td>\n",
              "      <td>1</td>\n",
              "      <td>1</td>\n",
              "      <td>0</td>\n",
              "      <td>0</td>\n",
              "      <td>73.70</td>\n",
              "      <td>26.2</td>\n",
              "      <td>2</td>\n",
              "    </tr>\n",
              "    <tr>\n",
              "      <th>4916</th>\n",
              "      <td>1</td>\n",
              "      <td>54.0</td>\n",
              "      <td>0</td>\n",
              "      <td>0</td>\n",
              "      <td>1</td>\n",
              "      <td>0</td>\n",
              "      <td>1</td>\n",
              "      <td>72.96</td>\n",
              "      <td>37.7</td>\n",
              "      <td>3</td>\n",
              "    </tr>\n",
              "    <tr>\n",
              "      <th>4003</th>\n",
              "      <td>0</td>\n",
              "      <td>24.0</td>\n",
              "      <td>0</td>\n",
              "      <td>0</td>\n",
              "      <td>0</td>\n",
              "      <td>2</td>\n",
              "      <td>0</td>\n",
              "      <td>147.74</td>\n",
              "      <td>21.4</td>\n",
              "      <td>0</td>\n",
              "    </tr>\n",
              "    <tr>\n",
              "      <th>3332</th>\n",
              "      <td>1</td>\n",
              "      <td>27.0</td>\n",
              "      <td>0</td>\n",
              "      <td>0</td>\n",
              "      <td>1</td>\n",
              "      <td>2</td>\n",
              "      <td>1</td>\n",
              "      <td>114.32</td>\n",
              "      <td>28.1</td>\n",
              "      <td>0</td>\n",
              "    </tr>\n",
              "    <tr>\n",
              "      <th>...</th>\n",
              "      <td>...</td>\n",
              "      <td>...</td>\n",
              "      <td>...</td>\n",
              "      <td>...</td>\n",
              "      <td>...</td>\n",
              "      <td>...</td>\n",
              "      <td>...</td>\n",
              "      <td>...</td>\n",
              "      <td>...</td>\n",
              "      <td>...</td>\n",
              "    </tr>\n",
              "    <tr>\n",
              "      <th>3238</th>\n",
              "      <td>0</td>\n",
              "      <td>57.0</td>\n",
              "      <td>0</td>\n",
              "      <td>0</td>\n",
              "      <td>1</td>\n",
              "      <td>0</td>\n",
              "      <td>0</td>\n",
              "      <td>176.78</td>\n",
              "      <td>50.4</td>\n",
              "      <td>2</td>\n",
              "    </tr>\n",
              "    <tr>\n",
              "      <th>3716</th>\n",
              "      <td>0</td>\n",
              "      <td>69.0</td>\n",
              "      <td>0</td>\n",
              "      <td>0</td>\n",
              "      <td>0</td>\n",
              "      <td>2</td>\n",
              "      <td>1</td>\n",
              "      <td>59.31</td>\n",
              "      <td>31.4</td>\n",
              "      <td>3</td>\n",
              "    </tr>\n",
              "    <tr>\n",
              "      <th>3862</th>\n",
              "      <td>0</td>\n",
              "      <td>54.0</td>\n",
              "      <td>0</td>\n",
              "      <td>0</td>\n",
              "      <td>1</td>\n",
              "      <td>2</td>\n",
              "      <td>0</td>\n",
              "      <td>68.60</td>\n",
              "      <td>44.8</td>\n",
              "      <td>3</td>\n",
              "    </tr>\n",
              "    <tr>\n",
              "      <th>3941</th>\n",
              "      <td>0</td>\n",
              "      <td>32.0</td>\n",
              "      <td>0</td>\n",
              "      <td>0</td>\n",
              "      <td>1</td>\n",
              "      <td>2</td>\n",
              "      <td>0</td>\n",
              "      <td>67.10</td>\n",
              "      <td>27.1</td>\n",
              "      <td>0</td>\n",
              "    </tr>\n",
              "    <tr>\n",
              "      <th>4630</th>\n",
              "      <td>1</td>\n",
              "      <td>31.0</td>\n",
              "      <td>0</td>\n",
              "      <td>0</td>\n",
              "      <td>1</td>\n",
              "      <td>2</td>\n",
              "      <td>1</td>\n",
              "      <td>79.81</td>\n",
              "      <td>26.4</td>\n",
              "      <td>2</td>\n",
              "    </tr>\n",
              "  </tbody>\n",
              "</table>\n",
              "<p>1533 rows × 10 columns</p>\n",
              "</div>\n",
              "      <button class=\"colab-df-convert\" onclick=\"convertToInteractive('df-6919db43-a7a0-4eac-add0-298fec3b8437')\"\n",
              "              title=\"Convert this dataframe to an interactive table.\"\n",
              "              style=\"display:none;\">\n",
              "        \n",
              "  <svg xmlns=\"http://www.w3.org/2000/svg\" height=\"24px\"viewBox=\"0 0 24 24\"\n",
              "       width=\"24px\">\n",
              "    <path d=\"M0 0h24v24H0V0z\" fill=\"none\"/>\n",
              "    <path d=\"M18.56 5.44l.94 2.06.94-2.06 2.06-.94-2.06-.94-.94-2.06-.94 2.06-2.06.94zm-11 1L8.5 8.5l.94-2.06 2.06-.94-2.06-.94L8.5 2.5l-.94 2.06-2.06.94zm10 10l.94 2.06.94-2.06 2.06-.94-2.06-.94-.94-2.06-.94 2.06-2.06.94z\"/><path d=\"M17.41 7.96l-1.37-1.37c-.4-.4-.92-.59-1.43-.59-.52 0-1.04.2-1.43.59L10.3 9.45l-7.72 7.72c-.78.78-.78 2.05 0 2.83L4 21.41c.39.39.9.59 1.41.59.51 0 1.02-.2 1.41-.59l7.78-7.78 2.81-2.81c.8-.78.8-2.07 0-2.86zM5.41 20L4 18.59l7.72-7.72 1.47 1.35L5.41 20z\"/>\n",
              "  </svg>\n",
              "      </button>\n",
              "      \n",
              "  <style>\n",
              "    .colab-df-container {\n",
              "      display:flex;\n",
              "      flex-wrap:wrap;\n",
              "      gap: 12px;\n",
              "    }\n",
              "\n",
              "    .colab-df-convert {\n",
              "      background-color: #E8F0FE;\n",
              "      border: none;\n",
              "      border-radius: 50%;\n",
              "      cursor: pointer;\n",
              "      display: none;\n",
              "      fill: #1967D2;\n",
              "      height: 32px;\n",
              "      padding: 0 0 0 0;\n",
              "      width: 32px;\n",
              "    }\n",
              "\n",
              "    .colab-df-convert:hover {\n",
              "      background-color: #E2EBFA;\n",
              "      box-shadow: 0px 1px 2px rgba(60, 64, 67, 0.3), 0px 1px 3px 1px rgba(60, 64, 67, 0.15);\n",
              "      fill: #174EA6;\n",
              "    }\n",
              "\n",
              "    [theme=dark] .colab-df-convert {\n",
              "      background-color: #3B4455;\n",
              "      fill: #D2E3FC;\n",
              "    }\n",
              "\n",
              "    [theme=dark] .colab-df-convert:hover {\n",
              "      background-color: #434B5C;\n",
              "      box-shadow: 0px 1px 3px 1px rgba(0, 0, 0, 0.15);\n",
              "      filter: drop-shadow(0px 1px 2px rgba(0, 0, 0, 0.3));\n",
              "      fill: #FFFFFF;\n",
              "    }\n",
              "  </style>\n",
              "\n",
              "      <script>\n",
              "        const buttonEl =\n",
              "          document.querySelector('#df-6919db43-a7a0-4eac-add0-298fec3b8437 button.colab-df-convert');\n",
              "        buttonEl.style.display =\n",
              "          google.colab.kernel.accessAllowed ? 'block' : 'none';\n",
              "\n",
              "        async function convertToInteractive(key) {\n",
              "          const element = document.querySelector('#df-6919db43-a7a0-4eac-add0-298fec3b8437');\n",
              "          const dataTable =\n",
              "            await google.colab.kernel.invokeFunction('convertToInteractive',\n",
              "                                                     [key], {});\n",
              "          if (!dataTable) return;\n",
              "\n",
              "          const docLinkHtml = 'Like what you see? Visit the ' +\n",
              "            '<a target=\"_blank\" href=https://colab.research.google.com/notebooks/data_table.ipynb>data table notebook</a>'\n",
              "            + ' to learn more about interactive tables.';\n",
              "          element.innerHTML = '';\n",
              "          dataTable['output_type'] = 'display_data';\n",
              "          await google.colab.output.renderOutput(dataTable, element);\n",
              "          const docLink = document.createElement('div');\n",
              "          docLink.innerHTML = docLinkHtml;\n",
              "          element.appendChild(docLink);\n",
              "        }\n",
              "      </script>\n",
              "    </div>\n",
              "  </div>\n",
              "  "
            ]
          },
          "metadata": {},
          "execution_count": 39
        }
      ]
    },
    {
      "cell_type": "code",
      "source": [
        "acc_dt = accuracy_score(Y_test, Y_pred)\n",
        "result = print(f\"the accuracy is: {acc_dt * 100}%\")"
      ],
      "metadata": {
        "colab": {
          "base_uri": "https://localhost:8080/"
        },
        "id": "Yhyy5CF_48T5",
        "outputId": "7a70edbc-399d-4aac-defd-18846c42eb99"
      },
      "execution_count": 40,
      "outputs": [
        {
          "output_type": "stream",
          "name": "stdout",
          "text": [
            "the accuracy is: 90.99804305283757%\n"
          ]
        }
      ]
    },
    {
      "cell_type": "code",
      "source": [
        "results.iloc[0, 0] = round(precision_score(Y_test, Y_pred), 2)\n",
        "results.iloc[1, 0] = round(recall_score(Y_test, Y_pred), 2)\n",
        "results.iloc[2, 0] = round(f1_score(Y_test, Y_pred), 2)\n",
        "results.iloc[3, 0] = round(roc_auc_score(Y_test, Y_prob), 3)\n",
        "dt_cm = confusion_matrix(Y_test, Y_pred)\n",
        "\n",
        "print(classification_report(Y_test, Y_pred))"
      ],
      "metadata": {
        "colab": {
          "base_uri": "https://localhost:8080/"
        },
        "id": "yhtygVirG6Ku",
        "outputId": "58f7463c-86d8-409a-e69b-addb4d410656"
      },
      "execution_count": 41,
      "outputs": [
        {
          "output_type": "stream",
          "name": "stdout",
          "text": [
            "              precision    recall  f1-score   support\n",
            "\n",
            "           0       0.96      0.95      0.95      1464\n",
            "           1       0.12      0.16      0.14        69\n",
            "\n",
            "    accuracy                           0.91      1533\n",
            "   macro avg       0.54      0.55      0.55      1533\n",
            "weighted avg       0.92      0.91      0.92      1533\n",
            "\n"
          ]
        }
      ]
    },
    {
      "cell_type": "code",
      "source": [
        "print(f'ROC AUC score: {round(roc_auc_score(Y_test, Y_prob), 3)}')\n",
        "print('-----------------------------------------------------')\n",
        "print('Cross-validation scores with 5 folds:')\n",
        "print('')\n",
        "print(f\"ROC AUC: {round(cross_val_score(dt, X_train_balanced, Y_train_balanced, cv = 5, scoring = 'roc_auc').mean(), 3)}\")\n",
        "print(f\"precision: {round(cross_val_score(dt, X_train_balanced, Y_train_balanced, cv = 5, scoring = 'precision').mean(), 2)}\")\n",
        "print(f\"recall: {round(cross_val_score(dt, X_train_balanced, Y_train_balanced, cv = 5, scoring = 'recall').mean(), 2)}\")\n",
        "print(f\"f1: {round(cross_val_score(dt, X_train_balanced, Y_train_balanced, cv = 5, scoring = 'f1').mean(), 2)}\")"
      ],
      "metadata": {
        "colab": {
          "base_uri": "https://localhost:8080/"
        },
        "id": "apMAsM_xJbs1",
        "outputId": "3880867b-b539-4ee5-e8e4-3a0ffa0f6671"
      },
      "execution_count": 42,
      "outputs": [
        {
          "output_type": "stream",
          "name": "stdout",
          "text": [
            "ROC AUC score: 0.552\n",
            "-----------------------------------------------------\n",
            "Cross-validation scores with 5 folds:\n",
            "\n",
            "ROC AUC: 0.903\n",
            "precision: 0.89\n",
            "recall: 0.92\n",
            "f1: 0.91\n"
          ]
        }
      ]
    },
    {
      "cell_type": "code",
      "source": [
        "# Visualize confusion matrix\n",
        "plt.figure(figsize = (8, 5))\n",
        "sns.heatmap(dt_cm, cmap = 'Reds', annot = True, fmt = 'd', linewidths = 5, cbar = False, annot_kws = {'fontsize': 15}, \n",
        "            yticklabels = ['No stroke', 'Stroke'], xticklabels = ['Predicted no stroke', 'Predicted stroke'])\n",
        "plt.yticks(rotation = 0)\n",
        "\n",
        "plt.show()"
      ],
      "metadata": {
        "colab": {
          "base_uri": "https://localhost:8080/",
          "height": 320
        },
        "id": "URMeNXRcJk-t",
        "outputId": "91ff17c3-a404-4d19-e0b6-819bfc121ff5"
      },
      "execution_count": 43,
      "outputs": [
        {
          "output_type": "display_data",
          "data": {
            "text/plain": [
              "<Figure size 576x360 with 1 Axes>"
            ],
            "image/png": "[encoded data removed]"
          },
          "metadata": {
            "needs_background": "light"
          }
        }
      ]
    },
    {
      "cell_type": "code",
      "source": [
        "# Roc curve\n",
        "false_positive_rate, true_positive_rate, thresholds = roc_curve(Y_test, Y_prob)\n",
        "roc_auc = auc(false_positive_rate, true_positive_rate)\n",
        "\n",
        "sns.set_theme(style = 'white')\n",
        "plt.figure(figsize = (8, 8))\n",
        "plt.plot(false_positive_rate,true_positive_rate, color = '#b01717', label = 'AUC = %0.3f' % roc_auc)\n",
        "plt.legend(loc = 'lower right')\n",
        "plt.plot([0, 1], [0, 1], linestyle = '--', color = '#174ab0')\n",
        "plt.axis('tight')\n",
        "plt.ylabel('True Positive Rate')\n",
        "plt.xlabel('False Positive Rate')\n",
        "plt.show()"
      ],
      "metadata": {
        "colab": {
          "base_uri": "https://localhost:8080/",
          "height": 502
        },
        "id": "cY9bW6MpJxoL",
        "outputId": "ed0ae05e-45b9-45ab-8634-e70b8b6235e1"
      },
      "execution_count": 44,
      "outputs": [
        {
          "output_type": "display_data",
          "data": {
            "text/plain": [
              "<Figure size 576x576 with 1 Axes>"
            ],
            "image/png": "[encoded data removed]"
          },
          "metadata": {}
        }
      ]
    },
    {
      "cell_type": "code",
      "source": [
        "# Feature importance\n",
        "f_imp = pd.DataFrame(columns = ['feature', 'importance'], index = range(10))\n",
        "for i in range(len(f_imp.index)):\n",
        "    f_imp.iloc[i, 0] = X_train_balanced.columns.to_list()[i]\n",
        "f_imp['importance'] = dt.feature_importances_\n",
        "f_imp2 = f_imp.sort_values('importance', ascending = False)\n",
        "f_imp2[0:9].style.background_gradient(cmap = 'Blues')\n"
      ],
      "metadata": {
        "colab": {
          "base_uri": "https://localhost:8080/",
          "height": 332
        },
        "id": "kFAQ_DApJ8kV",
        "outputId": "d98efd04-1acc-44f0-e65f-4a70b9d87a1d"
      },
      "execution_count": 45,
      "outputs": [
        {
          "output_type": "execute_result",
          "data": {
            "text/plain": [
              "<pandas.io.formats.style.Styler at 0x7fccab628cd0>"
            ],
            "text/html": [
              "<style type=\"text/css\">\n",
              "#T_f309e_row0_col1 {\n",
              "  background-color: #08306b;\n",
              "  color: #f1f1f1;\n",
              "}\n",
              "#T_f309e_row1_col1 {\n",
              "  background-color: #519ccc;\n",
              "  color: #f1f1f1;\n",
              "}\n",
              "#T_f309e_row2_col1 {\n",
              "  background-color: #5fa6d1;\n",
              "  color: #f1f1f1;\n",
              "}\n",
              "#T_f309e_row3_col1 {\n",
              "  background-color: #d5e5f4;\n",
              "  color: #000000;\n",
              "}\n",
              "#T_f309e_row4_col1 {\n",
              "  background-color: #eef5fc;\n",
              "  color: #000000;\n",
              "}\n",
              "#T_f309e_row5_col1 {\n",
              "  background-color: #eff6fc;\n",
              "  color: #000000;\n",
              "}\n",
              "#T_f309e_row6_col1 {\n",
              "  background-color: #f0f6fd;\n",
              "  color: #000000;\n",
              "}\n",
              "#T_f309e_row7_col1 {\n",
              "  background-color: #f2f8fd;\n",
              "  color: #000000;\n",
              "}\n",
              "#T_f309e_row8_col1 {\n",
              "  background-color: #f7fbff;\n",
              "  color: #000000;\n",
              "}\n",
              "</style>\n",
              "<table id=\"T_f309e_\" class=\"dataframe\">\n",
              "  <thead>\n",
              "    <tr>\n",
              "      <th class=\"blank level0\" >&nbsp;</th>\n",
              "      <th class=\"col_heading level0 col0\" >feature</th>\n",
              "      <th class=\"col_heading level0 col1\" >importance</th>\n",
              "    </tr>\n",
              "  </thead>\n",
              "  <tbody>\n",
              "    <tr>\n",
              "      <th id=\"T_f309e_level0_row0\" class=\"row_heading level0 row0\" >7</th>\n",
              "      <td id=\"T_f309e_row0_col0\" class=\"data row0 col0\" >avg_glucose_level</td>\n",
              "      <td id=\"T_f309e_row0_col1\" class=\"data row0 col1\" >0.363403</td>\n",
              "    </tr>\n",
              "    <tr>\n",
              "      <th id=\"T_f309e_level0_row1\" class=\"row_heading level0 row1\" >8</th>\n",
              "      <td id=\"T_f309e_row1_col0\" class=\"data row1 col0\" >bmi</td>\n",
              "      <td id=\"T_f309e_row1_col1\" class=\"data row1 col1\" >0.216777</td>\n",
              "    </tr>\n",
              "    <tr>\n",
              "      <th id=\"T_f309e_level0_row2\" class=\"row_heading level0 row2\" >1</th>\n",
              "      <td id=\"T_f309e_row2_col0\" class=\"data row2 col0\" >age</td>\n",
              "      <td id=\"T_f309e_row2_col1\" class=\"data row2 col1\" >0.202880</td>\n",
              "    </tr>\n",
              "    <tr>\n",
              "      <th id=\"T_f309e_level0_row3\" class=\"row_heading level0 row3\" >9</th>\n",
              "      <td id=\"T_f309e_row3_col0\" class=\"data row3 col0\" >smoking_status</td>\n",
              "      <td id=\"T_f309e_row3_col1\" class=\"data row3 col1\" >0.076336</td>\n",
              "    </tr>\n",
              "    <tr>\n",
              "      <th id=\"T_f309e_level0_row4\" class=\"row_heading level0 row4\" >6</th>\n",
              "      <td id=\"T_f309e_row4_col0\" class=\"data row4 col0\" >Residence_type</td>\n",
              "      <td id=\"T_f309e_row4_col1\" class=\"data row4 col1\" >0.032561</td>\n",
              "    </tr>\n",
              "    <tr>\n",
              "      <th id=\"T_f309e_level0_row5\" class=\"row_heading level0 row5\" >5</th>\n",
              "      <td id=\"T_f309e_row5_col0\" class=\"data row5 col0\" >work_type</td>\n",
              "      <td id=\"T_f309e_row5_col1\" class=\"data row5 col1\" >0.030552</td>\n",
              "    </tr>\n",
              "    <tr>\n",
              "      <th id=\"T_f309e_level0_row6\" class=\"row_heading level0 row6\" >2</th>\n",
              "      <td id=\"T_f309e_row6_col0\" class=\"data row6 col0\" >hypertension</td>\n",
              "      <td id=\"T_f309e_row6_col1\" class=\"data row6 col1\" >0.028975</td>\n",
              "    </tr>\n",
              "    <tr>\n",
              "      <th id=\"T_f309e_level0_row7\" class=\"row_heading level0 row7\" >0</th>\n",
              "      <td id=\"T_f309e_row7_col0\" class=\"data row7 col0\" >gender</td>\n",
              "      <td id=\"T_f309e_row7_col1\" class=\"data row7 col1\" >0.024257</td>\n",
              "    </tr>\n",
              "    <tr>\n",
              "      <th id=\"T_f309e_level0_row8\" class=\"row_heading level0 row8\" >4</th>\n",
              "      <td id=\"T_f309e_row8_col0\" class=\"data row8 col0\" >ever_married</td>\n",
              "      <td id=\"T_f309e_row8_col1\" class=\"data row8 col1\" >0.015810</td>\n",
              "    </tr>\n",
              "  </tbody>\n",
              "</table>\n"
            ]
          },
          "metadata": {},
          "execution_count": 45
        }
      ]
    },
    {
      "cell_type": "markdown",
      "source": [
        "2. Logistic Regression Algorithm"
      ],
      "metadata": {
        "id": "-QlOwHnW51gB"
      }
    },
    {
      "cell_type": "code",
      "source": [
        "from sklearn.linear_model import LogisticRegression\n",
        "lr = LogisticRegression()"
      ],
      "metadata": {
        "id": "KEMoXW4_54mG"
      },
      "execution_count": 46,
      "outputs": []
    },
    {
      "cell_type": "code",
      "source": [
        "lr.fit(X_train_std, Y_train)"
      ],
      "metadata": {
        "colab": {
          "base_uri": "https://localhost:8080/"
        },
        "id": "U39TBQIV6hh0",
        "outputId": "9bbbc8d4-4d20-45f6-919b-8de559a2186d"
      },
      "execution_count": 47,
      "outputs": [
        {
          "output_type": "execute_result",
          "data": {
            "text/plain": [
              "LogisticRegression()"
            ]
          },
          "metadata": {},
          "execution_count": 47
        }
      ]
    },
    {
      "cell_type": "code",
      "source": [
        "Y_pred = lr.predict(X_test_std)\n",
        "Y_pred"
      ],
      "metadata": {
        "colab": {
          "base_uri": "https://localhost:8080/"
        },
        "id": "REH8_IEh6phk",
        "outputId": "8dea4049-faa5-4ece-a47b-8d6b26e4c4f6"
      },
      "execution_count": 48,
      "outputs": [
        {
          "output_type": "execute_result",
          "data": {
            "text/plain": [
              "array([0, 0, 0, ..., 0, 0, 0])"
            ]
          },
          "metadata": {},
          "execution_count": 48
        }
      ]
    },
    {
      "cell_type": "code",
      "source": [
        "Y_prob = lr.predict_proba(X_test_std)[:,1]\n",
        "Y_prob"
      ],
      "metadata": {
        "colab": {
          "base_uri": "https://localhost:8080/"
        },
        "id": "SQutkpnBBtnM",
        "outputId": "02a428b1-771b-43f0-b9f7-a7e0e5543e82"
      },
      "execution_count": 49,
      "outputs": [
        {
          "output_type": "execute_result",
          "data": {
            "text/plain": [
              "array([0.10059867, 0.07399695, 0.05040455, ..., 0.03620177, 0.00591958,\n",
              "       0.00760854])"
            ]
          },
          "metadata": {},
          "execution_count": 49
        }
      ]
    },
    {
      "cell_type": "code",
      "source": [
        "Y_test"
      ],
      "metadata": {
        "colab": {
          "base_uri": "https://localhost:8080/"
        },
        "id": "h-fQnGkY6sI8",
        "outputId": "a6af1ac0-8e52-478e-a70e-c29558782634"
      },
      "execution_count": 50,
      "outputs": [
        {
          "output_type": "execute_result",
          "data": {
            "text/plain": [
              "2918    0\n",
              "3056    0\n",
              "4916    0\n",
              "4003    0\n",
              "3332    0\n",
              "       ..\n",
              "3238    0\n",
              "3716    0\n",
              "3862    0\n",
              "3941    0\n",
              "4630    0\n",
              "Name: stroke, Length: 1533, dtype: int64"
            ]
          },
          "metadata": {},
          "execution_count": 50
        }
      ]
    },
    {
      "cell_type": "code",
      "source": [
        "X_test"
      ],
      "metadata": {
        "colab": {
          "base_uri": "https://localhost:8080/",
          "height": 488
        },
        "id": "KEyUixV96upm",
        "outputId": "c11ebccc-f00a-4c31-e2c8-908b9b7ca6cf"
      },
      "execution_count": 51,
      "outputs": [
        {
          "output_type": "execute_result",
          "data": {
            "text/plain": [
              "      gender   age  hypertension  heart_disease  ever_married  work_type  \\\n",
              "2918       0  63.0             0              1             1          3   \n",
              "3056       1  62.0             0              1             1          0   \n",
              "4916       1  54.0             0              0             1          0   \n",
              "4003       0  24.0             0              0             0          2   \n",
              "3332       1  27.0             0              0             1          2   \n",
              "...      ...   ...           ...            ...           ...        ...   \n",
              "3238       0  57.0             0              0             1          0   \n",
              "3716       0  69.0             0              0             0          2   \n",
              "3862       0  54.0             0              0             1          2   \n",
              "3941       0  32.0             0              0             1          2   \n",
              "4630       1  31.0             0              0             1          2   \n",
              "\n",
              "      Residence_type  avg_glucose_level   bmi  smoking_status  \n",
              "2918               0             239.95  32.2               3  \n",
              "3056               0              73.70  26.2               2  \n",
              "4916               1              72.96  37.7               3  \n",
              "4003               0             147.74  21.4               0  \n",
              "3332               1             114.32  28.1               0  \n",
              "...              ...                ...   ...             ...  \n",
              "3238               0             176.78  50.4               2  \n",
              "3716               1              59.31  31.4               3  \n",
              "3862               0              68.60  44.8               3  \n",
              "3941               0              67.10  27.1               0  \n",
              "4630               1              79.81  26.4               2  \n",
              "\n",
              "[1533 rows x 10 columns]"
            ],
            "text/html": [
              "\n",
              "  <div id=\"df-cbb2d92f-f389-4088-ae57-b031c086f997\">\n",
              "    <div class=\"colab-df-container\">\n",
              "      <div>\n",
              "<style scoped>\n",
              "    .dataframe tbody tr th:only-of-type {\n",
              "        vertical-align: middle;\n",
              "    }\n",
              "\n",
              "    .dataframe tbody tr th {\n",
              "        vertical-align: top;\n",
              "    }\n",
              "\n",
              "    .dataframe thead th {\n",
              "        text-align: right;\n",
              "    }\n",
              "</style>\n",
              "<table border=\"1\" class=\"dataframe\">\n",
              "  <thead>\n",
              "    <tr style=\"text-align: right;\">\n",
              "      <th></th>\n",
              "      <th>gender</th>\n",
              "      <th>age</th>\n",
              "      <th>hypertension</th>\n",
              "      <th>heart_disease</th>\n",
              "      <th>ever_married</th>\n",
              "      <th>work_type</th>\n",
              "      <th>Residence_type</th>\n",
              "      <th>avg_glucose_level</th>\n",
              "      <th>bmi</th>\n",
              "      <th>smoking_status</th>\n",
              "    </tr>\n",
              "  </thead>\n",
              "  <tbody>\n",
              "    <tr>\n",
              "      <th>2918</th>\n",
              "      <td>0</td>\n",
              "      <td>63.0</td>\n",
              "      <td>0</td>\n",
              "      <td>1</td>\n",
              "      <td>1</td>\n",
              "      <td>3</td>\n",
              "      <td>0</td>\n",
              "      <td>239.95</td>\n",
              "      <td>32.2</td>\n",
              "      <td>3</td>\n",
              "    </tr>\n",
              "    <tr>\n",
              "      <th>3056</th>\n",
              "      <td>1</td>\n",
              "      <td>62.0</td>\n",
              "      <td>0</td>\n",
              "      <td>1</td>\n",
              "      <td>1</td>\n",
              "      <td>0</td>\n",
              "      <td>0</td>\n",
              "      <td>73.70</td>\n",
              "      <td>26.2</td>\n",
              "      <td>2</td>\n",
              "    </tr>\n",
              "    <tr>\n",
              "      <th>4916</th>\n",
              "      <td>1</td>\n",
              "      <td>54.0</td>\n",
              "      <td>0</td>\n",
              "      <td>0</td>\n",
              "      <td>1</td>\n",
              "      <td>0</td>\n",
              "      <td>1</td>\n",
              "      <td>72.96</td>\n",
              "      <td>37.7</td>\n",
              "      <td>3</td>\n",
              "    </tr>\n",
              "    <tr>\n",
              "      <th>4003</th>\n",
              "      <td>0</td>\n",
              "      <td>24.0</td>\n",
              "      <td>0</td>\n",
              "      <td>0</td>\n",
              "      <td>0</td>\n",
              "      <td>2</td>\n",
              "      <td>0</td>\n",
              "      <td>147.74</td>\n",
              "      <td>21.4</td>\n",
              "      <td>0</td>\n",
              "    </tr>\n",
              "    <tr>\n",
              "      <th>3332</th>\n",
              "      <td>1</td>\n",
              "      <td>27.0</td>\n",
              "      <td>0</td>\n",
              "      <td>0</td>\n",
              "      <td>1</td>\n",
              "      <td>2</td>\n",
              "      <td>1</td>\n",
              "      <td>114.32</td>\n",
              "      <td>28.1</td>\n",
              "      <td>0</td>\n",
              "    </tr>\n",
              "    <tr>\n",
              "      <th>...</th>\n",
              "      <td>...</td>\n",
              "      <td>...</td>\n",
              "      <td>...</td>\n",
              "      <td>...</td>\n",
              "      <td>...</td>\n",
              "      <td>...</td>\n",
              "      <td>...</td>\n",
              "      <td>...</td>\n",
              "      <td>...</td>\n",
              "      <td>...</td>\n",
              "    </tr>\n",
              "    <tr>\n",
              "      <th>3238</th>\n",
              "      <td>0</td>\n",
              "      <td>57.0</td>\n",
              "      <td>0</td>\n",
              "      <td>0</td>\n",
              "      <td>1</td>\n",
              "      <td>0</td>\n",
              "      <td>0</td>\n",
              "      <td>176.78</td>\n",
              "      <td>50.4</td>\n",
              "      <td>2</td>\n",
              "    </tr>\n",
              "    <tr>\n",
              "      <th>3716</th>\n",
              "      <td>0</td>\n",
              "      <td>69.0</td>\n",
              "      <td>0</td>\n",
              "      <td>0</td>\n",
              "      <td>0</td>\n",
              "      <td>2</td>\n",
              "      <td>1</td>\n",
              "      <td>59.31</td>\n",
              "      <td>31.4</td>\n",
              "      <td>3</td>\n",
              "    </tr>\n",
              "    <tr>\n",
              "      <th>3862</th>\n",
              "      <td>0</td>\n",
              "      <td>54.0</td>\n",
              "      <td>0</td>\n",
              "      <td>0</td>\n",
              "      <td>1</td>\n",
              "      <td>2</td>\n",
              "      <td>0</td>\n",
              "      <td>68.60</td>\n",
              "      <td>44.8</td>\n",
              "      <td>3</td>\n",
              "    </tr>\n",
              "    <tr>\n",
              "      <th>3941</th>\n",
              "      <td>0</td>\n",
              "      <td>32.0</td>\n",
              "      <td>0</td>\n",
              "      <td>0</td>\n",
              "      <td>1</td>\n",
              "      <td>2</td>\n",
              "      <td>0</td>\n",
              "      <td>67.10</td>\n",
              "      <td>27.1</td>\n",
              "      <td>0</td>\n",
              "    </tr>\n",
              "    <tr>\n",
              "      <th>4630</th>\n",
              "      <td>1</td>\n",
              "      <td>31.0</td>\n",
              "      <td>0</td>\n",
              "      <td>0</td>\n",
              "      <td>1</td>\n",
              "      <td>2</td>\n",
              "      <td>1</td>\n",
              "      <td>79.81</td>\n",
              "      <td>26.4</td>\n",
              "      <td>2</td>\n",
              "    </tr>\n",
              "  </tbody>\n",
              "</table>\n",
              "<p>1533 rows × 10 columns</p>\n",
              "</div>\n",
              "      <button class=\"colab-df-convert\" onclick=\"convertToInteractive('df-cbb2d92f-f389-4088-ae57-b031c086f997')\"\n",
              "              title=\"Convert this dataframe to an interactive table.\"\n",
              "              style=\"display:none;\">\n",
              "        \n",
              "  <svg xmlns=\"http://www.w3.org/2000/svg\" height=\"24px\"viewBox=\"0 0 24 24\"\n",
              "       width=\"24px\">\n",
              "    <path d=\"M0 0h24v24H0V0z\" fill=\"none\"/>\n",
              "    <path d=\"M18.56 5.44l.94 2.06.94-2.06 2.06-.94-2.06-.94-.94-2.06-.94 2.06-2.06.94zm-11 1L8.5 8.5l.94-2.06 2.06-.94-2.06-.94L8.5 2.5l-.94 2.06-2.06.94zm10 10l.94 2.06.94-2.06 2.06-.94-2.06-.94-.94-2.06-.94 2.06-2.06.94z\"/><path d=\"M17.41 7.96l-1.37-1.37c-.4-.4-.92-.59-1.43-.59-.52 0-1.04.2-1.43.59L10.3 9.45l-7.72 7.72c-.78.78-.78 2.05 0 2.83L4 21.41c.39.39.9.59 1.41.59.51 0 1.02-.2 1.41-.59l7.78-7.78 2.81-2.81c.8-.78.8-2.07 0-2.86zM5.41 20L4 18.59l7.72-7.72 1.47 1.35L5.41 20z\"/>\n",
              "  </svg>\n",
              "      </button>\n",
              "      \n",
              "  <style>\n",
              "    .colab-df-container {\n",
              "      display:flex;\n",
              "      flex-wrap:wrap;\n",
              "      gap: 12px;\n",
              "    }\n",
              "\n",
              "    .colab-df-convert {\n",
              "      background-color: #E8F0FE;\n",
              "      border: none;\n",
              "      border-radius: 50%;\n",
              "      cursor: pointer;\n",
              "      display: none;\n",
              "      fill: #1967D2;\n",
              "      height: 32px;\n",
              "      padding: 0 0 0 0;\n",
              "      width: 32px;\n",
              "    }\n",
              "\n",
              "    .colab-df-convert:hover {\n",
              "      background-color: #E2EBFA;\n",
              "      box-shadow: 0px 1px 2px rgba(60, 64, 67, 0.3), 0px 1px 3px 1px rgba(60, 64, 67, 0.15);\n",
              "      fill: #174EA6;\n",
              "    }\n",
              "\n",
              "    [theme=dark] .colab-df-convert {\n",
              "      background-color: #3B4455;\n",
              "      fill: #D2E3FC;\n",
              "    }\n",
              "\n",
              "    [theme=dark] .colab-df-convert:hover {\n",
              "      background-color: #434B5C;\n",
              "      box-shadow: 0px 1px 3px 1px rgba(0, 0, 0, 0.15);\n",
              "      filter: drop-shadow(0px 1px 2px rgba(0, 0, 0, 0.3));\n",
              "      fill: #FFFFFF;\n",
              "    }\n",
              "  </style>\n",
              "\n",
              "      <script>\n",
              "        const buttonEl =\n",
              "          document.querySelector('#df-cbb2d92f-f389-4088-ae57-b031c086f997 button.colab-df-convert');\n",
              "        buttonEl.style.display =\n",
              "          google.colab.kernel.accessAllowed ? 'block' : 'none';\n",
              "\n",
              "        async function convertToInteractive(key) {\n",
              "          const element = document.querySelector('#df-cbb2d92f-f389-4088-ae57-b031c086f997');\n",
              "          const dataTable =\n",
              "            await google.colab.kernel.invokeFunction('convertToInteractive',\n",
              "                                                     [key], {});\n",
              "          if (!dataTable) return;\n",
              "\n",
              "          const docLinkHtml = 'Like what you see? Visit the ' +\n",
              "            '<a target=\"_blank\" href=https://colab.research.google.com/notebooks/data_table.ipynb>data table notebook</a>'\n",
              "            + ' to learn more about interactive tables.';\n",
              "          element.innerHTML = '';\n",
              "          dataTable['output_type'] = 'display_data';\n",
              "          await google.colab.output.renderOutput(dataTable, element);\n",
              "          const docLink = document.createElement('div');\n",
              "          docLink.innerHTML = docLinkHtml;\n",
              "          element.appendChild(docLink);\n",
              "        }\n",
              "      </script>\n",
              "    </div>\n",
              "  </div>\n",
              "  "
            ]
          },
          "metadata": {},
          "execution_count": 51
        }
      ]
    },
    {
      "cell_type": "code",
      "source": [
        "acc_lr = accuracy_score(Y_test, Y_pred)\n",
        "result = print(f\"the accuracy is: {acc_lr * 100}%\")"
      ],
      "metadata": {
        "colab": {
          "base_uri": "https://localhost:8080/"
        },
        "id": "F-qzCALY60jD",
        "outputId": "01b84e98-5911-484a-919c-034d3536aac6"
      },
      "execution_count": 52,
      "outputs": [
        {
          "output_type": "stream",
          "name": "stdout",
          "text": [
            "the accuracy is: 95.49902152641879%\n"
          ]
        }
      ]
    },
    {
      "cell_type": "code",
      "source": [
        "results.iloc[0, 1] = round(precision_score(Y_test, Y_pred), 2)\n",
        "results.iloc[1, 1] = round(recall_score(Y_test, Y_pred), 2)\n",
        "results.iloc[2, 1] = round(f1_score(Y_test, Y_pred), 2)\n",
        "results.iloc[3, 1] = round(roc_auc_score(Y_test, Y_prob), 3)\n",
        "lr_cm = confusion_matrix(Y_test, Y_pred)\n",
        "\n",
        "print(classification_report(Y_test, Y_pred))"
      ],
      "metadata": {
        "colab": {
          "base_uri": "https://localhost:8080/"
        },
        "id": "jbe-bnhA8MnS",
        "outputId": "d907644e-dc32-46b7-8d94-c5339de92c8b"
      },
      "execution_count": 53,
      "outputs": [
        {
          "output_type": "stream",
          "name": "stdout",
          "text": [
            "              precision    recall  f1-score   support\n",
            "\n",
            "           0       0.95      1.00      0.98      1464\n",
            "           1       0.00      0.00      0.00        69\n",
            "\n",
            "    accuracy                           0.95      1533\n",
            "   macro avg       0.48      0.50      0.49      1533\n",
            "weighted avg       0.91      0.95      0.93      1533\n",
            "\n"
          ]
        }
      ]
    },
    {
      "cell_type": "code",
      "source": [
        "print(f'ROC AUC score: {round(roc_auc_score(Y_test, Y_prob), 3)}')\n",
        "print('-----------------------------------------------------')\n",
        "print('Cross-validation scores with 5 folds:')\n",
        "print('')\n",
        "print(f\"ROC AUC: {round(cross_val_score(lr, X_train_balanced, Y_train_balanced, cv = 5, scoring = 'roc_auc').mean(), 3)}\")\n",
        "print(f\"precision: {round(cross_val_score(lr, X_train_balanced, Y_train_balanced, cv = 5, scoring = 'precision').mean(), 2)}\")\n",
        "print(f\"recall: {round(cross_val_score(lr, X_train_balanced, Y_train_balanced, cv = 5, scoring = 'recall').mean(), 2)}\")\n",
        "print(f\"f1: {round(cross_val_score(lr, X_train_balanced, Y_train_balanced, cv = 5, scoring = 'f1').mean(), 2)}\")\n"
      ],
      "metadata": {
        "colab": {
          "base_uri": "https://localhost:8080/"
        },
        "id": "5jrkdtNuBVv2",
        "outputId": "a01fd988-0e61-4ec3-9dba-22ab5f882659"
      },
      "execution_count": 54,
      "outputs": [
        {
          "output_type": "stream",
          "name": "stdout",
          "text": [
            "ROC AUC score: 0.847\n",
            "-----------------------------------------------------\n",
            "Cross-validation scores with 5 folds:\n",
            "\n",
            "ROC AUC: 0.889\n",
            "precision: 0.79\n",
            "recall: 0.82\n",
            "f1: 0.8\n"
          ]
        }
      ]
    },
    {
      "cell_type": "code",
      "source": [
        "# Visualize confusion matrix\n",
        "plt.figure(figsize = (8, 5))\n",
        "sns.heatmap(lr_cm, cmap = 'Reds', annot = True, fmt = 'd', linewidths = 5, cbar = False, annot_kws = {'fontsize': 15}, \n",
        "            yticklabels = ['No stroke', 'Stroke'], xticklabels = ['Predicted no stroke', 'Predicted stroke'])\n",
        "plt.yticks(rotation = 0)\n",
        "\n",
        "plt.show()"
      ],
      "metadata": {
        "colab": {
          "base_uri": "https://localhost:8080/",
          "height": 322
        },
        "id": "OcDJMpqGD9oH",
        "outputId": "5024e47b-642e-43bb-cd17-7f63377d7f2e"
      },
      "execution_count": 55,
      "outputs": [
        {
          "output_type": "display_data",
          "data": {
            "text/plain": [
              "<Figure size 576x360 with 1 Axes>"
            ],
            "image/png": "[encoded data removed]"
          },
          "metadata": {}
        }
      ]
    },
    {
      "cell_type": "code",
      "source": [
        "# Roc curve\n",
        "false_positive_rate, true_positive_rate, thresholds = roc_curve(Y_test, Y_prob)\n",
        "roc_auc = auc(false_positive_rate, true_positive_rate)\n",
        "\n",
        "sns.set_theme(style = 'white')\n",
        "plt.figure(figsize = (8, 8))\n",
        "plt.plot(false_positive_rate,true_positive_rate, color = '#b01717', label = 'AUC = %0.3f' % roc_auc)\n",
        "plt.legend(loc = 'lower right')\n",
        "plt.plot([0, 1], [0, 1], linestyle = '--', color = '#174ab0')\n",
        "plt.axis('tight')\n",
        "plt.ylabel('True Positive Rate')\n",
        "plt.xlabel('False Positive Rate')\n",
        "plt.show()\n"
      ],
      "metadata": {
        "colab": {
          "base_uri": "https://localhost:8080/",
          "height": 502
        },
        "id": "KOXNfC71EagK",
        "outputId": "e6da64ec-32d0-484c-b86e-2b4c557bc127"
      },
      "execution_count": 56,
      "outputs": [
        {
          "output_type": "display_data",
          "data": {
            "text/plain": [
              "<Figure size 576x576 with 1 Axes>"
            ],
            "image/png": "[encoded data removed]"
          },
          "metadata": {}
        }
      ]
    },
    {
      "cell_type": "code",
      "source": [
        "# Feature importance\n",
        "f_imp1 = pd.DataFrame(columns = ['feature', 'importance (abs coef)'], index = range(10))\n",
        "for i in range(len(f_imp1.index)):\n",
        "    f_imp1.iloc[i, 0] = X_train_balanced.columns.to_list()[i]\n",
        "f_imp1['importance (abs coef)'] = abs(lr.coef_)[0]\n",
        "f_imp1 = f_imp1.sort_values('importance (abs coef)', ascending = False)\n",
        "f_imp1[0:9].style.background_gradient(cmap = 'Blues')"
      ],
      "metadata": {
        "colab": {
          "base_uri": "https://localhost:8080/",
          "height": 332
        },
        "id": "JsFVXDSsEhf-",
        "outputId": "f516f030-c31a-4cb6-e2db-5b83ca76cf4a"
      },
      "execution_count": 57,
      "outputs": [
        {
          "output_type": "execute_result",
          "data": {
            "text/plain": [
              "<pandas.io.formats.style.Styler at 0x7fcca8a0b490>"
            ],
            "text/html": [
              "<style type=\"text/css\">\n",
              "#T_6655f_row0_col1 {\n",
              "  background-color: #08306b;\n",
              "  color: #f1f1f1;\n",
              "}\n",
              "#T_6655f_row1_col1 {\n",
              "  background-color: #eaf3fb;\n",
              "  color: #000000;\n",
              "}\n",
              "#T_6655f_row2_col1 {\n",
              "  background-color: #f0f6fd;\n",
              "  color: #000000;\n",
              "}\n",
              "#T_6655f_row3_col1, #T_6655f_row4_col1, #T_6655f_row5_col1 {\n",
              "  background-color: #f2f7fd;\n",
              "  color: #000000;\n",
              "}\n",
              "#T_6655f_row6_col1 {\n",
              "  background-color: #f4f9fe;\n",
              "  color: #000000;\n",
              "}\n",
              "#T_6655f_row7_col1 {\n",
              "  background-color: #f6faff;\n",
              "  color: #000000;\n",
              "}\n",
              "#T_6655f_row8_col1 {\n",
              "  background-color: #f7fbff;\n",
              "  color: #000000;\n",
              "}\n",
              "</style>\n",
              "<table id=\"T_6655f_\" class=\"dataframe\">\n",
              "  <thead>\n",
              "    <tr>\n",
              "      <th class=\"blank level0\" >&nbsp;</th>\n",
              "      <th class=\"col_heading level0 col0\" >feature</th>\n",
              "      <th class=\"col_heading level0 col1\" >importance (abs coef)</th>\n",
              "    </tr>\n",
              "  </thead>\n",
              "  <tbody>\n",
              "    <tr>\n",
              "      <th id=\"T_6655f_level0_row0\" class=\"row_heading level0 row0\" >1</th>\n",
              "      <td id=\"T_6655f_row0_col0\" class=\"data row0 col0\" >age</td>\n",
              "      <td id=\"T_6655f_row0_col1\" class=\"data row0 col1\" >1.619413</td>\n",
              "    </tr>\n",
              "    <tr>\n",
              "      <th id=\"T_6655f_level0_row1\" class=\"row_heading level0 row1\" >7</th>\n",
              "      <td id=\"T_6655f_row1_col0\" class=\"data row1 col0\" >avg_glucose_level</td>\n",
              "      <td id=\"T_6655f_row1_col1\" class=\"data row1 col1\" >0.133442</td>\n",
              "    </tr>\n",
              "    <tr>\n",
              "      <th id=\"T_6655f_level0_row2\" class=\"row_heading level0 row2\" >5</th>\n",
              "      <td id=\"T_6655f_row2_col0\" class=\"data row2 col0\" >work_type</td>\n",
              "      <td id=\"T_6655f_row2_col1\" class=\"data row2 col1\" >0.089969</td>\n",
              "    </tr>\n",
              "    <tr>\n",
              "      <th id=\"T_6655f_level0_row3\" class=\"row_heading level0 row3\" >6</th>\n",
              "      <td id=\"T_6655f_row3_col0\" class=\"data row3 col0\" >Residence_type</td>\n",
              "      <td id=\"T_6655f_row3_col1\" class=\"data row3 col1\" >0.079820</td>\n",
              "    </tr>\n",
              "    <tr>\n",
              "      <th id=\"T_6655f_level0_row4\" class=\"row_heading level0 row4\" >8</th>\n",
              "      <td id=\"T_6655f_row4_col0\" class=\"data row4 col0\" >bmi</td>\n",
              "      <td id=\"T_6655f_row4_col1\" class=\"data row4 col1\" >0.076579</td>\n",
              "    </tr>\n",
              "    <tr>\n",
              "      <th id=\"T_6655f_level0_row5\" class=\"row_heading level0 row5\" >2</th>\n",
              "      <td id=\"T_6655f_row5_col0\" class=\"data row5 col0\" >hypertension</td>\n",
              "      <td id=\"T_6655f_row5_col1\" class=\"data row5 col1\" >0.075887</td>\n",
              "    </tr>\n",
              "    <tr>\n",
              "      <th id=\"T_6655f_level0_row6\" class=\"row_heading level0 row6\" >4</th>\n",
              "      <td id=\"T_6655f_row6_col0\" class=\"data row6 col0\" >ever_married</td>\n",
              "      <td id=\"T_6655f_row6_col1\" class=\"data row6 col1\" >0.060480</td>\n",
              "    </tr>\n",
              "    <tr>\n",
              "      <th id=\"T_6655f_level0_row7\" class=\"row_heading level0 row7\" >0</th>\n",
              "      <td id=\"T_6655f_row7_col0\" class=\"data row7 col0\" >gender</td>\n",
              "      <td id=\"T_6655f_row7_col1\" class=\"data row7 col1\" >0.038043</td>\n",
              "    </tr>\n",
              "    <tr>\n",
              "      <th id=\"T_6655f_level0_row8\" class=\"row_heading level0 row8\" >3</th>\n",
              "      <td id=\"T_6655f_row8_col0\" class=\"data row8 col0\" >heart_disease</td>\n",
              "      <td id=\"T_6655f_row8_col1\" class=\"data row8 col1\" >0.030607</td>\n",
              "    </tr>\n",
              "  </tbody>\n",
              "</table>\n"
            ]
          },
          "metadata": {},
          "execution_count": 57
        }
      ]
    },
    {
      "cell_type": "markdown",
      "source": [
        "3. K-Nearest Neighbour Algorithm"
      ],
      "metadata": {
        "id": "yN7bdT-PP0sC"
      }
    },
    {
      "cell_type": "code",
      "source": [
        "from sklearn.neighbors import KNeighborsClassifier\n",
        "knn = KNeighborsClassifier()\n"
      ],
      "metadata": {
        "id": "sasg1hUiP7eP"
      },
      "execution_count": 58,
      "outputs": []
    },
    {
      "cell_type": "code",
      "source": [
        "knn.fit(X_train_std, Y_train)"
      ],
      "metadata": {
        "colab": {
          "base_uri": "https://localhost:8080/"
        },
        "id": "QkCHE1c5Qplm",
        "outputId": "f8c4cd0b-fe42-4633-b874-ddad968aadf2"
      },
      "execution_count": 59,
      "outputs": [
        {
          "output_type": "execute_result",
          "data": {
            "text/plain": [
              "KNeighborsClassifier()"
            ]
          },
          "metadata": {},
          "execution_count": 59
        }
      ]
    },
    {
      "cell_type": "code",
      "source": [
        "Y_pred = knn.predict(X_test_std)\n",
        "Y_pred"
      ],
      "metadata": {
        "colab": {
          "base_uri": "https://localhost:8080/"
        },
        "id": "8u5q0Q2AQw9f",
        "outputId": "a12e7b69-ecf2-4aeb-a204-bd3f1e7e43bc"
      },
      "execution_count": 60,
      "outputs": [
        {
          "output_type": "execute_result",
          "data": {
            "text/plain": [
              "array([0, 0, 0, ..., 0, 0, 0])"
            ]
          },
          "metadata": {},
          "execution_count": 60
        }
      ]
    },
    {
      "cell_type": "code",
      "source": [
        "Y_prob = knn.predict_proba(X_test_std)[:,1]\n",
        "Y_prob"
      ],
      "metadata": {
        "colab": {
          "base_uri": "https://localhost:8080/"
        },
        "id": "HbleiTFRQ5Gg",
        "outputId": "1a29d819-589a-43f3-a7d5-ed0e2f4442f6"
      },
      "execution_count": 61,
      "outputs": [
        {
          "output_type": "execute_result",
          "data": {
            "text/plain": [
              "array([0.2, 0. , 0. , ..., 0. , 0. , 0. ])"
            ]
          },
          "metadata": {},
          "execution_count": 61
        }
      ]
    },
    {
      "cell_type": "code",
      "source": [
        "acc_knn = accuracy_score(Y_test, Y_pred)\n",
        "result = print(f\"the accuracy is: {acc_knn * 100}%\")"
      ],
      "metadata": {
        "colab": {
          "base_uri": "https://localhost:8080/"
        },
        "id": "xbc0fDHrRH97",
        "outputId": "2492bbc4-de92-4259-ce89-6baf51bae55e"
      },
      "execution_count": 62,
      "outputs": [
        {
          "output_type": "stream",
          "name": "stdout",
          "text": [
            "the accuracy is: 95.49902152641879%\n"
          ]
        }
      ]
    },
    {
      "cell_type": "code",
      "source": [
        "results.iloc[0, 2] = round(precision_score(Y_test, Y_pred), 2)\n",
        "results.iloc[1, 2] = round(recall_score(Y_test, Y_pred), 2)\n",
        "results.iloc[2, 2] = round(f1_score(Y_test, Y_pred), 2)\n",
        "results.iloc[3, 2] = round(roc_auc_score(Y_test, Y_prob), 3)\n",
        "knn_cm = confusion_matrix(Y_test, Y_pred)\n",
        "\n",
        "print(classification_report(Y_test, Y_pred))"
      ],
      "metadata": {
        "colab": {
          "base_uri": "https://localhost:8080/"
        },
        "id": "z6QoFdNyRkLU",
        "outputId": "106c16ed-3b97-4971-e1eb-f9b7d8ab94dd"
      },
      "execution_count": 63,
      "outputs": [
        {
          "output_type": "stream",
          "name": "stdout",
          "text": [
            "              precision    recall  f1-score   support\n",
            "\n",
            "           0       0.96      1.00      0.98      1464\n",
            "           1       0.50      0.01      0.03        69\n",
            "\n",
            "    accuracy                           0.95      1533\n",
            "   macro avg       0.73      0.51      0.50      1533\n",
            "weighted avg       0.94      0.95      0.93      1533\n",
            "\n"
          ]
        }
      ]
    },
    {
      "cell_type": "code",
      "source": [
        "print(f'ROC AUC score: {round(roc_auc_score(Y_test, Y_prob), 3)}')\n",
        "print('-----------------------------------------------------')\n",
        "print('Cross-validation scores with 5 folds:')\n",
        "print('')\n",
        "print(f\"ROC AUC: {round(cross_val_score(knn, X_train_balanced, Y_train_balanced, cv = 5, scoring = 'roc_auc').mean(), 3)}\")\n",
        "print(f\"precision: {round(cross_val_score(knn, X_train_balanced, Y_train_balanced, cv = 5, scoring = 'precision').mean(), 2)}\")\n",
        "print(f\"recall: {round(cross_val_score(knn, X_train_balanced, Y_train_balanced, cv = 5, scoring = 'recall').mean(), 2)}\")\n",
        "print(f\"f1: {round(cross_val_score(knn, X_train_balanced, Y_train_balanced, cv = 5, scoring = 'f1').mean(), 2)}\")\n"
      ],
      "metadata": {
        "colab": {
          "base_uri": "https://localhost:8080/"
        },
        "id": "_neVrbDrSZnL",
        "outputId": "49f703b5-534f-4181-e95d-b889d30ff15b"
      },
      "execution_count": 64,
      "outputs": [
        {
          "output_type": "stream",
          "name": "stdout",
          "text": [
            "ROC AUC score: 0.642\n",
            "-----------------------------------------------------\n",
            "Cross-validation scores with 5 folds:\n",
            "\n",
            "ROC AUC: 0.947\n",
            "precision: 0.83\n",
            "recall: 0.98\n",
            "f1: 0.9\n"
          ]
        }
      ]
    },
    {
      "cell_type": "code",
      "source": [
        "# Visualize confusion matrix\n",
        "plt.figure(figsize = (8, 5))\n",
        "sns.heatmap(knn_cm, cmap = 'Reds', annot = True, fmt = 'd', linewidths = 5, cbar = False, annot_kws = {'fontsize': 15}, \n",
        "            yticklabels = ['No stroke', 'Stroke'], xticklabels = ['Predicted no stroke', 'Predicted stroke'])\n",
        "plt.yticks(rotation = 0)\n",
        "\n",
        "plt.show()"
      ],
      "metadata": {
        "colab": {
          "base_uri": "https://localhost:8080/",
          "height": 322
        },
        "id": "g6zVSYiHSqS-",
        "outputId": "eb2fd5cb-7aa4-45c7-f3bc-cfc6cb50fcff"
      },
      "execution_count": 65,
      "outputs": [
        {
          "output_type": "display_data",
          "data": {
            "text/plain": [
              "<Figure size 576x360 with 1 Axes>"
            ],
            "image/png": "[encoded data removed]"
          },
          "metadata": {}
        }
      ]
    },
    {
      "cell_type": "code",
      "source": [
        "# Roc curve\n",
        "false_positive_rate, true_positive_rate, thresholds = roc_curve(Y_test, Y_prob)\n",
        "roc_auc = auc(false_positive_rate, true_positive_rate)\n",
        "\n",
        "sns.set_theme(style = 'white')\n",
        "plt.figure(figsize = (8, 8))\n",
        "plt.plot(false_positive_rate,true_positive_rate, color = '#b01717', label = 'AUC = %0.3f' % roc_auc)\n",
        "plt.legend(loc = 'lower right')\n",
        "plt.plot([0, 1], [0, 1], linestyle = '--', color = '#174ab0')\n",
        "plt.axis('tight')\n",
        "plt.ylabel('True Positive Rate')\n",
        "plt.xlabel('False Positive Rate')\n",
        "plt.show()"
      ],
      "metadata": {
        "colab": {
          "base_uri": "https://localhost:8080/",
          "height": 502
        },
        "id": "A0Dv6aPWSuvH",
        "outputId": "9410f21c-6a34-4180-ae2f-889d16f94c84"
      },
      "execution_count": 66,
      "outputs": [
        {
          "output_type": "display_data",
          "data": {
            "text/plain": [
              "<Figure size 576x576 with 1 Axes>"
            ],
            "image/png": "[encoded data removed]"
          },
          "metadata": {}
        }
      ]
    },
    {
      "cell_type": "markdown",
      "source": [
        "4. Random Forest Classifier Algorithm"
      ],
      "metadata": {
        "id": "LSeWYC9uTuq7"
      }
    },
    {
      "cell_type": "code",
      "source": [
        "from sklearn.ensemble import RandomForestClassifier\n",
        "rfc = RandomForestClassifier()"
      ],
      "metadata": {
        "id": "0kQOzJoITghy"
      },
      "execution_count": 67,
      "outputs": []
    },
    {
      "cell_type": "code",
      "source": [
        "rfc.fit(X_train_std, Y_train)"
      ],
      "metadata": {
        "colab": {
          "base_uri": "https://localhost:8080/"
        },
        "id": "0NOEnIXaVTTk",
        "outputId": "43c88b3d-40bf-4af1-bf21-521b5e8aac21"
      },
      "execution_count": 68,
      "outputs": [
        {
          "output_type": "execute_result",
          "data": {
            "text/plain": [
              "RandomForestClassifier()"
            ]
          },
          "metadata": {},
          "execution_count": 68
        }
      ]
    },
    {
      "cell_type": "code",
      "source": [
        "Y_pred = rfc.predict(X_test_std)\n",
        "Y_pred"
      ],
      "metadata": {
        "colab": {
          "base_uri": "https://localhost:8080/"
        },
        "id": "J0i0cqrWWTce",
        "outputId": "ebbf9679-2ab0-425c-d8ee-df83aacddf1f"
      },
      "execution_count": 69,
      "outputs": [
        {
          "output_type": "execute_result",
          "data": {
            "text/plain": [
              "array([0, 0, 0, ..., 0, 0, 0])"
            ]
          },
          "metadata": {},
          "execution_count": 69
        }
      ]
    },
    {
      "cell_type": "code",
      "source": [
        "Y_prob = rfc.predict_proba(X_test_std)[:,1]\n",
        "Y_prob"
      ],
      "metadata": {
        "colab": {
          "base_uri": "https://localhost:8080/"
        },
        "id": "KatWWfwuWYcD",
        "outputId": "87a8bc8b-4ee5-4a05-994c-1fc14221cc83"
      },
      "execution_count": 70,
      "outputs": [
        {
          "output_type": "execute_result",
          "data": {
            "text/plain": [
              "array([0.17, 0.08, 0.13, ..., 0.02, 0.  , 0.01])"
            ]
          },
          "metadata": {},
          "execution_count": 70
        }
      ]
    },
    {
      "cell_type": "code",
      "source": [
        "acc_rfc = accuracy_score(Y_test, Y_pred)\n",
        "result = print(f\"the accuracy is: {acc_rfc * 100}%\")"
      ],
      "metadata": {
        "colab": {
          "base_uri": "https://localhost:8080/"
        },
        "id": "5WQ9DU7jWdvr",
        "outputId": "876e9f1b-f1a7-40d8-ed5e-6871445cf1f1"
      },
      "execution_count": 71,
      "outputs": [
        {
          "output_type": "stream",
          "name": "stdout",
          "text": [
            "the accuracy is: 95.368558382257%\n"
          ]
        }
      ]
    },
    {
      "cell_type": "code",
      "source": [
        "results.iloc[0, 3] = round(precision_score(Y_test, Y_pred), 2)\n",
        "results.iloc[1, 3] = round(recall_score(Y_test, Y_pred), 2)\n",
        "results.iloc[2, 3] = round(f1_score(Y_test, Y_pred), 2)\n",
        "results.iloc[3, 3] = round(roc_auc_score(Y_test, Y_prob), 3)\n",
        "rfc_cm = confusion_matrix(Y_test, Y_pred)\n",
        "\n",
        "print(classification_report(Y_test, Y_pred))"
      ],
      "metadata": {
        "colab": {
          "base_uri": "https://localhost:8080/"
        },
        "id": "aGX3i5l7Wj_a",
        "outputId": "de5d0775-77f8-4663-a447-392d07845c01"
      },
      "execution_count": 72,
      "outputs": [
        {
          "output_type": "stream",
          "name": "stdout",
          "text": [
            "              precision    recall  f1-score   support\n",
            "\n",
            "           0       0.95      1.00      0.98      1464\n",
            "           1       0.00      0.00      0.00        69\n",
            "\n",
            "    accuracy                           0.95      1533\n",
            "   macro avg       0.48      0.50      0.49      1533\n",
            "weighted avg       0.91      0.95      0.93      1533\n",
            "\n"
          ]
        }
      ]
    },
    {
      "cell_type": "code",
      "source": [
        "print(f'ROC AUC score: {round(roc_auc_score(Y_test, Y_prob), 3)}')\n",
        "print('-----------------------------------------------------')\n",
        "print('Cross-validation scores with 5 folds:')\n",
        "print('')\n",
        "print(f\"ROC AUC: {round(cross_val_score(rfc, X_train_balanced, Y_train_balanced, cv = 5, scoring = 'roc_auc').mean(), 3)}\")\n",
        "print(f\"precision: {round(cross_val_score(rfc, X_train_balanced, Y_train_balanced, cv = 5, scoring = 'precision').mean(), 2)}\")\n",
        "print(f\"recall: {round(cross_val_score(rfc, X_train_balanced, Y_train_balanced, cv = 5, scoring = 'recall').mean(), 2)}\")\n",
        "print(f\"f1: {round(cross_val_score(rfc, X_train_balanced, Y_train_balanced, cv = 5, scoring = 'f1').mean(), 2)}\")"
      ],
      "metadata": {
        "colab": {
          "base_uri": "https://localhost:8080/"
        },
        "id": "T19q19lvYVS7",
        "outputId": "5ccce8f8-6a87-415b-ab2b-c286dbde4398"
      },
      "execution_count": 73,
      "outputs": [
        {
          "output_type": "stream",
          "name": "stdout",
          "text": [
            "ROC AUC score: 0.821\n",
            "-----------------------------------------------------\n",
            "Cross-validation scores with 5 folds:\n",
            "\n",
            "ROC AUC: 0.988\n",
            "precision: 0.93\n",
            "recall: 0.96\n",
            "f1: 0.94\n"
          ]
        }
      ]
    },
    {
      "cell_type": "code",
      "source": [
        "# Visualize confusion matrix\n",
        "plt.figure(figsize = (8, 5))\n",
        "sns.heatmap(rfc_cm, cmap = 'Reds', annot = True, fmt = 'd', linewidths = 5, cbar = False, annot_kws = {'fontsize': 15}, \n",
        "            yticklabels = ['No stroke', 'Stroke'], xticklabels = ['Predicted no stroke', 'Predicted stroke'])\n",
        "plt.yticks(rotation = 0)\n",
        "\n",
        "plt.show()"
      ],
      "metadata": {
        "colab": {
          "base_uri": "https://localhost:8080/",
          "height": 322
        },
        "id": "PogDcs0OWwtO",
        "outputId": "71ff8a8f-3b3e-43be-8d65-07b7158ba31f"
      },
      "execution_count": 74,
      "outputs": [
        {
          "output_type": "display_data",
          "data": {
            "text/plain": [
              "<Figure size 576x360 with 1 Axes>"
            ],
            "image/png": "[encoded data removed]"
          },
          "metadata": {}
        }
      ]
    },
    {
      "cell_type": "code",
      "source": [
        "# Roc curve\n",
        "false_positive_rate, true_positive_rate, thresholds = roc_curve(Y_test, Y_prob)\n",
        "roc_auc = auc(false_positive_rate, true_positive_rate)\n",
        "\n",
        "sns.set_theme(style = 'white')\n",
        "plt.figure(figsize = (8, 8))\n",
        "plt.plot(false_positive_rate,true_positive_rate, color = '#b01717', label = 'AUC = %0.3f' % roc_auc)\n",
        "plt.legend(loc = 'lower right')\n",
        "plt.plot([0, 1], [0, 1], linestyle = '--', color = '#174ab0')\n",
        "plt.axis('tight')\n",
        "plt.ylabel('True Positive Rate')\n",
        "plt.xlabel('False Positive Rate')\n",
        "plt.show()"
      ],
      "metadata": {
        "colab": {
          "base_uri": "https://localhost:8080/",
          "height": 502
        },
        "id": "MbErAv0oXGtp",
        "outputId": "989e53a3-f984-4ca3-f3b4-f6917eecd906"
      },
      "execution_count": 75,
      "outputs": [
        {
          "output_type": "display_data",
          "data": {
            "text/plain": [
              "<Figure size 576x576 with 1 Axes>"
            ],
            "image/png": "[encoded data removed]"
          },
          "metadata": {}
        }
      ]
    },
    {
      "cell_type": "code",
      "source": [
        "# Feature importance\n",
        "f_imp2 = pd.DataFrame(columns = ['feature', 'importance'], index = range(10))\n",
        "for i in range(len(f_imp2.index)):\n",
        "    f_imp2.iloc[i, 0] = X_train_balanced.columns.to_list()[i]\n",
        "f_imp2['importance'] = rfc.feature_importances_\n",
        "f_imp2 = f_imp2.sort_values('importance', ascending = False)\n",
        "f_imp2[0:9].style.background_gradient(cmap = 'Blues')"
      ],
      "metadata": {
        "colab": {
          "base_uri": "https://localhost:8080/",
          "height": 332
        },
        "id": "xbBlR2XWXM9b",
        "outputId": "6fa2a0d7-61f2-4417-e37b-a8bb891685d5"
      },
      "execution_count": 76,
      "outputs": [
        {
          "output_type": "execute_result",
          "data": {
            "text/plain": [
              "<pandas.io.formats.style.Styler at 0x7fccab6342d0>"
            ],
            "text/html": [
              "<style type=\"text/css\">\n",
              "#T_a4e68_row0_col1 {\n",
              "  background-color: #08306b;\n",
              "  color: #f1f1f1;\n",
              "}\n",
              "#T_a4e68_row1_col1 {\n",
              "  background-color: #0d57a1;\n",
              "  color: #f1f1f1;\n",
              "}\n",
              "#T_a4e68_row2_col1 {\n",
              "  background-color: #125da6;\n",
              "  color: #f1f1f1;\n",
              "}\n",
              "#T_a4e68_row3_col1 {\n",
              "  background-color: #d1e2f3;\n",
              "  color: #000000;\n",
              "}\n",
              "#T_a4e68_row4_col1 {\n",
              "  background-color: #e3eef8;\n",
              "  color: #000000;\n",
              "}\n",
              "#T_a4e68_row5_col1 {\n",
              "  background-color: #eef5fc;\n",
              "  color: #000000;\n",
              "}\n",
              "#T_a4e68_row6_col1 {\n",
              "  background-color: #eff6fc;\n",
              "  color: #000000;\n",
              "}\n",
              "#T_a4e68_row7_col1 {\n",
              "  background-color: #f4f9fe;\n",
              "  color: #000000;\n",
              "}\n",
              "#T_a4e68_row8_col1 {\n",
              "  background-color: #f7fbff;\n",
              "  color: #000000;\n",
              "}\n",
              "</style>\n",
              "<table id=\"T_a4e68_\" class=\"dataframe\">\n",
              "  <thead>\n",
              "    <tr>\n",
              "      <th class=\"blank level0\" >&nbsp;</th>\n",
              "      <th class=\"col_heading level0 col0\" >feature</th>\n",
              "      <th class=\"col_heading level0 col1\" >importance</th>\n",
              "    </tr>\n",
              "  </thead>\n",
              "  <tbody>\n",
              "    <tr>\n",
              "      <th id=\"T_a4e68_level0_row0\" class=\"row_heading level0 row0\" >7</th>\n",
              "      <td id=\"T_a4e68_row0_col0\" class=\"data row0 col0\" >avg_glucose_level</td>\n",
              "      <td id=\"T_a4e68_row0_col1\" class=\"data row0 col1\" >0.280590</td>\n",
              "    </tr>\n",
              "    <tr>\n",
              "      <th id=\"T_a4e68_level0_row1\" class=\"row_heading level0 row1\" >8</th>\n",
              "      <td id=\"T_a4e68_row1_col0\" class=\"data row1 col0\" >bmi</td>\n",
              "      <td id=\"T_a4e68_row1_col1\" class=\"data row1 col1\" >0.241448</td>\n",
              "    </tr>\n",
              "    <tr>\n",
              "      <th id=\"T_a4e68_level0_row2\" class=\"row_heading level0 row2\" >1</th>\n",
              "      <td id=\"T_a4e68_row2_col0\" class=\"data row2 col0\" >age</td>\n",
              "      <td id=\"T_a4e68_row2_col1\" class=\"data row2 col1\" >0.235429</td>\n",
              "    </tr>\n",
              "    <tr>\n",
              "      <th id=\"T_a4e68_level0_row3\" class=\"row_heading level0 row3\" >9</th>\n",
              "      <td id=\"T_a4e68_row3_col0\" class=\"data row3 col0\" >smoking_status</td>\n",
              "      <td id=\"T_a4e68_row3_col1\" class=\"data row3 col1\" >0.070225</td>\n",
              "    </tr>\n",
              "    <tr>\n",
              "      <th id=\"T_a4e68_level0_row4\" class=\"row_heading level0 row4\" >5</th>\n",
              "      <td id=\"T_a4e68_row4_col0\" class=\"data row4 col0\" >work_type</td>\n",
              "      <td id=\"T_a4e68_row4_col1\" class=\"data row4 col1\" >0.046699</td>\n",
              "    </tr>\n",
              "    <tr>\n",
              "      <th id=\"T_a4e68_level0_row5\" class=\"row_heading level0 row5\" >0</th>\n",
              "      <td id=\"T_a4e68_row5_col0\" class=\"data row5 col0\" >gender</td>\n",
              "      <td id=\"T_a4e68_row5_col1\" class=\"data row5 col1\" >0.032447</td>\n",
              "    </tr>\n",
              "    <tr>\n",
              "      <th id=\"T_a4e68_level0_row6\" class=\"row_heading level0 row6\" >6</th>\n",
              "      <td id=\"T_a4e68_row6_col0\" class=\"data row6 col0\" >Residence_type</td>\n",
              "      <td id=\"T_a4e68_row6_col1\" class=\"data row6 col1\" >0.030840</td>\n",
              "    </tr>\n",
              "    <tr>\n",
              "      <th id=\"T_a4e68_level0_row7\" class=\"row_heading level0 row7\" >2</th>\n",
              "      <td id=\"T_a4e68_row7_col0\" class=\"data row7 col0\" >hypertension</td>\n",
              "      <td id=\"T_a4e68_row7_col1\" class=\"data row7 col1\" >0.024770</td>\n",
              "    </tr>\n",
              "    <tr>\n",
              "      <th id=\"T_a4e68_level0_row8\" class=\"row_heading level0 row8\" >3</th>\n",
              "      <td id=\"T_a4e68_row8_col0\" class=\"data row8 col0\" >heart_disease</td>\n",
              "      <td id=\"T_a4e68_row8_col1\" class=\"data row8 col1\" >0.019843</td>\n",
              "    </tr>\n",
              "  </tbody>\n",
              "</table>\n"
            ]
          },
          "metadata": {},
          "execution_count": 76
        }
      ]
    },
    {
      "cell_type": "markdown",
      "source": [
        "5. Support Vector Machine(SVM) Algorithm with 'RBF' Kernel"
      ],
      "metadata": {
        "id": "3p1C6L4ZZcW9"
      }
    },
    {
      "cell_type": "code",
      "source": [
        "from sklearn.svm import SVC\n",
        "svc_rbf = SVC(kernel = 'rbf', probability = True)"
      ],
      "metadata": {
        "id": "zw3fVOkib5cR"
      },
      "execution_count": 77,
      "outputs": []
    },
    {
      "cell_type": "code",
      "source": [
        "svc_rbf.fit(X_train_std, Y_train)"
      ],
      "metadata": {
        "colab": {
          "base_uri": "https://localhost:8080/"
        },
        "id": "K6mEAtlxdI1w",
        "outputId": "089e8901-5807-41fd-a2ea-85e001cd22c3"
      },
      "execution_count": 78,
      "outputs": [
        {
          "output_type": "execute_result",
          "data": {
            "text/plain": [
              "SVC(probability=True)"
            ]
          },
          "metadata": {},
          "execution_count": 78
        }
      ]
    },
    {
      "cell_type": "code",
      "source": [
        "Y_pred = svc_rbf.predict(X_test_std)\n",
        "Y_pred"
      ],
      "metadata": {
        "colab": {
          "base_uri": "https://localhost:8080/"
        },
        "id": "bBR49wLcdX21",
        "outputId": "6d9cd1b3-1a09-4621-bfd5-7214f2bd2717"
      },
      "execution_count": 79,
      "outputs": [
        {
          "output_type": "execute_result",
          "data": {
            "text/plain": [
              "array([0, 0, 0, ..., 0, 0, 0])"
            ]
          },
          "metadata": {},
          "execution_count": 79
        }
      ]
    },
    {
      "cell_type": "code",
      "source": [
        "Y_prob = svc_rbf.predict_proba(X_test_std)[:,1]\n",
        "Y_prob"
      ],
      "metadata": {
        "colab": {
          "base_uri": "https://localhost:8080/"
        },
        "id": "Tw2XFZHHdf-1",
        "outputId": "63d40f61-6dba-4116-d68a-aba935d7a51f"
      },
      "execution_count": 80,
      "outputs": [
        {
          "output_type": "execute_result",
          "data": {
            "text/plain": [
              "array([0.05548692, 0.05206832, 0.05368488, ..., 0.05312639, 0.05362016,\n",
              "       0.05300347])"
            ]
          },
          "metadata": {},
          "execution_count": 80
        }
      ]
    },
    {
      "cell_type": "code",
      "source": [
        "acc_svc_rbf = accuracy_score(Y_test, Y_pred)\n",
        "result = print(f\"the accuracy is: {acc_svc_rbf * 100}%\")"
      ],
      "metadata": {
        "colab": {
          "base_uri": "https://localhost:8080/"
        },
        "id": "5ofELx0Ld0mi",
        "outputId": "e7d0f032-f8e8-4451-ae92-712939ecf22e"
      },
      "execution_count": 81,
      "outputs": [
        {
          "output_type": "stream",
          "name": "stdout",
          "text": [
            "the accuracy is: 95.49902152641879%\n"
          ]
        }
      ]
    },
    {
      "cell_type": "code",
      "source": [
        "results.iloc[0, 4] = round(precision_score(Y_test, Y_pred), 2)\n",
        "results.iloc[1, 4] = round(recall_score(Y_test, Y_pred), 2)\n",
        "results.iloc[2, 4] = round(f1_score(Y_test, Y_pred), 2)\n",
        "results.iloc[3, 4] = round(roc_auc_score(Y_test, Y_prob), 3)\n",
        "svc_rbf_cm = confusion_matrix(Y_test, Y_pred)\n",
        "\n",
        "print(classification_report(Y_test, Y_pred))"
      ],
      "metadata": {
        "colab": {
          "base_uri": "https://localhost:8080/"
        },
        "id": "Ob_hmexzeIIQ",
        "outputId": "e6a2ac94-46a4-49fc-80cc-0f255edb6b65"
      },
      "execution_count": 82,
      "outputs": [
        {
          "output_type": "stream",
          "name": "stdout",
          "text": [
            "              precision    recall  f1-score   support\n",
            "\n",
            "           0       0.95      1.00      0.98      1464\n",
            "           1       0.00      0.00      0.00        69\n",
            "\n",
            "    accuracy                           0.95      1533\n",
            "   macro avg       0.48      0.50      0.49      1533\n",
            "weighted avg       0.91      0.95      0.93      1533\n",
            "\n"
          ]
        }
      ]
    },
    {
      "cell_type": "code",
      "source": [
        "print(f'ROC AUC score: {round(roc_auc_score(Y_test, Y_prob), 3)}')\n",
        "print('-----------------------------------------------------')\n",
        "print('Cross-validation scores with 5 folds:')\n",
        "print('')\n",
        "print(f\"ROC AUC: {round(cross_val_score(svc_rbf, X_train_balanced, Y_train_balanced, cv = 5, scoring = 'roc_auc').mean(), 3)}\")\n",
        "print(f\"precision: {round(cross_val_score(svc_rbf, X_train_balanced, Y_train_balanced, cv = 5, scoring = 'precision').mean(), 2)}\")\n",
        "print(f\"recall: {round(cross_val_score(svc_rbf, X_train_balanced, Y_train_balanced, cv = 5, scoring = 'recall').mean(), 2)}\")\n",
        "print(f\"f1: {round(cross_val_score(svc_rbf, X_train_balanced, Y_train_balanced, cv = 5, scoring = 'f1').mean(), 2)}\")\n"
      ],
      "metadata": {
        "colab": {
          "base_uri": "https://localhost:8080/"
        },
        "id": "S1Rzb_JHebuy",
        "outputId": "055f00ea-ea00-435d-cc2b-0c27034e64cd"
      },
      "execution_count": 83,
      "outputs": [
        {
          "output_type": "stream",
          "name": "stdout",
          "text": [
            "ROC AUC score: 0.58\n",
            "-----------------------------------------------------\n",
            "Cross-validation scores with 5 folds:\n",
            "\n",
            "ROC AUC: 0.85\n",
            "precision: 0.73\n",
            "recall: 0.85\n",
            "f1: 0.79\n"
          ]
        }
      ]
    },
    {
      "cell_type": "code",
      "source": [
        "# Visualize confusion matrix\n",
        "plt.figure(figsize = (8, 5))\n",
        "sns.heatmap(svc_rbf_cm, cmap = 'Reds', annot = True, fmt = 'd', linewidths = 5, cbar = False, annot_kws = {'fontsize': 15}, \n",
        "            yticklabels = ['No stroke', 'Stroke'], xticklabels = ['Predicted no stroke', 'Predicted stroke'])\n",
        "plt.yticks(rotation = 0)\n",
        "\n",
        "plt.show()"
      ],
      "metadata": {
        "colab": {
          "base_uri": "https://localhost:8080/",
          "height": 322
        },
        "id": "ABi9VEdxez2A",
        "outputId": "a9478a0b-6623-44ad-abe1-6233db4a53d3"
      },
      "execution_count": 84,
      "outputs": [
        {
          "output_type": "display_data",
          "data": {
            "text/plain": [
              "<Figure size 576x360 with 1 Axes>"
            ],
            "image/png": "[encoded data removed]"
          },
          "metadata": {}
        }
      ]
    },
    {
      "cell_type": "code",
      "source": [
        "# Roc curve\n",
        "false_positive_rate, true_positive_rate, thresholds = roc_curve(Y_test, Y_prob)\n",
        "roc_auc = auc(false_positive_rate, true_positive_rate)\n",
        "\n",
        "sns.set_theme(style = 'white')\n",
        "plt.figure(figsize = (8, 8))\n",
        "plt.plot(false_positive_rate,true_positive_rate, color = '#b01717', label = 'AUC = %0.3f' % roc_auc)\n",
        "plt.legend(loc = 'lower right')\n",
        "plt.plot([0, 1], [0, 1], linestyle = '--', color = '#174ab0')\n",
        "plt.axis('tight')\n",
        "plt.ylabel('True Positive Rate')\n",
        "plt.xlabel('False Positive Rate')\n",
        "plt.show()"
      ],
      "metadata": {
        "colab": {
          "base_uri": "https://localhost:8080/",
          "height": 502
        },
        "id": "PrqtHqu8e3o9",
        "outputId": "0cd6cac8-d1cb-494a-c424-c8fd1d6c7c2f"
      },
      "execution_count": 85,
      "outputs": [
        {
          "output_type": "display_data",
          "data": {
            "text/plain": [
              "<Figure size 576x576 with 1 Axes>"
            ],
            "image/png": "[encoded data removed]"
          },
          "metadata": {}
        }
      ]
    },
    {
      "cell_type": "markdown",
      "source": [
        "6. Gaussian Naive-Bayes Algorithm"
      ],
      "metadata": {
        "id": "Q0zFbO6rjO3E"
      }
    },
    {
      "cell_type": "code",
      "source": [
        "from sklearn.naive_bayes import GaussianNB\n",
        "gnb = GaussianNB()"
      ],
      "metadata": {
        "id": "AxpGfbm8iyGb"
      },
      "execution_count": 86,
      "outputs": []
    },
    {
      "cell_type": "code",
      "source": [
        "gnb.fit(X_train_std, Y_train)"
      ],
      "metadata": {
        "colab": {
          "base_uri": "https://localhost:8080/"
        },
        "id": "k48aBHGKjfZO",
        "outputId": "554db595-660c-44ca-d1b2-2edc82512c67"
      },
      "execution_count": 87,
      "outputs": [
        {
          "output_type": "execute_result",
          "data": {
            "text/plain": [
              "GaussianNB()"
            ]
          },
          "metadata": {},
          "execution_count": 87
        }
      ]
    },
    {
      "cell_type": "code",
      "source": [
        "Y_pred = gnb.predict(X_test_std)\n",
        "Y_pred"
      ],
      "metadata": {
        "colab": {
          "base_uri": "https://localhost:8080/"
        },
        "id": "ZwYpc_LojlUz",
        "outputId": "391b0b81-5f36-47d5-b4db-a63da15ddd40"
      },
      "execution_count": 88,
      "outputs": [
        {
          "output_type": "execute_result",
          "data": {
            "text/plain": [
              "array([1, 1, 0, ..., 0, 0, 0])"
            ]
          },
          "metadata": {},
          "execution_count": 88
        }
      ]
    },
    {
      "cell_type": "code",
      "source": [
        "Y_prob = gnb.predict_proba(X_test_std)[:,1]\n",
        "Y_prob"
      ],
      "metadata": {
        "colab": {
          "base_uri": "https://localhost:8080/"
        },
        "id": "5W4NJ0q_jtA4",
        "outputId": "c27ef793-c565-49bc-ddc3-3a5d150f2e01"
      },
      "execution_count": 89,
      "outputs": [
        {
          "output_type": "execute_result",
          "data": {
            "text/plain": [
              "array([9.99714226e-01, 9.87012767e-01, 2.47716255e-02, ...,\n",
              "       1.72839380e-02, 5.82099370e-04, 9.16661565e-04])"
            ]
          },
          "metadata": {},
          "execution_count": 89
        }
      ]
    },
    {
      "cell_type": "code",
      "source": [
        "acc_gnb = accuracy_score(Y_test, Y_pred)\n",
        "result = print(f\"the accuracy is: {acc_gnb * 100}%\")"
      ],
      "metadata": {
        "colab": {
          "base_uri": "https://localhost:8080/"
        },
        "id": "xsojSXzLjy9u",
        "outputId": "06711c00-f445-468c-87ca-60240cf6bed3"
      },
      "execution_count": 90,
      "outputs": [
        {
          "output_type": "stream",
          "name": "stdout",
          "text": [
            "the accuracy is: 86.49706457925636%\n"
          ]
        }
      ]
    },
    {
      "cell_type": "code",
      "source": [
        "results.iloc[0, 5] = round(precision_score(Y_test, Y_pred), 2)\n",
        "results.iloc[1, 5] = round(recall_score(Y_test, Y_pred), 2)\n",
        "results.iloc[2, 5] = round(f1_score(Y_test, Y_pred), 2)\n",
        "results.iloc[3, 5] = round(roc_auc_score(Y_test, Y_prob), 3)\n",
        "gnb_cm = confusion_matrix(Y_test, Y_pred)\n",
        "\n",
        "print(classification_report(Y_test, Y_pred))"
      ],
      "metadata": {
        "colab": {
          "base_uri": "https://localhost:8080/"
        },
        "id": "got1oJ-Jj_3k",
        "outputId": "274915a4-a4a4-4271-c39e-8e247241de56"
      },
      "execution_count": 91,
      "outputs": [
        {
          "output_type": "stream",
          "name": "stdout",
          "text": [
            "              precision    recall  f1-score   support\n",
            "\n",
            "           0       0.98      0.88      0.93      1464\n",
            "           1       0.18      0.55      0.27        69\n",
            "\n",
            "    accuracy                           0.86      1533\n",
            "   macro avg       0.58      0.72      0.60      1533\n",
            "weighted avg       0.94      0.86      0.90      1533\n",
            "\n"
          ]
        }
      ]
    },
    {
      "cell_type": "code",
      "source": [
        "print(f'ROC AUC score: {round(roc_auc_score(Y_test, Y_prob), 3)}')\n",
        "print('-----------------------------------------------------')\n",
        "print('Cross-validation scores with 5 folds:')\n",
        "print('')\n",
        "print(f\"ROC AUC: {round(cross_val_score(gnb, X_train_balanced, Y_train_balanced, cv = 5, scoring = 'roc_auc').mean(), 3)}\")\n",
        "print(f\"precision: {round(cross_val_score(gnb, X_train_balanced, Y_train_balanced, cv = 5, scoring = 'precision').mean(), 2)}\")\n",
        "print(f\"recall: {round(cross_val_score(gnb, X_train_balanced, Y_train_balanced, cv = 5, scoring = 'recall').mean(), 2)}\")\n",
        "print(f\"f1: {round(cross_val_score(gnb, X_train_balanced, Y_train_balanced, cv = 5, scoring = 'f1').mean(), 2)}\")\n"
      ],
      "metadata": {
        "colab": {
          "base_uri": "https://localhost:8080/"
        },
        "id": "PdEDr57ykxIz",
        "outputId": "3dd75a1e-3b54-471a-c6c3-11eab14d08c4"
      },
      "execution_count": 92,
      "outputs": [
        {
          "output_type": "stream",
          "name": "stdout",
          "text": [
            "ROC AUC score: 0.836\n",
            "-----------------------------------------------------\n",
            "Cross-validation scores with 5 folds:\n",
            "\n",
            "ROC AUC: 0.871\n",
            "precision: 0.76\n",
            "recall: 0.87\n",
            "f1: 0.81\n"
          ]
        }
      ]
    },
    {
      "cell_type": "code",
      "source": [
        "# Visualize confusion matrix\n",
        "plt.figure(figsize = (8, 5))\n",
        "sns.heatmap(gnb_cm, cmap = 'Reds', annot = True, fmt = 'd', linewidths = 5, cbar = False, annot_kws = {'fontsize': 15}, \n",
        "            yticklabels = ['No stroke', 'Stroke'], xticklabels = ['Predicted no stroke', 'Predicted stroke'])\n",
        "plt.yticks(rotation = 0)\n",
        "\n",
        "plt.show()\n"
      ],
      "metadata": {
        "colab": {
          "base_uri": "https://localhost:8080/",
          "height": 322
        },
        "id": "pyzuLMjgk-pP",
        "outputId": "4f6ef93f-e7f8-4ae7-b541-eceea6c7eaf3"
      },
      "execution_count": 93,
      "outputs": [
        {
          "output_type": "display_data",
          "data": {
            "text/plain": [
              "<Figure size 576x360 with 1 Axes>"
            ],
            "image/png": "[encoded data removed]"
          },
          "metadata": {}
        }
      ]
    },
    {
      "cell_type": "code",
      "source": [
        "# Roc curve\n",
        "false_positive_rate, true_positive_rate, thresholds = roc_curve(Y_test, Y_prob)\n",
        "roc_auc = auc(false_positive_rate, true_positive_rate)\n",
        "\n",
        "sns.set_theme(style = 'white')\n",
        "plt.figure(figsize = (8, 8))\n",
        "plt.plot(false_positive_rate,true_positive_rate, color = '#b01717', label = 'AUC = %0.3f' % roc_auc)\n",
        "plt.legend(loc = 'lower right')\n",
        "plt.plot([0, 1], [0, 1], linestyle = '--', color = '#174ab0')\n",
        "plt.axis('tight')\n",
        "plt.ylabel('True Positive Rate')\n",
        "plt.xlabel('False Positive Rate')\n",
        "plt.show()"
      ],
      "metadata": {
        "colab": {
          "base_uri": "https://localhost:8080/",
          "height": 502
        },
        "id": "r5zeEDvLlEtz",
        "outputId": "bb1d3f0f-6298-407e-a63f-1f6335f193be"
      },
      "execution_count": 94,
      "outputs": [
        {
          "output_type": "display_data",
          "data": {
            "text/plain": [
              "<Figure size 576x576 with 1 Axes>"
            ],
            "image/png": "[encoded data removed]"
          },
          "metadata": {}
        }
      ]
    },
    {
      "cell_type": "markdown",
      "source": [
        "7. Stochastic Gradient Descent(SGD) Classifier Algorithm"
      ],
      "metadata": {
        "id": "0GhkqU2llf47"
      }
    },
    {
      "cell_type": "code",
      "source": [
        "from sklearn.linear_model import SGDClassifier\n",
        "sgd_model = SGDClassifier(loss = 'hinge')"
      ],
      "metadata": {
        "id": "OCNHTAH8qYf0"
      },
      "execution_count": 95,
      "outputs": []
    },
    {
      "cell_type": "code",
      "source": [
        "sgd_model.fit(X_train_std, Y_train)"
      ],
      "metadata": {
        "colab": {
          "base_uri": "https://localhost:8080/"
        },
        "id": "CMYD7GlTquRJ",
        "outputId": "480d2718-aaed-4edc-8a04-a92cfe8d2391"
      },
      "execution_count": 96,
      "outputs": [
        {
          "output_type": "execute_result",
          "data": {
            "text/plain": [
              "SGDClassifier()"
            ]
          },
          "metadata": {},
          "execution_count": 96
        }
      ]
    },
    {
      "cell_type": "code",
      "source": [
        "from sklearn.calibration import CalibratedClassifierCV\n",
        "calibrator = CalibratedClassifierCV(sgd_model, cv = 'prefit')\n",
        "sgd = calibrator.fit(X_train_std, Y_train)"
      ],
      "metadata": {
        "id": "1Jf6Bdb-u1aA"
      },
      "execution_count": 97,
      "outputs": []
    },
    {
      "cell_type": "code",
      "source": [
        "Y_pred = sgd.predict(X_test_std)\n",
        "Y_pred"
      ],
      "metadata": {
        "colab": {
          "base_uri": "https://localhost:8080/"
        },
        "id": "UcohY825q3Md",
        "outputId": "23ce4fb2-ab8a-4d4b-953e-3dd2b4d40f60"
      },
      "execution_count": 98,
      "outputs": [
        {
          "output_type": "execute_result",
          "data": {
            "text/plain": [
              "array([0, 0, 0, ..., 0, 0, 0])"
            ]
          },
          "metadata": {},
          "execution_count": 98
        }
      ]
    },
    {
      "cell_type": "code",
      "source": [
        "Y_prob = sgd.predict_proba(X_test_std)[:,1]\n",
        "Y_prob"
      ],
      "metadata": {
        "colab": {
          "base_uri": "https://localhost:8080/"
        },
        "id": "EdR-EIG6q7cD",
        "outputId": "be8f957c-52ce-4581-bc1d-ca84117f1eb2"
      },
      "execution_count": 99,
      "outputs": [
        {
          "output_type": "execute_result",
          "data": {
            "text/plain": [
              "array([0.02784866, 0.0541529 , 0.04673624, ..., 0.04124312, 0.03604345,\n",
              "       0.03541634])"
            ]
          },
          "metadata": {},
          "execution_count": 99
        }
      ]
    },
    {
      "cell_type": "code",
      "source": [
        "acc_sgd_model = accuracy_score(Y_test, Y_pred)\n",
        "result = print(f\"the accuracy is: {acc_sgd_model * 100}%\")"
      ],
      "metadata": {
        "colab": {
          "base_uri": "https://localhost:8080/"
        },
        "id": "ezctS6oXq-8H",
        "outputId": "3723aff8-7221-4d52-baae-d29b2da1904c"
      },
      "execution_count": 100,
      "outputs": [
        {
          "output_type": "stream",
          "name": "stdout",
          "text": [
            "the accuracy is: 95.49902152641879%\n"
          ]
        }
      ]
    },
    {
      "cell_type": "code",
      "source": [
        "results.iloc[0, 6] = round(precision_score(Y_test, Y_pred), 2)\n",
        "results.iloc[1, 6] = round(recall_score(Y_test, Y_pred), 2)\n",
        "results.iloc[2, 6] = round(f1_score(Y_test, Y_pred), 2)\n",
        "results.iloc[3, 6] = round(roc_auc_score(Y_test, Y_prob), 3)\n",
        "sgd_model_cm = confusion_matrix(Y_test, Y_pred)\n",
        "\n",
        "print(classification_report(Y_test, Y_pred))"
      ],
      "metadata": {
        "colab": {
          "base_uri": "https://localhost:8080/"
        },
        "id": "SSfoE_GzrGLT",
        "outputId": "71e89c30-4632-440b-d7d5-68691a56eed8"
      },
      "execution_count": 101,
      "outputs": [
        {
          "output_type": "stream",
          "name": "stdout",
          "text": [
            "              precision    recall  f1-score   support\n",
            "\n",
            "           0       0.95      1.00      0.98      1464\n",
            "           1       0.00      0.00      0.00        69\n",
            "\n",
            "    accuracy                           0.95      1533\n",
            "   macro avg       0.48      0.50      0.49      1533\n",
            "weighted avg       0.91      0.95      0.93      1533\n",
            "\n"
          ]
        }
      ]
    },
    {
      "cell_type": "code",
      "source": [
        "print(f'ROC AUC score: {round(roc_auc_score(Y_test, Y_prob), 3)}')\n",
        "print('-----------------------------------------------------')\n",
        "print('Cross-validation scores with 5 folds:')\n",
        "print('')\n",
        "print(f\"ROC AUC: {round(cross_val_score(sgd_model, X_train_balanced, Y_train_balanced, cv = 5, scoring = 'roc_auc').mean(), 3)}\")\n",
        "print(f\"precision: {round(cross_val_score(sgd_model, X_train_balanced, Y_train_balanced, cv = 5, scoring = 'precision').mean(), 2)}\")\n",
        "print(f\"recall: {round(cross_val_score(sgd_model, X_train_balanced, Y_train_balanced, cv = 5, scoring = 'recall').mean(), 2)}\")\n",
        "print(f\"f1: {round(cross_val_score(sgd_model, X_train_balanced, Y_train_balanced, cv = 5, scoring = 'f1').mean(), 2)}\")\n"
      ],
      "metadata": {
        "colab": {
          "base_uri": "https://localhost:8080/"
        },
        "id": "Hh833EQ9rpAr",
        "outputId": "bcc46d6e-0d44-42cb-eb0b-721bf864ff9a"
      },
      "execution_count": 102,
      "outputs": [
        {
          "output_type": "stream",
          "name": "stdout",
          "text": [
            "ROC AUC score: 0.722\n",
            "-----------------------------------------------------\n",
            "Cross-validation scores with 5 folds:\n",
            "\n",
            "ROC AUC: 0.871\n",
            "precision: 0.79\n",
            "recall: 0.82\n",
            "f1: 0.65\n"
          ]
        }
      ]
    },
    {
      "cell_type": "code",
      "source": [
        "# Visualize confusion matrix\n",
        "plt.figure(figsize = (8, 5))\n",
        "sns.heatmap(sgd_model_cm, cmap = 'Reds', annot = True, fmt = 'd', linewidths = 5, cbar = False, annot_kws = {'fontsize': 15}, \n",
        "            yticklabels = ['No stroke', 'Stroke'], xticklabels = ['Predicted no stroke', 'Predicted stroke'])\n",
        "plt.yticks(rotation = 0)\n",
        "\n",
        "plt.show()"
      ],
      "metadata": {
        "colab": {
          "base_uri": "https://localhost:8080/",
          "height": 322
        },
        "id": "X1w2WrKhryEv",
        "outputId": "2f728406-93c8-46fa-93e5-65d00e7ade5d"
      },
      "execution_count": 103,
      "outputs": [
        {
          "output_type": "display_data",
          "data": {
            "text/plain": [
              "<Figure size 576x360 with 1 Axes>"
            ],
            "image/png": "[encoded data removed]"
          },
          "metadata": {}
        }
      ]
    },
    {
      "cell_type": "code",
      "source": [
        "# Roc curve\n",
        "false_positive_rate, true_positive_rate, thresholds = roc_curve(Y_test, Y_prob)\n",
        "roc_auc = auc(false_positive_rate, true_positive_rate)\n",
        "\n",
        "sns.set_theme(style = 'white')\n",
        "plt.figure(figsize = (8, 8))\n",
        "plt.plot(false_positive_rate,true_positive_rate, color = '#b01717', label = 'AUC = %0.3f' % roc_auc)\n",
        "plt.legend(loc = 'lower right')\n",
        "plt.plot([0, 1], [0, 1], linestyle = '--', color = '#174ab0')\n",
        "plt.axis('tight')\n",
        "plt.ylabel('True Positive Rate')\n",
        "plt.xlabel('False Positive Rate')\n",
        "plt.show()"
      ],
      "metadata": {
        "colab": {
          "base_uri": "https://localhost:8080/",
          "height": 502
        },
        "id": "q24tsNhTr4Q5",
        "outputId": "e7cdc264-30b1-4c11-c6b5-46fd106c546b"
      },
      "execution_count": 104,
      "outputs": [
        {
          "output_type": "display_data",
          "data": {
            "text/plain": [
              "<Figure size 576x576 with 1 Axes>"
            ],
            "image/png": "[encoded data removed]"
          },
          "metadata": {}
        }
      ]
    },
    {
      "cell_type": "code",
      "source": [
        "# Feature importance\n",
        "f_imp3 = pd.DataFrame(columns = ['feature', 'importance (abs coef)'], index = range(10))\n",
        "for i in range(len(f_imp3.index)):\n",
        "    f_imp3.iloc[i, 0] = X_train_balanced.columns.to_list()[i]\n",
        "f_imp3['importance (abs coef)'] = abs(sgd_model.coef_)[0]\n",
        "f_imp3 = f_imp3.sort_values('importance (abs coef)', ascending = False)\n",
        "f_imp3[0:9].style.background_gradient(cmap = 'Blues')"
      ],
      "metadata": {
        "colab": {
          "base_uri": "https://localhost:8080/",
          "height": 332
        },
        "id": "kkXv-6Cjr9TN",
        "outputId": "688bbedb-0710-4701-d6b2-cc8ef5528c49"
      },
      "execution_count": 105,
      "outputs": [
        {
          "output_type": "execute_result",
          "data": {
            "text/plain": [
              "<pandas.io.formats.style.Styler at 0x7fcca878d110>"
            ],
            "text/html": [
              "<style type=\"text/css\">\n",
              "#T_d0ebd_row0_col1 {\n",
              "  background-color: #08306b;\n",
              "  color: #f1f1f1;\n",
              "}\n",
              "#T_d0ebd_row1_col1 {\n",
              "  background-color: #2e7ebc;\n",
              "  color: #f1f1f1;\n",
              "}\n",
              "#T_d0ebd_row2_col1 {\n",
              "  background-color: #c3daee;\n",
              "  color: #000000;\n",
              "}\n",
              "#T_d0ebd_row3_col1 {\n",
              "  background-color: #e3eef8;\n",
              "  color: #000000;\n",
              "}\n",
              "#T_d0ebd_row4_col1 {\n",
              "  background-color: #e4eff9;\n",
              "  color: #000000;\n",
              "}\n",
              "#T_d0ebd_row5_col1 {\n",
              "  background-color: #eef5fc;\n",
              "  color: #000000;\n",
              "}\n",
              "#T_d0ebd_row6_col1 {\n",
              "  background-color: #f2f7fd;\n",
              "  color: #000000;\n",
              "}\n",
              "#T_d0ebd_row7_col1 {\n",
              "  background-color: #f3f8fe;\n",
              "  color: #000000;\n",
              "}\n",
              "#T_d0ebd_row8_col1 {\n",
              "  background-color: #f7fbff;\n",
              "  color: #000000;\n",
              "}\n",
              "</style>\n",
              "<table id=\"T_d0ebd_\" class=\"dataframe\">\n",
              "  <thead>\n",
              "    <tr>\n",
              "      <th class=\"blank level0\" >&nbsp;</th>\n",
              "      <th class=\"col_heading level0 col0\" >feature</th>\n",
              "      <th class=\"col_heading level0 col1\" >importance (abs coef)</th>\n",
              "    </tr>\n",
              "  </thead>\n",
              "  <tbody>\n",
              "    <tr>\n",
              "      <th id=\"T_d0ebd_level0_row0\" class=\"row_heading level0 row0\" >2</th>\n",
              "      <td id=\"T_d0ebd_row0_col0\" class=\"data row0 col0\" >hypertension</td>\n",
              "      <td id=\"T_d0ebd_row0_col1\" class=\"data row0 col1\" >0.346529</td>\n",
              "    </tr>\n",
              "    <tr>\n",
              "      <th id=\"T_d0ebd_level0_row1\" class=\"row_heading level0 row1\" >1</th>\n",
              "      <td id=\"T_d0ebd_row1_col0\" class=\"data row1 col0\" >age</td>\n",
              "      <td id=\"T_d0ebd_row1_col1\" class=\"data row1 col1\" >0.246379</td>\n",
              "    </tr>\n",
              "    <tr>\n",
              "      <th id=\"T_d0ebd_level0_row2\" class=\"row_heading level0 row2\" >7</th>\n",
              "      <td id=\"T_d0ebd_row2_col0\" class=\"data row2 col0\" >avg_glucose_level</td>\n",
              "      <td id=\"T_d0ebd_row2_col1\" class=\"data row2 col1\" >0.097519</td>\n",
              "    </tr>\n",
              "    <tr>\n",
              "      <th id=\"T_d0ebd_level0_row3\" class=\"row_heading level0 row3\" >8</th>\n",
              "      <td id=\"T_d0ebd_row3_col0\" class=\"data row3 col0\" >bmi</td>\n",
              "      <td id=\"T_d0ebd_row3_col1\" class=\"data row3 col1\" >0.045977</td>\n",
              "    </tr>\n",
              "    <tr>\n",
              "      <th id=\"T_d0ebd_level0_row4\" class=\"row_heading level0 row4\" >0</th>\n",
              "      <td id=\"T_d0ebd_row4_col0\" class=\"data row4 col0\" >gender</td>\n",
              "      <td id=\"T_d0ebd_row4_col1\" class=\"data row4 col1\" >0.043331</td>\n",
              "    </tr>\n",
              "    <tr>\n",
              "      <th id=\"T_d0ebd_level0_row5\" class=\"row_heading level0 row5\" >6</th>\n",
              "      <td id=\"T_d0ebd_row5_col0\" class=\"data row5 col0\" >Residence_type</td>\n",
              "      <td id=\"T_d0ebd_row5_col1\" class=\"data row5 col1\" >0.026675</td>\n",
              "    </tr>\n",
              "    <tr>\n",
              "      <th id=\"T_d0ebd_level0_row6\" class=\"row_heading level0 row6\" >3</th>\n",
              "      <td id=\"T_d0ebd_row6_col0\" class=\"data row6 col0\" >heart_disease</td>\n",
              "      <td id=\"T_d0ebd_row6_col1\" class=\"data row6 col1\" >0.021190</td>\n",
              "    </tr>\n",
              "    <tr>\n",
              "      <th id=\"T_d0ebd_level0_row7\" class=\"row_heading level0 row7\" >5</th>\n",
              "      <td id=\"T_d0ebd_row7_col0\" class=\"data row7 col0\" >work_type</td>\n",
              "      <td id=\"T_d0ebd_row7_col1\" class=\"data row7 col1\" >0.018519</td>\n",
              "    </tr>\n",
              "    <tr>\n",
              "      <th id=\"T_d0ebd_level0_row8\" class=\"row_heading level0 row8\" >4</th>\n",
              "      <td id=\"T_d0ebd_row8_col0\" class=\"data row8 col0\" >ever_married</td>\n",
              "      <td id=\"T_d0ebd_row8_col1\" class=\"data row8 col1\" >0.010851</td>\n",
              "    </tr>\n",
              "  </tbody>\n",
              "</table>\n"
            ]
          },
          "metadata": {},
          "execution_count": 105
        }
      ]
    },
    {
      "cell_type": "markdown",
      "source": [
        "8. AdaBoost Classifier Algorithm"
      ],
      "metadata": {
        "id": "0R74A7yNsMhi"
      }
    },
    {
      "cell_type": "code",
      "source": [
        "from sklearn.ensemble import AdaBoostClassifier\n",
        "ada = AdaBoostClassifier()"
      ],
      "metadata": {
        "id": "w9dtm8zitCYM"
      },
      "execution_count": 106,
      "outputs": []
    },
    {
      "cell_type": "code",
      "source": [
        "ada.fit(X_train_std, Y_train)"
      ],
      "metadata": {
        "colab": {
          "base_uri": "https://localhost:8080/"
        },
        "id": "M7BlCuk7tQMW",
        "outputId": "d2889308-0c05-459e-a7a6-ed90dfa8b1ac"
      },
      "execution_count": 107,
      "outputs": [
        {
          "output_type": "execute_result",
          "data": {
            "text/plain": [
              "AdaBoostClassifier()"
            ]
          },
          "metadata": {},
          "execution_count": 107
        }
      ]
    },
    {
      "cell_type": "code",
      "source": [
        "Y_pred = ada.predict(X_test_std)\n",
        "Y_pred"
      ],
      "metadata": {
        "colab": {
          "base_uri": "https://localhost:8080/"
        },
        "id": "KBzBFJjwtixr",
        "outputId": "7466d552-512f-4aca-9f5e-b43b0629b440"
      },
      "execution_count": 108,
      "outputs": [
        {
          "output_type": "execute_result",
          "data": {
            "text/plain": [
              "array([0, 0, 0, ..., 0, 0, 0])"
            ]
          },
          "metadata": {},
          "execution_count": 108
        }
      ]
    },
    {
      "cell_type": "code",
      "source": [
        "Y_prob = ada.predict_proba(X_test_std)[:,1]\n",
        "Y_prob"
      ],
      "metadata": {
        "colab": {
          "base_uri": "https://localhost:8080/"
        },
        "id": "rkDUBIKjtk7W",
        "outputId": "88c3721a-e04e-4435-a34e-eecc60c94332"
      },
      "execution_count": 109,
      "outputs": [
        {
          "output_type": "execute_result",
          "data": {
            "text/plain": [
              "array([0.48514683, 0.48280567, 0.48732079, ..., 0.48732079, 0.442616  ,\n",
              "       0.442616  ])"
            ]
          },
          "metadata": {},
          "execution_count": 109
        }
      ]
    },
    {
      "cell_type": "code",
      "source": [
        "acc_ada = accuracy_score(Y_test, Y_pred)\n",
        "result = print(f\"the accuracy is: {acc_ada * 100}%\")"
      ],
      "metadata": {
        "colab": {
          "base_uri": "https://localhost:8080/"
        },
        "id": "QEq93olUto4p",
        "outputId": "73575021-bf84-4f49-db58-7794d4aa8485"
      },
      "execution_count": 110,
      "outputs": [
        {
          "output_type": "stream",
          "name": "stdout",
          "text": [
            "the accuracy is: 95.10763209393346%\n"
          ]
        }
      ]
    },
    {
      "cell_type": "code",
      "source": [
        "results.iloc[0, 7] = round(precision_score(Y_test, Y_pred), 2)\n",
        "results.iloc[1, 7] = round(recall_score(Y_test, Y_pred), 2)\n",
        "results.iloc[2, 7] = round(f1_score(Y_test, Y_pred), 2)\n",
        "results.iloc[3, 7] = round(roc_auc_score(Y_test, Y_prob), 3)\n",
        "ada_cm = confusion_matrix(Y_test, Y_pred)\n",
        "\n",
        "print(classification_report(Y_test, Y_pred))"
      ],
      "metadata": {
        "colab": {
          "base_uri": "https://localhost:8080/"
        },
        "id": "5DSz-s-Bw-xG",
        "outputId": "540923b9-173e-4a9c-cf9c-796f99aae543"
      },
      "execution_count": 111,
      "outputs": [
        {
          "output_type": "stream",
          "name": "stdout",
          "text": [
            "              precision    recall  f1-score   support\n",
            "\n",
            "           0       0.96      1.00      0.97      1464\n",
            "           1       0.12      0.01      0.03        69\n",
            "\n",
            "    accuracy                           0.95      1533\n",
            "   macro avg       0.54      0.50      0.50      1533\n",
            "weighted avg       0.92      0.95      0.93      1533\n",
            "\n"
          ]
        }
      ]
    },
    {
      "cell_type": "code",
      "source": [
        "print(f'ROC AUC score: {round(roc_auc_score(Y_test, Y_prob), 3)}')\n",
        "print('-----------------------------------------------------')\n",
        "print('Cross-validation scores with 5 folds:')\n",
        "print('')\n",
        "print(f\"ROC AUC: {round(cross_val_score(ada, X_train_balanced, Y_train_balanced, cv = 5, scoring = 'roc_auc').mean(), 3)}\")\n",
        "print(f\"precision: {round(cross_val_score(ada, X_train_balanced, Y_train_balanced, cv = 5, scoring = 'precision').mean(), 2)}\")\n",
        "print(f\"recall: {round(cross_val_score(ada, X_train_balanced, Y_train_balanced, cv = 5, scoring = 'recall').mean(), 2)}\")\n",
        "print(f\"f1: {round(cross_val_score(ada, X_train_balanced, Y_train_balanced, cv = 5, scoring = 'f1').mean(), 2)}\")\n"
      ],
      "metadata": {
        "colab": {
          "base_uri": "https://localhost:8080/"
        },
        "id": "3sQYK1A6xJYr",
        "outputId": "815a9550-8f77-4b7b-9196-6868e09a6e9d"
      },
      "execution_count": 112,
      "outputs": [
        {
          "output_type": "stream",
          "name": "stdout",
          "text": [
            "ROC AUC score: 0.837\n",
            "-----------------------------------------------------\n",
            "Cross-validation scores with 5 folds:\n",
            "\n",
            "ROC AUC: 0.926\n",
            "precision: 0.83\n",
            "recall: 0.87\n",
            "f1: 0.85\n"
          ]
        }
      ]
    },
    {
      "cell_type": "code",
      "source": [
        "# Visualize confusion matrix\n",
        "plt.figure(figsize = (8, 5))\n",
        "sns.heatmap(ada_cm, cmap = 'Reds', annot = True, fmt = 'd', linewidths = 5, cbar = False, annot_kws = {'fontsize': 15}, \n",
        "            yticklabels = ['No stroke', 'Stroke'], xticklabels = ['Predicted no stroke', 'Predicted stroke'])\n",
        "plt.yticks(rotation = 0)\n",
        "\n",
        "plt.show()"
      ],
      "metadata": {
        "colab": {
          "base_uri": "https://localhost:8080/",
          "height": 322
        },
        "id": "4TEFcqX5xVC0",
        "outputId": "a9389680-63e3-4c1c-adb4-b0787321d1f0"
      },
      "execution_count": 113,
      "outputs": [
        {
          "output_type": "display_data",
          "data": {
            "text/plain": [
              "<Figure size 576x360 with 1 Axes>"
            ],
            "image/png": "[encoded data removed]"
          },
          "metadata": {}
        }
      ]
    },
    {
      "cell_type": "code",
      "source": [
        "# Roc curve\n",
        "false_positive_rate, true_positive_rate, thresholds = roc_curve(Y_test, Y_prob)\n",
        "roc_auc = auc(false_positive_rate, true_positive_rate)\n",
        "\n",
        "sns.set_theme(style = 'white')\n",
        "plt.figure(figsize = (8, 8))\n",
        "plt.plot(false_positive_rate,true_positive_rate, color = '#b01717', label = 'AUC = %0.3f' % roc_auc)\n",
        "plt.legend(loc = 'lower right')\n",
        "plt.plot([0, 1], [0, 1], linestyle = '--', color = '#174ab0')\n",
        "plt.axis('tight')\n",
        "plt.ylabel('True Positive Rate')\n",
        "plt.xlabel('False Positive Rate')\n",
        "plt.show()"
      ],
      "metadata": {
        "colab": {
          "base_uri": "https://localhost:8080/",
          "height": 502
        },
        "id": "2FKKKO-cy-WN",
        "outputId": "850e8061-786f-4116-9dc5-5582756d5fde"
      },
      "execution_count": 114,
      "outputs": [
        {
          "output_type": "display_data",
          "data": {
            "text/plain": [
              "<Figure size 576x576 with 1 Axes>"
            ],
            "image/png": "[encoded data removed]"
          },
          "metadata": {}
        }
      ]
    },
    {
      "cell_type": "code",
      "source": [
        "# Feature importance\n",
        "f_imp4 = pd.DataFrame(columns = ['feature', 'importance'], index = range(10))\n",
        "for i in range(len(f_imp4.index)):\n",
        "    f_imp4.iloc[i, 0] = X_train_balanced.columns.to_list()[i]\n",
        "f_imp4['importance'] = ada.feature_importances_\n",
        "f_imp4 = f_imp4.sort_values('importance', ascending = False)\n",
        "f_imp4[0:9].style.background_gradient(cmap = 'Blues')"
      ],
      "metadata": {
        "colab": {
          "base_uri": "https://localhost:8080/",
          "height": 332
        },
        "id": "zmHy7i7UzDfs",
        "outputId": "da084693-2812-40db-a5d9-d8b8933638bb"
      },
      "execution_count": 115,
      "outputs": [
        {
          "output_type": "execute_result",
          "data": {
            "text/plain": [
              "<pandas.io.formats.style.Styler at 0x7fcca878df10>"
            ],
            "text/html": [
              "<style type=\"text/css\">\n",
              "#T_a1311_row0_col1 {\n",
              "  background-color: #08306b;\n",
              "  color: #f1f1f1;\n",
              "}\n",
              "#T_a1311_row1_col1 {\n",
              "  background-color: #083d7f;\n",
              "  color: #f1f1f1;\n",
              "}\n",
              "#T_a1311_row2_col1 {\n",
              "  background-color: #63a8d3;\n",
              "  color: #f1f1f1;\n",
              "}\n",
              "#T_a1311_row3_col1, #T_a1311_row4_col1, #T_a1311_row5_col1 {\n",
              "  background-color: #edf4fc;\n",
              "  color: #000000;\n",
              "}\n",
              "#T_a1311_row6_col1, #T_a1311_row7_col1, #T_a1311_row8_col1 {\n",
              "  background-color: #f7fbff;\n",
              "  color: #000000;\n",
              "}\n",
              "</style>\n",
              "<table id=\"T_a1311_\" class=\"dataframe\">\n",
              "  <thead>\n",
              "    <tr>\n",
              "      <th class=\"blank level0\" >&nbsp;</th>\n",
              "      <th class=\"col_heading level0 col0\" >feature</th>\n",
              "      <th class=\"col_heading level0 col1\" >importance</th>\n",
              "    </tr>\n",
              "  </thead>\n",
              "  <tbody>\n",
              "    <tr>\n",
              "      <th id=\"T_a1311_level0_row0\" class=\"row_heading level0 row0\" >1</th>\n",
              "      <td id=\"T_a1311_row0_col0\" class=\"data row0 col0\" >age</td>\n",
              "      <td id=\"T_a1311_row0_col1\" class=\"data row0 col1\" >0.380000</td>\n",
              "    </tr>\n",
              "    <tr>\n",
              "      <th id=\"T_a1311_level0_row1\" class=\"row_heading level0 row1\" >8</th>\n",
              "      <td id=\"T_a1311_row1_col0\" class=\"data row1 col0\" >bmi</td>\n",
              "      <td id=\"T_a1311_row1_col1\" class=\"data row1 col1\" >0.360000</td>\n",
              "    </tr>\n",
              "    <tr>\n",
              "      <th id=\"T_a1311_level0_row2\" class=\"row_heading level0 row2\" >7</th>\n",
              "      <td id=\"T_a1311_row2_col0\" class=\"data row2 col0\" >avg_glucose_level</td>\n",
              "      <td id=\"T_a1311_row2_col1\" class=\"data row2 col1\" >0.200000</td>\n",
              "    </tr>\n",
              "    <tr>\n",
              "      <th id=\"T_a1311_level0_row3\" class=\"row_heading level0 row3\" >2</th>\n",
              "      <td id=\"T_a1311_row3_col0\" class=\"data row3 col0\" >hypertension</td>\n",
              "      <td id=\"T_a1311_row3_col1\" class=\"data row3 col1\" >0.020000</td>\n",
              "    </tr>\n",
              "    <tr>\n",
              "      <th id=\"T_a1311_level0_row4\" class=\"row_heading level0 row4\" >5</th>\n",
              "      <td id=\"T_a1311_row4_col0\" class=\"data row4 col0\" >work_type</td>\n",
              "      <td id=\"T_a1311_row4_col1\" class=\"data row4 col1\" >0.020000</td>\n",
              "    </tr>\n",
              "    <tr>\n",
              "      <th id=\"T_a1311_level0_row5\" class=\"row_heading level0 row5\" >9</th>\n",
              "      <td id=\"T_a1311_row5_col0\" class=\"data row5 col0\" >smoking_status</td>\n",
              "      <td id=\"T_a1311_row5_col1\" class=\"data row5 col1\" >0.020000</td>\n",
              "    </tr>\n",
              "    <tr>\n",
              "      <th id=\"T_a1311_level0_row6\" class=\"row_heading level0 row6\" >0</th>\n",
              "      <td id=\"T_a1311_row6_col0\" class=\"data row6 col0\" >gender</td>\n",
              "      <td id=\"T_a1311_row6_col1\" class=\"data row6 col1\" >0.000000</td>\n",
              "    </tr>\n",
              "    <tr>\n",
              "      <th id=\"T_a1311_level0_row7\" class=\"row_heading level0 row7\" >3</th>\n",
              "      <td id=\"T_a1311_row7_col0\" class=\"data row7 col0\" >heart_disease</td>\n",
              "      <td id=\"T_a1311_row7_col1\" class=\"data row7 col1\" >0.000000</td>\n",
              "    </tr>\n",
              "    <tr>\n",
              "      <th id=\"T_a1311_level0_row8\" class=\"row_heading level0 row8\" >4</th>\n",
              "      <td id=\"T_a1311_row8_col0\" class=\"data row8 col0\" >ever_married</td>\n",
              "      <td id=\"T_a1311_row8_col1\" class=\"data row8 col1\" >0.000000</td>\n",
              "    </tr>\n",
              "  </tbody>\n",
              "</table>\n"
            ]
          },
          "metadata": {},
          "execution_count": 115
        }
      ]
    },
    {
      "cell_type": "markdown",
      "source": [
        "9. XGBoost Classifier Algorithm\n"
      ],
      "metadata": {
        "id": "PJKCj55Gzfj8"
      }
    },
    {
      "cell_type": "code",
      "source": [
        "from xgboost import XGBClassifier\n",
        "xgb = XGBClassifier()"
      ],
      "metadata": {
        "id": "vBc8Efq1hOIG"
      },
      "execution_count": 116,
      "outputs": []
    },
    {
      "cell_type": "code",
      "source": [
        "xgb.fit(X_train_std, Y_train)"
      ],
      "metadata": {
        "colab": {
          "base_uri": "https://localhost:8080/"
        },
        "id": "bydf1DJ8k2Cj",
        "outputId": "0d7d84e6-d5cc-49ed-848d-e7d26da90804"
      },
      "execution_count": 117,
      "outputs": [
        {
          "output_type": "execute_result",
          "data": {
            "text/plain": [
              "XGBClassifier()"
            ]
          },
          "metadata": {},
          "execution_count": 117
        }
      ]
    },
    {
      "cell_type": "code",
      "source": [
        "Y_pred = xgb.predict(X_test_std)\n",
        "Y_pred"
      ],
      "metadata": {
        "colab": {
          "base_uri": "https://localhost:8080/"
        },
        "id": "HgEsfClnlLz4",
        "outputId": "21d3c3e9-341a-4050-b90b-a3c21b89b77b"
      },
      "execution_count": 118,
      "outputs": [
        {
          "output_type": "execute_result",
          "data": {
            "text/plain": [
              "array([0, 0, 0, ..., 0, 0, 0])"
            ]
          },
          "metadata": {},
          "execution_count": 118
        }
      ]
    },
    {
      "cell_type": "code",
      "source": [
        "Y_prob = xgb.predict_proba(X_test_std)[:,1]\n",
        "Y_prob"
      ],
      "metadata": {
        "colab": {
          "base_uri": "https://localhost:8080/"
        },
        "id": "chsiZhHHlRj1",
        "outputId": "9668970e-cebf-41c2-f7cc-37ff3bad7f2e"
      },
      "execution_count": 119,
      "outputs": [
        {
          "output_type": "execute_result",
          "data": {
            "text/plain": [
              "array([0.13137202, 0.05694525, 0.05073785, ..., 0.04890248, 0.00208961,\n",
              "       0.00115566], dtype=float32)"
            ]
          },
          "metadata": {},
          "execution_count": 119
        }
      ]
    },
    {
      "cell_type": "code",
      "source": [
        "acc_xgb = accuracy_score(Y_test, Y_pred)\n",
        "result = print(f\"the accuracy is: {acc_xgb * 100}%\")"
      ],
      "metadata": {
        "colab": {
          "base_uri": "https://localhost:8080/"
        },
        "id": "Sx0gv8cRlXjT",
        "outputId": "a659d950-4fcd-4bc8-bd66-13cf5751cd72"
      },
      "execution_count": 120,
      "outputs": [
        {
          "output_type": "stream",
          "name": "stdout",
          "text": [
            "the accuracy is: 95.49902152641879%\n"
          ]
        }
      ]
    },
    {
      "cell_type": "code",
      "source": [
        "results.iloc[0, 8] = round(precision_score(Y_test, Y_pred), 2)\n",
        "results.iloc[1, 8] = round(recall_score(Y_test, Y_pred), 2)\n",
        "results.iloc[2, 8] = round(f1_score(Y_test, Y_pred), 2)\n",
        "results.iloc[3, 8] = round(roc_auc_score(Y_test, Y_prob), 3)\n",
        "xgb_cm = confusion_matrix(Y_test, Y_pred)\n",
        "\n",
        "print(classification_report(Y_test, Y_pred))"
      ],
      "metadata": {
        "colab": {
          "base_uri": "https://localhost:8080/"
        },
        "id": "BbHGZ77omAs-",
        "outputId": "4749f0f9-a065-475e-cf9a-39597c89d21a"
      },
      "execution_count": 121,
      "outputs": [
        {
          "output_type": "stream",
          "name": "stdout",
          "text": [
            "              precision    recall  f1-score   support\n",
            "\n",
            "           0       0.95      1.00      0.98      1464\n",
            "           1       0.00      0.00      0.00        69\n",
            "\n",
            "    accuracy                           0.95      1533\n",
            "   macro avg       0.48      0.50      0.49      1533\n",
            "weighted avg       0.91      0.95      0.93      1533\n",
            "\n"
          ]
        }
      ]
    },
    {
      "cell_type": "code",
      "source": [
        "print(f'ROC AUC score: {round(roc_auc_score(Y_test, Y_prob), 3)}')\n",
        "print('-----------------------------------------------------')\n",
        "print('Cross-validation scores with 5 folds:')\n",
        "print('')\n",
        "print(f\"ROC AUC: {round(cross_val_score(xgb, X_train_balanced, Y_train_balanced, cv = 5, scoring = 'roc_auc').mean(), 3)}\")\n",
        "print(f\"precision: {round(cross_val_score(xgb, X_train_balanced, Y_train_balanced, cv = 5, scoring = 'precision').mean(), 2)}\")\n",
        "print(f\"recall: {round(cross_val_score(xgb, X_train_balanced, Y_train_balanced, cv = 5, scoring = 'recall').mean(), 2)}\")\n",
        "print(f\"f1: {round(cross_val_score(xgb, X_train_balanced, Y_train_balanced, cv = 5, scoring = 'f1').mean(), 2)}\")\n"
      ],
      "metadata": {
        "colab": {
          "base_uri": "https://localhost:8080/"
        },
        "id": "sodVEJNHmFXn",
        "outputId": "f95d0c20-f9ee-49aa-c021-e2d4e78962ea"
      },
      "execution_count": 122,
      "outputs": [
        {
          "output_type": "stream",
          "name": "stdout",
          "text": [
            "ROC AUC score: 0.863\n",
            "-----------------------------------------------------\n",
            "Cross-validation scores with 5 folds:\n",
            "\n",
            "ROC AUC: 0.948\n",
            "precision: 0.84\n",
            "recall: 0.92\n",
            "f1: 0.88\n"
          ]
        }
      ]
    },
    {
      "cell_type": "code",
      "source": [
        "# Visualize confusion matrix\n",
        "plt.figure(figsize = (8, 5))\n",
        "sns.heatmap(xgb_cm, cmap = 'Reds', annot = True, fmt = 'd', linewidths = 5, cbar = False, annot_kws = {'fontsize': 15}, \n",
        "            yticklabels = ['No stroke', 'Stroke'], xticklabels = ['Predicted no stroke', 'Predicted stroke'])\n",
        "plt.yticks(rotation = 0)\n",
        "\n",
        "plt.show()"
      ],
      "metadata": {
        "colab": {
          "base_uri": "https://localhost:8080/",
          "height": 322
        },
        "id": "WdbpPXwimSnp",
        "outputId": "07bf5ac4-3dc0-4d2c-c50c-647a56edcd4d"
      },
      "execution_count": 123,
      "outputs": [
        {
          "output_type": "display_data",
          "data": {
            "text/plain": [
              "<Figure size 576x360 with 1 Axes>"
            ],
            "image/png": "[encoded data removed]"
          },
          "metadata": {}
        }
      ]
    },
    {
      "cell_type": "code",
      "source": [
        "# Roc curve\n",
        "false_positive_rate, true_positive_rate, thresholds = roc_curve(Y_test, Y_prob)\n",
        "roc_auc = auc(false_positive_rate, true_positive_rate)\n",
        "\n",
        "sns.set_theme(style = 'white')\n",
        "plt.figure(figsize = (8, 8))\n",
        "plt.plot(false_positive_rate,true_positive_rate, color = '#b01717', label = 'AUC = %0.3f' % roc_auc)\n",
        "plt.legend(loc = 'lower right')\n",
        "plt.plot([0, 1], [0, 1], linestyle = '--', color = '#174ab0')\n",
        "plt.axis('tight')\n",
        "plt.ylabel('True Positive Rate')\n",
        "plt.xlabel('False Positive Rate')\n",
        "plt.show()"
      ],
      "metadata": {
        "colab": {
          "base_uri": "https://localhost:8080/",
          "height": 502
        },
        "id": "GxEWUr6umWIq",
        "outputId": "af911f3b-524c-4973-a48d-4fd52895f4b4"
      },
      "execution_count": 124,
      "outputs": [
        {
          "output_type": "display_data",
          "data": {
            "text/plain": [
              "<Figure size 576x576 with 1 Axes>"
            ],
            "image/png": "[encoded data removed]"
          },
          "metadata": {}
        }
      ]
    },
    {
      "cell_type": "code",
      "source": [
        "# Feature importance\n",
        "f_imp5 = pd.DataFrame(columns = ['feature', 'importance'], index = range(10))\n",
        "for i in range(len(f_imp5.index)):\n",
        "    f_imp5.iloc[i, 0] = X_train_balanced.columns.to_list()[i]\n",
        "f_imp5['importance'] = xgb.feature_importances_\n",
        "f_imp5 = f_imp5.sort_values('importance', ascending = False)\n",
        "f_imp5[0:9].style.background_gradient(cmap = 'Blues')\n"
      ],
      "metadata": {
        "colab": {
          "base_uri": "https://localhost:8080/",
          "height": 332
        },
        "id": "YsYKSmwFme_x",
        "outputId": "367956ca-5708-4c98-9f62-217e9f5ca29e"
      },
      "execution_count": 125,
      "outputs": [
        {
          "output_type": "execute_result",
          "data": {
            "text/plain": [
              "<pandas.io.formats.style.Styler at 0x7fcc9636c250>"
            ],
            "text/html": [
              "<style type=\"text/css\">\n",
              "#T_59c3a_row0_col1 {\n",
              "  background-color: #08306b;\n",
              "  color: #f1f1f1;\n",
              "}\n",
              "#T_59c3a_row1_col1 {\n",
              "  background-color: #3989c1;\n",
              "  color: #f1f1f1;\n",
              "}\n",
              "#T_59c3a_row2_col1 {\n",
              "  background-color: #b0d2e7;\n",
              "  color: #000000;\n",
              "}\n",
              "#T_59c3a_row3_col1 {\n",
              "  background-color: #e4eff9;\n",
              "  color: #000000;\n",
              "}\n",
              "#T_59c3a_row4_col1 {\n",
              "  background-color: #eaf2fb;\n",
              "  color: #000000;\n",
              "}\n",
              "#T_59c3a_row5_col1 {\n",
              "  background-color: #edf4fc;\n",
              "  color: #000000;\n",
              "}\n",
              "#T_59c3a_row6_col1 {\n",
              "  background-color: #f3f8fe;\n",
              "  color: #000000;\n",
              "}\n",
              "#T_59c3a_row7_col1 {\n",
              "  background-color: #f4f9fe;\n",
              "  color: #000000;\n",
              "}\n",
              "#T_59c3a_row8_col1 {\n",
              "  background-color: #f7fbff;\n",
              "  color: #000000;\n",
              "}\n",
              "</style>\n",
              "<table id=\"T_59c3a_\" class=\"dataframe\">\n",
              "  <thead>\n",
              "    <tr>\n",
              "      <th class=\"blank level0\" >&nbsp;</th>\n",
              "      <th class=\"col_heading level0 col0\" >feature</th>\n",
              "      <th class=\"col_heading level0 col1\" >importance</th>\n",
              "    </tr>\n",
              "  </thead>\n",
              "  <tbody>\n",
              "    <tr>\n",
              "      <th id=\"T_59c3a_level0_row0\" class=\"row_heading level0 row0\" >1</th>\n",
              "      <td id=\"T_59c3a_row0_col0\" class=\"data row0 col0\" >age</td>\n",
              "      <td id=\"T_59c3a_row0_col1\" class=\"data row0 col1\" >0.242825</td>\n",
              "    </tr>\n",
              "    <tr>\n",
              "      <th id=\"T_59c3a_level0_row1\" class=\"row_heading level0 row1\" >3</th>\n",
              "      <td id=\"T_59c3a_row1_col0\" class=\"data row1 col0\" >heart_disease</td>\n",
              "      <td id=\"T_59c3a_row1_col1\" class=\"data row1 col1\" >0.179855</td>\n",
              "    </tr>\n",
              "    <tr>\n",
              "      <th id=\"T_59c3a_level0_row2\" class=\"row_heading level0 row2\" >2</th>\n",
              "      <td id=\"T_59c3a_row2_col0\" class=\"data row2 col0\" >hypertension</td>\n",
              "      <td id=\"T_59c3a_row2_col1\" class=\"data row2 col1\" >0.117398</td>\n",
              "    </tr>\n",
              "    <tr>\n",
              "      <th id=\"T_59c3a_level0_row3\" class=\"row_heading level0 row3\" >7</th>\n",
              "      <td id=\"T_59c3a_row3_col0\" class=\"data row3 col0\" >avg_glucose_level</td>\n",
              "      <td id=\"T_59c3a_row3_col1\" class=\"data row3 col1\" >0.076611</td>\n",
              "    </tr>\n",
              "    <tr>\n",
              "      <th id=\"T_59c3a_level0_row4\" class=\"row_heading level0 row4\" >0</th>\n",
              "      <td id=\"T_59c3a_row4_col0\" class=\"data row4 col0\" >gender</td>\n",
              "      <td id=\"T_59c3a_row4_col1\" class=\"data row4 col1\" >0.071928</td>\n",
              "    </tr>\n",
              "    <tr>\n",
              "      <th id=\"T_59c3a_level0_row5\" class=\"row_heading level0 row5\" >9</th>\n",
              "      <td id=\"T_59c3a_row5_col0\" class=\"data row5 col0\" >smoking_status</td>\n",
              "      <td id=\"T_59c3a_row5_col1\" class=\"data row5 col1\" >0.069040</td>\n",
              "    </tr>\n",
              "    <tr>\n",
              "      <th id=\"T_59c3a_level0_row6\" class=\"row_heading level0 row6\" >8</th>\n",
              "      <td id=\"T_59c3a_row6_col0\" class=\"data row6 col0\" >bmi</td>\n",
              "      <td id=\"T_59c3a_row6_col1\" class=\"data row6 col1\" >0.062823</td>\n",
              "    </tr>\n",
              "    <tr>\n",
              "      <th id=\"T_59c3a_level0_row7\" class=\"row_heading level0 row7\" >6</th>\n",
              "      <td id=\"T_59c3a_row7_col0\" class=\"data row7 col0\" >Residence_type</td>\n",
              "      <td id=\"T_59c3a_row7_col1\" class=\"data row7 col1\" >0.062390</td>\n",
              "    </tr>\n",
              "    <tr>\n",
              "      <th id=\"T_59c3a_level0_row8\" class=\"row_heading level0 row8\" >4</th>\n",
              "      <td id=\"T_59c3a_row8_col0\" class=\"data row8 col0\" >ever_married</td>\n",
              "      <td id=\"T_59c3a_row8_col1\" class=\"data row8 col1\" >0.059035</td>\n",
              "    </tr>\n",
              "  </tbody>\n",
              "</table>\n"
            ]
          },
          "metadata": {},
          "execution_count": 125
        }
      ]
    },
    {
      "cell_type": "markdown",
      "source": [
        "#Inference"
      ],
      "metadata": {
        "id": "dAzF_KrmpeUg"
      }
    },
    {
      "cell_type": "code",
      "source": [
        "#Accuracy Score\n",
        "res = pd.DataFrame([[\"Decision Tree\", acc_dt], [\"Logistic Regression\", acc_lr], [\" K-Nearest Neighbour\",acc_knn], [\"Random Forest\", acc_rfc], [\"Support Vector Machine(SVM)\", acc_svc_rbf], [\"Gaussian Naive-Bayes\", acc_gnb], [\"Stochastic Gradient Descent(SGD)\", acc_sgd_model], [\"AdaBoost Classifier\", acc_ada], [\"XGBoost Classifier\", acc_xgb]],\n",
        "                       columns = [\"Models\", \"Accuracy Score\"]).sort_values(by = 'Accuracy Score', ascending = False)\n",
        "\n",
        "res.style.background_gradient(cmap = 'Blues')\n"
      ],
      "metadata": {
        "colab": {
          "base_uri": "https://localhost:8080/",
          "height": 332
        },
        "id": "cYX4_3NSpgrt",
        "outputId": "634aaaff-d6ad-48de-b37e-92a76e5ad2cb"
      },
      "execution_count": 126,
      "outputs": [
        {
          "output_type": "execute_result",
          "data": {
            "text/plain": [
              "<pandas.io.formats.style.Styler at 0x7fcc963868d0>"
            ],
            "text/html": [
              "<style type=\"text/css\">\n",
              "#T_52276_row0_col1, #T_52276_row1_col1, #T_52276_row2_col1, #T_52276_row3_col1, #T_52276_row4_col1 {\n",
              "  background-color: #08306b;\n",
              "  color: #f1f1f1;\n",
              "}\n",
              "#T_52276_row5_col1 {\n",
              "  background-color: #083370;\n",
              "  color: #f1f1f1;\n",
              "}\n",
              "#T_52276_row6_col1 {\n",
              "  background-color: #083b7c;\n",
              "  color: #f1f1f1;\n",
              "}\n",
              "#T_52276_row7_col1 {\n",
              "  background-color: #6aaed6;\n",
              "  color: #f1f1f1;\n",
              "}\n",
              "#T_52276_row8_col1 {\n",
              "  background-color: #f7fbff;\n",
              "  color: #000000;\n",
              "}\n",
              "</style>\n",
              "<table id=\"T_52276_\" class=\"dataframe\">\n",
              "  <thead>\n",
              "    <tr>\n",
              "      <th class=\"blank level0\" >&nbsp;</th>\n",
              "      <th class=\"col_heading level0 col0\" >Models</th>\n",
              "      <th class=\"col_heading level0 col1\" >Accuracy Score</th>\n",
              "    </tr>\n",
              "  </thead>\n",
              "  <tbody>\n",
              "    <tr>\n",
              "      <th id=\"T_52276_level0_row0\" class=\"row_heading level0 row0\" >1</th>\n",
              "      <td id=\"T_52276_row0_col0\" class=\"data row0 col0\" >Logistic Regression</td>\n",
              "      <td id=\"T_52276_row0_col1\" class=\"data row0 col1\" >0.954990</td>\n",
              "    </tr>\n",
              "    <tr>\n",
              "      <th id=\"T_52276_level0_row1\" class=\"row_heading level0 row1\" >2</th>\n",
              "      <td id=\"T_52276_row1_col0\" class=\"data row1 col0\" > K-Nearest Neighbour</td>\n",
              "      <td id=\"T_52276_row1_col1\" class=\"data row1 col1\" >0.954990</td>\n",
              "    </tr>\n",
              "    <tr>\n",
              "      <th id=\"T_52276_level0_row2\" class=\"row_heading level0 row2\" >4</th>\n",
              "      <td id=\"T_52276_row2_col0\" class=\"data row2 col0\" >Support Vector Machine(SVM)</td>\n",
              "      <td id=\"T_52276_row2_col1\" class=\"data row2 col1\" >0.954990</td>\n",
              "    </tr>\n",
              "    <tr>\n",
              "      <th id=\"T_52276_level0_row3\" class=\"row_heading level0 row3\" >6</th>\n",
              "      <td id=\"T_52276_row3_col0\" class=\"data row3 col0\" >Stochastic Gradient Descent(SGD)</td>\n",
              "      <td id=\"T_52276_row3_col1\" class=\"data row3 col1\" >0.954990</td>\n",
              "    </tr>\n",
              "    <tr>\n",
              "      <th id=\"T_52276_level0_row4\" class=\"row_heading level0 row4\" >8</th>\n",
              "      <td id=\"T_52276_row4_col0\" class=\"data row4 col0\" >XGBoost Classifier</td>\n",
              "      <td id=\"T_52276_row4_col1\" class=\"data row4 col1\" >0.954990</td>\n",
              "    </tr>\n",
              "    <tr>\n",
              "      <th id=\"T_52276_level0_row5\" class=\"row_heading level0 row5\" >3</th>\n",
              "      <td id=\"T_52276_row5_col0\" class=\"data row5 col0\" >Random Forest</td>\n",
              "      <td id=\"T_52276_row5_col1\" class=\"data row5 col1\" >0.953686</td>\n",
              "    </tr>\n",
              "    <tr>\n",
              "      <th id=\"T_52276_level0_row6\" class=\"row_heading level0 row6\" >7</th>\n",
              "      <td id=\"T_52276_row6_col0\" class=\"data row6 col0\" >AdaBoost Classifier</td>\n",
              "      <td id=\"T_52276_row6_col1\" class=\"data row6 col1\" >0.951076</td>\n",
              "    </tr>\n",
              "    <tr>\n",
              "      <th id=\"T_52276_level0_row7\" class=\"row_heading level0 row7\" >0</th>\n",
              "      <td id=\"T_52276_row7_col0\" class=\"data row7 col0\" >Decision Tree</td>\n",
              "      <td id=\"T_52276_row7_col1\" class=\"data row7 col1\" >0.909980</td>\n",
              "    </tr>\n",
              "    <tr>\n",
              "      <th id=\"T_52276_level0_row8\" class=\"row_heading level0 row8\" >5</th>\n",
              "      <td id=\"T_52276_row8_col0\" class=\"data row8 col0\" >Gaussian Naive-Bayes</td>\n",
              "      <td id=\"T_52276_row8_col1\" class=\"data row8 col1\" >0.864971</td>\n",
              "    </tr>\n",
              "  </tbody>\n",
              "</table>\n"
            ]
          },
          "metadata": {},
          "execution_count": 126
        }
      ]
    },
    {
      "cell_type": "code",
      "source": [
        "#Accuracy Plotting\n",
        "Performance = pd.DataFrame(\n",
        "    data = {\n",
        "        'Model': ['DT', 'LR', 'KNN','RF', 'SVM', 'GNB', 'SGD', 'ADA', 'XGB'], \n",
        "        'Score': [acc_dt, acc_lr, acc_knn, acc_rfc, acc_svc_rbf, acc_gnb, acc_sgd_model, acc_ada, acc_xgb]\n",
        "    }\n",
        ")\n",
        "\n",
        "plt.figure(figsize=(10, 7))\n",
        "sns.barplot(x=\"Model\", y=\"Score\", data= Performance, palette=\"summer\")\n",
        "plt.title('Performance analysis of different classifiers')\n",
        "plt.show()\n"
      ],
      "metadata": {
        "colab": {
          "base_uri": "https://localhost:8080/",
          "height": 464
        },
        "id": "49WJdWLoz_Yl",
        "outputId": "f16e1887-5281-4b2b-db9e-0c2fe6e7f195"
      },
      "execution_count": 127,
      "outputs": [
        {
          "output_type": "display_data",
          "data": {
            "text/plain": [
              "<Figure size 720x504 with 1 Axes>"
            ],
            "image/png": "[encoded data removed]"
          },
          "metadata": {}
        }
      ]
    },
    {
      "cell_type": "code",
      "source": [
        "plt.figure(figsize = (10, 7))\n",
        "sns.heatmap(results[results.columns.to_list()].astype(float), cmap = 'Blues', annot = True, linewidths = 1, cbar = False, annot_kws = {'fontsize': 12},\n",
        "           yticklabels = ['Precision', 'Recall', 'F1', 'ROC AUC'])\n",
        "sns.set(font_scale = 1.5)\n",
        "plt.yticks(rotation = 0)\n",
        "plt.show()"
      ],
      "metadata": {
        "colab": {
          "base_uri": "https://localhost:8080/",
          "height": 432
        },
        "id": "bXYxnHi0yswn",
        "outputId": "a0f2b9bd-4a40-4412-c01d-d1d9b914cba1"
      },
      "execution_count": 128,
      "outputs": [
        {
          "output_type": "display_data",
          "data": {
            "text/plain": [
              "<Figure size 720x504 with 1 Axes>"
            ],
            "image/png": "[encoded data removed]"
          },
          "metadata": {}
        }
      ]
    },
    {
      "cell_type": "markdown",
      "source": [
        "#Saving the best Model"
      ],
      "metadata": {
        "id": "lohm0WQ26Y7M"
      }
    },
    {
      "cell_type": "code",
      "source": [
        "import pickle\n",
        "model = r\"/content/drive/MyDrive/Stroke_Dataset/bestmodel.sav\"\n",
        "pickle.dump(xgb, open(model, 'wb'))\n"
      ],
      "metadata": {
        "id": "9Dx1VJX96bL0"
      },
      "execution_count": 130,
      "outputs": []
    }
  ]
}